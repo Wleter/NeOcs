{
 "cells": [
  {
   "cell_type": "code",
   "execution_count": 1,
   "metadata": {},
   "outputs": [],
   "source": [
    "import split_op as split\n",
    "import numpy as np\n",
    "from scipy.special import roots_legendre, lpmv\n",
    "from tqdm import tqdm\n",
    "\n",
    "from potential import load_potential\n",
    "import os\n",
    "\n",
    "data_path = \"data/\"\n",
    "if not os.path.exists(data_path):\n",
    "    os.makedirs(data_path)\n",
    "\n",
    "CM_INV = 4.55633e-6\n",
    "KELVIN = 3.1668105e-6\n",
    "U = 1822.88839\n",
    "\n",
    "def centrifugal(r_points, j_tot: int, omega: int, mass_u: float):\n",
    "    return (j_tot * (j_tot + 1) - 2 * omega * omega) / (2 * mass_u * U * np.power(r_points, 2))\n",
    "\n",
    "class Potential:\n",
    "    def __init__(self, r_o, r_c, r_s, d6_o, d6_c, d6_s, re_o, re_c, re_s, alpha):\n",
    "        self.r_o = r_o\n",
    "        self.r_c = r_c\n",
    "        self.r_s = r_s\n",
    "        self.d6_o = d6_o\n",
    "        self.d6_c = d6_c\n",
    "        self.d6_s = d6_s\n",
    "        self.re_o = re_o\n",
    "        self.re_c = re_c\n",
    "        self.re_s = re_s\n",
    "        self.alpha = alpha\n",
    "    \n",
    "    @staticmethod\n",
    "    def default():\n",
    "        return Potential(3.1787, 0.9908, -1.957, \n",
    "                         1.09853700e-5, 2.35435928e-04, 7.63334226e-05, \n",
    "                         8.9643377e+00, 9.73677283e+00, 1.02445905e+01, \n",
    "                         1.23674328e+02)\n",
    "\n",
    "    def value(self, r, theta):\n",
    "        r_o = np.sqrt(r ** 2 + self.r_o ** 2 - 2 * r * self.r_o * np.cos(theta))\n",
    "        r_c = np.sqrt(r ** 2 + self.r_c ** 2 - 2 * r * self.r_c * np.cos(theta))\n",
    "        r_s = np.sqrt(r ** 2 + self.r_s ** 2 - 2 * r * self.r_s * np.cos(theta))\n",
    "\n",
    "        pot_o = self.d6_o * (self.re_o / r_o) ** 6 * ((self.re_o / r_o) ** 6 - 2)\n",
    "        pot_c = self.d6_c * (self.re_c / r_c) ** 6 * ((self.re_c / r_c) ** 6 - 2)\n",
    "        pot_s = self.d6_s * (self.re_s / r_s) ** 6 * ((self.re_s / r_s) ** 6 - 2)\n",
    "\n",
    "        pot_dip = -self.alpha * np.cos(theta) ** 2 / (r ** 6)\n",
    "\n",
    "        return pot_o + pot_c + pot_s + pot_dip"
   ]
  },
  {
   "cell_type": "code",
   "execution_count": 2,
   "metadata": {},
   "outputs": [
    {
     "data": {
      "text/plain": [
       "<matplotlib.contour.QuadContourSet at 0x25a8ab446d0>"
      ]
     },
     "execution_count": 2,
     "metadata": {},
     "output_type": "execute_result"
    },
    {
     "data": {
      "image/png": "[encoded data removed]",
      "text/plain": [
       "<Figure size 640x480 with 1 Axes>"
      ]
     },
     "metadata": {},
     "output_type": "display_data"
    }
   ],
   "source": [
    "import matplotlib.pyplot as plt\n",
    "\n",
    "r = np.linspace(8, 20, 300)\n",
    "theta = np.linspace(0, np.pi, 100)\n",
    "\n",
    "theta_mesh, r_mesh = np.meshgrid(theta, r, indexing=\"ij\")\n",
    "potential_array = Potential.default().value(r_mesh, theta_mesh) / CM_INV\n",
    "\n",
    "potential_array = np.clip(potential_array, -1000, 100)\n",
    "\n",
    "fig, ax = plt.subplots()\n",
    "ax.contourf(r, theta, potential_array, levels=50)"
   ]
  },
  {
   "cell_type": "code",
   "execution_count": 3,
   "metadata": {},
   "outputs": [],
   "source": [
    "from typing import Callable\n",
    "\n",
    "def prepare(j_init: int, \n",
    "    omega_init: int, \n",
    "    j_tot: int, \n",
    "    time_step: float = 200, \n",
    "    steps_no: float = 300, \n",
    "    r_start: float = 50 / 1024, \n",
    "    r_end: float = 50, \n",
    "    r_no: int = 1024, \n",
    "    polar_no: int = 160, \n",
    "    mass_u: float = 15.1052848671,\n",
    "    energy_kelvin: float = 3700, \n",
    "    rot_const = 9.243165268327e-7,\n",
    "    wave_r0: float = 30,\n",
    "    wave_r_sigma: float = 0.6,\n",
    "    animation: bool = False,\n",
    "    frames: int = 60,\n",
    "    wave_prefix: str = \"force_field\",\n",
    "    potential: Potential = Potential.default(),\n",
    "    potential_path = \"potentials/\",\n",
    "    transform_xpi: Callable[[float, float], float] = None,\n",
    "    transform_bsigma: Callable[[float, float], float] = None,\n",
    "    transform_api: Callable[[float, float], float] = None,\n",
    ") -> split.Propagation:\n",
    "    \"\"\"\n",
    "    Prepares the split operator propagation of the Ne OCS problem.\n",
    "\n",
    "    :j_init: initial angular momentum of the OCS molecule\n",
    "    :omega_init: initial body fixed projection of the OCS angular momentum equal to projection of the total angular momentum\n",
    "    :j_tot: total angular momentum of the system\n",
    "    :time_step: time step in the Hartree units of the propagation step\n",
    "    :steps_no: number of steps in the propagation\n",
    "    :r_start: starting value of the radial grid\n",
    "    :r_end: ending value of the radial grid\n",
    "    :r_no: number of points of the radial grid\n",
    "    :polar_no: number of points of the angular grid\n",
    "    :mass_u: reduced mass of the Ne OCS in u units\n",
    "    :energy_kelvin: energy of the collision in Kelvin units\n",
    "    :rot_const: rotational constant of the OCS molecule in Hartree units\n",
    "    :wave_r0: initial radial position of the wave funciton\n",
    "    :wave_r_sigma: initial radial width of the wave funciton\n",
    "    :animation: whether to save animations of the wave function\n",
    "    :frames: number of frames of the animation\n",
    "    :wave_prefix: prefix of the wave animation filename to be saved\n",
    "    :potential: Potential force field form\n",
    "    :potential_path: path to the potential data\n",
    "    :transform_xpi: custom transformation to the XPi gamma potential\n",
    "    :transform_bsigma: custom transformation to the BSigma gamma potential\n",
    "    :transform_api: custom transformation to the APi gamma potential\n",
    "    \"\"\"\n",
    "\n",
    "    assert j_tot >= omega_init\n",
    "    assert j_init >= omega_init\n",
    "\n",
    "    ############################ grids, wave function creation ################################\n",
    "    \n",
    "    time_grid = split.TimeGrid(time_step, steps_no)\n",
    "    r_grid = split.Grid.linear_continuos(\"r\", r_start, r_end, r_no, 0)\n",
    "    \n",
    "    polar_points, weights = roots_legendre(polar_no)\n",
    "    polar_points = np.flip(np.arccos(polar_points))\n",
    "    weights = np.flip(weights)\n",
    "    \n",
    "    polar_grid = split.Grid.custom(\"theta\", polar_points, weights, 1)\n",
    "\n",
    "    r_points = np.array(r_grid.points())\n",
    "    momentum = np.sqrt(2 * mass_u * U * energy_kelvin * KELVIN)\n",
    "\n",
    "    wave_r_init = np.array([split.gaussian_distribution(r_points[i], wave_r0, wave_r_sigma, momentum) for i in range(r_no)])\n",
    "    wave_polar_init = lpmv(omega_init, j_init, np.cos(polar_points))\n",
    "\n",
    "    wave_init = np.outer(wave_r_init, wave_polar_init)\n",
    "    wave_function = split.WaveFunction(wave_init.flatten(), [r_grid, polar_grid])\n",
    "\n",
    "    ############################ operation creation ################################\n",
    "\n",
    "    r_mesh, polar_mesh = np.meshgrid(r_points, polar_points, indexing=\"ij\")\n",
    "\n",
    "    potential_array = potential.value(r_mesh, polar_mesh)\n",
    "\n",
    "    centrifugal_potential = centrifugal(r_points, j_tot, omega_init, mass_u)\n",
    "    centrifugal_potential = np.broadcast_to(np.expand_dims(centrifugal_potential, 1), (r_no, polar_no))\n",
    "\n",
    "    bsigma_gamma = load_potential(potential_path, \"BSigma_gamma.dat\", r_grid, polar_grid, 5, 5, True)\n",
    "    if transform_bsigma is not None:\n",
    "        bsigma_gamma = np.multiply(bsigma_gamma, transform_bsigma(r_mesh, polar_mesh))\n",
    "\n",
    "    api_gamma = load_potential(potential_path, \"APi_gamma.dat\", r_grid, polar_grid, 5, 5, True)\n",
    "    if transform_api is not None:\n",
    "        api_gamma = np.multiply(api_gamma, transform_api(r_mesh, polar_mesh))\n",
    "\n",
    "    potential_array = potential_array + centrifugal_potential + complex(0, -0.5) * (bsigma_gamma + api_gamma)\n",
    "    potential_with_bsigma_prop = split.complex_n_dim_into_propagator(potential_array.shape, potential_array.flatten(), time_grid)\n",
    "\n",
    "    loss_checker = split.LossChecker.new_with_saver(\"bsigma\", frames, f\"{wave_prefix}_bsigma\", time_grid) if animation else split.LossChecker(\"bsigma\")\n",
    "    potential_with_bsigma_prop.set_loss_checked(loss_checker)\n",
    "\n",
    "    xpi_gamma = load_potential(potential_path, \"XPi_gamma.dat\", r_grid, polar_grid, 5, 3, True)\n",
    "    if transform_xpi is not None:\n",
    "        xpi_gamma = np.multiply(xpi_gamma, transform_xpi(r_mesh, polar_mesh))\n",
    "\n",
    "    xpi_gamma = complex(0, -0.5) * xpi_gamma\n",
    "    xpi_gamma_prop = split.complex_n_dim_into_propagator(xpi_gamma.shape, xpi_gamma.flatten(), time_grid)\n",
    "    \n",
    "    loss_checker = split.LossChecker.new_with_saver(\"xpi\", frames, f\"{wave_prefix}_xpi\", time_grid) if animation else split.LossChecker(\"xpi\")\n",
    "    xpi_gamma_prop.set_loss_checked(loss_checker)\n",
    "\n",
    "    leak_control = split.LeakControl(split.LossChecker(\"leak control\"))\n",
    "    dumping_border = split.BorderDumping(5., 1., r_grid)\n",
    "\n",
    "    angular_transformation = split.associated_legendre_transformation(polar_grid, omega_init)\n",
    "\n",
    "    shape, angular_kinetic_op = split.rotational_hamiltonian(r_grid, polar_grid, mass_u, rot_const)\n",
    "    angular_prop = split.n_dim_into_propagator(shape, angular_kinetic_op, time_grid)\n",
    "\n",
    "    fft_transformation = split.FFTTransformation(r_grid, \"r momentum\")\n",
    "\n",
    "    kinetic_op = split.kinetic_hamiltonian(r_grid, mass_u, energy_kelvin)\n",
    "    kinetic_prop = split.one_dim_into_propagator(kinetic_op, r_grid, time_grid, step = \"full\")\n",
    "\n",
    "    ################################ populating operation stack ####################################\n",
    "\n",
    "    operation_stack = split.OperationStack()\n",
    "    potential_with_bsigma_prop.add_operation(operation_stack)\n",
    "    xpi_gamma_prop.add_operation(operation_stack)\n",
    "\n",
    "    if animation:\n",
    "        wave_saver = split.WaveFunctionSaver(data_path, f\"{wave_prefix}_wave_animation\", time_grid, r_grid, polar_grid, frames)\n",
    "        wave_saver.add_operation(operation_stack)\n",
    "\n",
    "        polar_saver = split.StateSaver(data_path, f\"{wave_prefix}_polar_animation\", time_grid, polar_grid, frames)\n",
    "        polar_saver.add_operation(operation_stack)\n",
    "\n",
    "    dumping_border.add_operation(operation_stack)\n",
    "    leak_control.add_operation(operation_stack)\n",
    "\n",
    "    angular_transformation.add_operation(operation_stack, True)\n",
    "\n",
    "    if animation:\n",
    "        angular_grid = angular_transformation.transformed_grid()\n",
    "        wave_legendre_saver = split.StateSaver(data_path, f\"{wave_prefix}_angular_animation\", time_grid, angular_grid, frames)\n",
    "        wave_legendre_saver.add_operation(operation_stack)\n",
    "\n",
    "    angular_prop.add_operation(operation_stack)\n",
    "\n",
    "    fft_transformation.add_operation(operation_stack, True)\n",
    "    kinetic_prop.add_operation(operation_stack)\n",
    "\n",
    "    ################################ propagation creation ####################################\n",
    "\n",
    "    propagation = split.Propagation()\n",
    "    propagation.set_wave_function(wave_function)\n",
    "    propagation.set_time_grid(time_grid)\n",
    "    propagation.set_operation_stack(operation_stack)\n",
    "\n",
    "    return propagation\n",
    "\n",
    "def default_value(name: str):\n",
    "    import inspect\n",
    "\n",
    "    return inspect.signature(prepare).parameters.get(name).default\n",
    "\n",
    "class CumulativeLosses:\n",
    "    def __init__(self, j_init: int, energy_kelvin: float = default_value(\"energy_kelvin\")) -> None:\n",
    "        self.bsigma_losses = []\n",
    "        self.xpi_losses = []\n",
    "\n",
    "        self.j_totals = [j_init + np.ceil(i * 5.5 * np.sqrt(energy_kelvin / 2000)) for i in range(50)]\n",
    "    \n",
    "    def extract_loss(self, propagation: split.Propagation) -> None:\n",
    "        losses = propagation.get_losses()\n",
    "\n",
    "        self.bsigma_losses.append(losses[0])\n",
    "        self.xpi_losses.append(losses[1])\n",
    "\n",
    "    def save_losses(self, filename: str) -> None:\n",
    "        combined = np.vstack((self.j_totals, self.bsigma_losses, self.xpi_losses)).transpose()\n",
    "        np.savetxt(f\"{data_path}{filename}.dat\", combined, delimiter=\" \", header=\"j_total\\tbsigma_loss\\txpi_loss\")"
   ]
  },
  {
   "cell_type": "markdown",
   "metadata": {},
   "source": [
    "# Force Field calculation"
   ]
  },
  {
   "cell_type": "code",
   "execution_count": 4,
   "metadata": {},
   "outputs": [
    {
     "name": "stdout",
     "output_type": "stream",
     "text": [
      "j init: 0, omega init: 0, j_tot: 150\n",
      "j init: 1, omega init: 0, j_tot: 150\n",
      "j init: 1, omega init: 1, j_tot: 150\n"
     ]
    }
   ],
   "source": [
    "print(\"j init: 0, omega init: 0, j_tot: 150\")\n",
    "propagation = prepare(0, 0, 150, animation=True, time_step = 100, steps_no=600, wave_prefix=\"force_field_0_0\", transform_api= lambda a,b: 0, transform_bsigma=lambda a,b: 0, transform_xpi=lambda a,b: 0)\n",
    "\n",
    "propagation.propagate()\n",
    "propagation.get_losses()\n",
    "propagation.save_savers()\n",
    "\n",
    "print(\"j init: 1, omega init: 0, j_tot: 150\")\n",
    "propagation = prepare(1, 0, 150, animation=True, time_step = 100, steps_no=600, wave_prefix=\"force_field_1_0\", transform_api= lambda a,b: 0, transform_bsigma=lambda a,b: 0, transform_xpi=lambda a,b: 0)\n",
    "\n",
    "propagation.propagate()\n",
    "propagation.get_losses()\n",
    "propagation.save_savers()\n",
    "\n",
    "print(\"j init: 1, omega init: 1, j_tot: 150\")\n",
    "propagation = prepare(1, 1, 150, animation=True, time_step = 100, steps_no=600, wave_prefix=\"force_field_1_1\", transform_api= lambda a,b: 0, transform_bsigma=lambda a,b: 0, transform_xpi=lambda a,b: 0)\n",
    "\n",
    "propagation.propagate()\n",
    "propagation.get_losses()\n",
    "propagation.save_savers()"
   ]
  },
  {
   "cell_type": "code",
   "execution_count": 5,
   "metadata": {},
   "outputs": [
    {
     "name": "stderr",
     "output_type": "stream",
     "text": [
      "  0%|          | 0/50 [00:00<?, ?it/s]"
     ]
    },
    {
     "name": "stderr",
     "output_type": "stream",
     "text": [
      "100%|██████████| 50/50 [05:01<00:00,  6.02s/it]\n"
     ]
    }
   ],
   "source": [
    "j_init = 0\n",
    "omega_init = 0\n",
    "energy_kelvin = 3700\n",
    "losses = CumulativeLosses(j_init, energy_kelvin)\n",
    "\n",
    "for j_tot in tqdm(losses.j_totals):\n",
    "    propagation = prepare(j_init, omega_init, j_tot, energy_kelvin=energy_kelvin)\n",
    "    propagation.propagate()\n",
    "    losses.extract_loss(propagation)\n",
    "losses.save_losses(f\"ff_losses_{energy_kelvin}_{j_init}_{omega_init}\")"
   ]
  },
  {
   "cell_type": "code",
   "execution_count": 6,
   "metadata": {},
   "outputs": [
    {
     "name": "stderr",
     "output_type": "stream",
     "text": [
      "100%|██████████| 50/50 [04:54<00:00,  5.88s/it]\n"
     ]
    }
   ],
   "source": [
    "j_init = 1\n",
    "omega_init = 0\n",
    "energy_kelvin = 3700\n",
    "losses = CumulativeLosses(j_init, energy_kelvin)\n",
    "\n",
    "for j_tot in tqdm(losses.j_totals):\n",
    "    propagation = prepare(j_init, omega_init, j_tot, energy_kelvin=energy_kelvin)\n",
    "    propagation.propagate()\n",
    "    losses.extract_loss(propagation)\n",
    "losses.save_losses(f\"ff_losses_{energy_kelvin}_{j_init}_{omega_init}\")"
   ]
  },
  {
   "cell_type": "code",
   "execution_count": 7,
   "metadata": {},
   "outputs": [
    {
     "name": "stderr",
     "output_type": "stream",
     "text": [
      "100%|██████████| 50/50 [03:45<00:00,  4.51s/it]\n"
     ]
    }
   ],
   "source": [
    "j_init = 1\n",
    "omega_init = 1\n",
    "energy_kelvin = 3700\n",
    "losses = CumulativeLosses(j_init, energy_kelvin)\n",
    "\n",
    "for j_tot in tqdm(losses.j_totals):\n",
    "    propagation = prepare(j_init, omega_init, j_tot, energy_kelvin=energy_kelvin)\n",
    "    propagation.propagate()\n",
    "    losses.extract_loss(propagation)\n",
    "losses.save_losses(f\"ff_losses_{energy_kelvin}_{j_init}_{omega_init}\")"
   ]
  },
  {
   "cell_type": "code",
   "execution_count": 4,
   "metadata": {},
   "outputs": [
    {
     "data": {
      "text/plain": [
       "<matplotlib.contour.QuadContourSet at 0x25ab9324f50>"
      ]
     },
     "execution_count": 4,
     "metadata": {},
     "output_type": "execute_result"
    },
    {
     "data": {
      "image/png": "[encoded data removed]",
      "text/plain": [
       "<Figure size 640x480 with 1 Axes>"
      ]
     },
     "metadata": {},
     "output_type": "display_data"
    }
   ],
   "source": [
    "import matplotlib.pyplot as plt\n",
    "\n",
    "r = np.linspace(8, 20, 300)\n",
    "theta = np.linspace(0, np.pi, 100)\n",
    "\n",
    "theta_mesh, r_mesh = np.meshgrid(theta, r, indexing=\"ij\")\n",
    "potential = Potential.default()\n",
    "potential.alpha *= 5\n",
    "\n",
    "potential_array = potential.value(r_mesh, theta_mesh) / CM_INV\n",
    "\n",
    "potential_array = np.clip(potential_array, -1000, 100)\n",
    "\n",
    "fig, ax = plt.subplots()\n",
    "ax.contourf(r, theta, potential_array, levels=50)"
   ]
  },
  {
   "cell_type": "markdown",
   "metadata": {},
   "source": [
    "# Changing potentials"
   ]
  },
  {
   "cell_type": "code",
   "execution_count": 5,
   "metadata": {},
   "outputs": [],
   "source": [
    "scalings = [0.1, 0.2, 0.5, 1, 2, 5, 10]"
   ]
  },
  {
   "cell_type": "markdown",
   "metadata": {},
   "source": [
    "## changing dipole"
   ]
  },
  {
   "cell_type": "code",
   "execution_count": 26,
   "metadata": {},
   "outputs": [
    {
     "name": "stdout",
     "output_type": "stream",
     "text": [
      "dipole scaling 0.001\n"
     ]
    },
    {
     "name": "stderr",
     "output_type": "stream",
     "text": [
      "  0%|          | 0/50 [00:00<?, ?it/s]"
     ]
    },
    {
     "name": "stderr",
     "output_type": "stream",
     "text": [
      "100%|██████████| 50/50 [04:35<00:00,  5.50s/it]\n"
     ]
    },
    {
     "name": "stdout",
     "output_type": "stream",
     "text": [
      "dipole scaling 0.1\n"
     ]
    },
    {
     "name": "stderr",
     "output_type": "stream",
     "text": [
      "100%|██████████| 50/50 [04:36<00:00,  5.52s/it]\n"
     ]
    },
    {
     "name": "stdout",
     "output_type": "stream",
     "text": [
      "dipole scaling 0.2\n"
     ]
    },
    {
     "name": "stderr",
     "output_type": "stream",
     "text": [
      "100%|██████████| 50/50 [04:33<00:00,  5.48s/it]\n"
     ]
    },
    {
     "name": "stdout",
     "output_type": "stream",
     "text": [
      "dipole scaling 0.5\n"
     ]
    },
    {
     "name": "stderr",
     "output_type": "stream",
     "text": [
      "100%|██████████| 50/50 [04:32<00:00,  5.44s/it]\n"
     ]
    },
    {
     "name": "stdout",
     "output_type": "stream",
     "text": [
      "dipole scaling 1\n"
     ]
    },
    {
     "name": "stderr",
     "output_type": "stream",
     "text": [
      "100%|██████████| 50/50 [04:34<00:00,  5.49s/it]\n"
     ]
    },
    {
     "name": "stdout",
     "output_type": "stream",
     "text": [
      "dipole scaling 2\n"
     ]
    },
    {
     "name": "stderr",
     "output_type": "stream",
     "text": [
      "100%|██████████| 50/50 [04:31<00:00,  5.43s/it]\n"
     ]
    },
    {
     "name": "stdout",
     "output_type": "stream",
     "text": [
      "dipole scaling 5\n"
     ]
    },
    {
     "name": "stderr",
     "output_type": "stream",
     "text": [
      "100%|██████████| 50/50 [04:36<00:00,  5.54s/it]\n"
     ]
    },
    {
     "name": "stdout",
     "output_type": "stream",
     "text": [
      "dipole scaling 10\n"
     ]
    },
    {
     "name": "stderr",
     "output_type": "stream",
     "text": [
      "100%|██████████| 50/50 [04:30<00:00,  5.41s/it]\n"
     ]
    },
    {
     "name": "stdout",
     "output_type": "stream",
     "text": [
      "dipole scaling 100\n"
     ]
    },
    {
     "name": "stderr",
     "output_type": "stream",
     "text": [
      " 20%|██        | 10/50 [00:55<03:46,  5.67s/it]"
     ]
    }
   ],
   "source": [
    "for scaling in scalings:\n",
    "    print(\"dipole scaling\", scaling)\n",
    "    potential = Potential.default()\n",
    "    potential.alpha *= scaling\n",
    "\n",
    "    j_init = 0\n",
    "    omega_init = 0\n",
    "    losses = CumulativeLosses(j_init)\n",
    "\n",
    "    for j_tot in tqdm(losses.j_totals):\n",
    "        propagation = prepare(j_init, omega_init, j_tot, potential=potential)\n",
    "        propagation.propagate()\n",
    "        losses.extract_loss(propagation)\n",
    "    losses.save_losses(f\"dipole_scaling_{scaling}_{j_init}_{omega_init}\")\n"
   ]
  },
  {
   "cell_type": "code",
   "execution_count": 6,
   "metadata": {},
   "outputs": [
    {
     "name": "stdout",
     "output_type": "stream",
     "text": [
      "dipole scaling 0.1\n"
     ]
    },
    {
     "name": "stderr",
     "output_type": "stream",
     "text": [
      "100%|██████████| 50/50 [04:33<00:00,  5.47s/it]\n"
     ]
    },
    {
     "name": "stdout",
     "output_type": "stream",
     "text": [
      "dipole scaling 0.2\n"
     ]
    },
    {
     "name": "stderr",
     "output_type": "stream",
     "text": [
      "100%|██████████| 50/50 [04:32<00:00,  5.46s/it]\n"
     ]
    },
    {
     "name": "stdout",
     "output_type": "stream",
     "text": [
      "dipole scaling 0.5\n"
     ]
    },
    {
     "name": "stderr",
     "output_type": "stream",
     "text": [
      "100%|██████████| 50/50 [04:33<00:00,  5.46s/it]\n"
     ]
    },
    {
     "name": "stdout",
     "output_type": "stream",
     "text": [
      "dipole scaling 1\n"
     ]
    },
    {
     "name": "stderr",
     "output_type": "stream",
     "text": [
      "100%|██████████| 50/50 [04:31<00:00,  5.43s/it]\n"
     ]
    },
    {
     "name": "stdout",
     "output_type": "stream",
     "text": [
      "dipole scaling 2\n"
     ]
    },
    {
     "name": "stderr",
     "output_type": "stream",
     "text": [
      "100%|██████████| 50/50 [04:32<00:00,  5.45s/it]\n"
     ]
    },
    {
     "name": "stdout",
     "output_type": "stream",
     "text": [
      "dipole scaling 5\n"
     ]
    },
    {
     "name": "stderr",
     "output_type": "stream",
     "text": [
      "100%|██████████| 50/50 [04:31<00:00,  5.43s/it]\n"
     ]
    },
    {
     "name": "stdout",
     "output_type": "stream",
     "text": [
      "dipole scaling 10\n"
     ]
    },
    {
     "name": "stderr",
     "output_type": "stream",
     "text": [
      "100%|██████████| 50/50 [04:32<00:00,  5.45s/it]\n"
     ]
    }
   ],
   "source": [
    "for scaling in scalings:\n",
    "    print(\"dipole scaling\", scaling)\n",
    "    potential = Potential.default()\n",
    "    potential.alpha *= scaling\n",
    "\n",
    "    j_init = 1\n",
    "    omega_init = 0\n",
    "    losses = CumulativeLosses(j_init)\n",
    "\n",
    "    for j_tot in tqdm(losses.j_totals):\n",
    "        propagation = prepare(j_init, omega_init, j_tot, potential=potential)\n",
    "        propagation.propagate()\n",
    "        losses.extract_loss(propagation)\n",
    "    losses.save_losses(f\"dipole_scaling_{scaling}_{j_init}_{omega_init}\")\n"
   ]
  },
  {
   "cell_type": "code",
   "execution_count": 7,
   "metadata": {},
   "outputs": [
    {
     "name": "stdout",
     "output_type": "stream",
     "text": [
      "dipole scaling 0.1\n"
     ]
    },
    {
     "name": "stderr",
     "output_type": "stream",
     "text": [
      "100%|██████████| 50/50 [03:45<00:00,  4.51s/it]\n"
     ]
    },
    {
     "name": "stdout",
     "output_type": "stream",
     "text": [
      "dipole scaling 0.2\n"
     ]
    },
    {
     "name": "stderr",
     "output_type": "stream",
     "text": [
      "100%|██████████| 50/50 [03:45<00:00,  4.50s/it]\n"
     ]
    },
    {
     "name": "stdout",
     "output_type": "stream",
     "text": [
      "dipole scaling 0.5\n"
     ]
    },
    {
     "name": "stderr",
     "output_type": "stream",
     "text": [
      "100%|██████████| 50/50 [03:47<00:00,  4.54s/it]\n"
     ]
    },
    {
     "name": "stdout",
     "output_type": "stream",
     "text": [
      "dipole scaling 1\n"
     ]
    },
    {
     "name": "stderr",
     "output_type": "stream",
     "text": [
      "100%|██████████| 50/50 [03:46<00:00,  4.53s/it]\n"
     ]
    },
    {
     "name": "stdout",
     "output_type": "stream",
     "text": [
      "dipole scaling 2\n"
     ]
    },
    {
     "name": "stderr",
     "output_type": "stream",
     "text": [
      "100%|██████████| 50/50 [03:35<00:00,  4.31s/it]\n"
     ]
    },
    {
     "name": "stdout",
     "output_type": "stream",
     "text": [
      "dipole scaling 5\n"
     ]
    },
    {
     "name": "stderr",
     "output_type": "stream",
     "text": [
      "100%|██████████| 50/50 [03:35<00:00,  4.32s/it]\n"
     ]
    },
    {
     "name": "stdout",
     "output_type": "stream",
     "text": [
      "dipole scaling 10\n"
     ]
    },
    {
     "name": "stderr",
     "output_type": "stream",
     "text": [
      "100%|██████████| 50/50 [03:37<00:00,  4.35s/it]\n"
     ]
    }
   ],
   "source": [
    "for scaling in scalings:\n",
    "    print(\"dipole scaling\", scaling)\n",
    "    potential = Potential.default()\n",
    "    potential.alpha *= scaling\n",
    "\n",
    "    j_init = 1\n",
    "    omega_init = 1\n",
    "    losses = CumulativeLosses(j_init)\n",
    "\n",
    "    for j_tot in tqdm(losses.j_totals):\n",
    "        propagation = prepare(j_init, omega_init, j_tot, potential=potential)\n",
    "        propagation.propagate()\n",
    "        losses.extract_loss(propagation)\n",
    "    losses.save_losses(f\"dipole_scaling_{scaling}_{j_init}_{omega_init}\")\n"
   ]
  }
 ],
 "metadata": {
  "kernelspec": {
   "display_name": "Python 3",
   "language": "python",
   "name": "python3"
  },
  "language_info": {
   "codemirror_mode": {
    "name": "ipython",
    "version": 3
   },
   "file_extension": ".py",
   "mimetype": "text/x-python",
   "name": "python",
   "nbconvert_exporter": "python",
   "pygments_lexer": "ipython3",
   "version": "3.11.0"
  }
 },
 "nbformat": 4,
 "nbformat_minor": 2
}
