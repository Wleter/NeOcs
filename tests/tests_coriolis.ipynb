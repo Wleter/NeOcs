{
 "cells": [
  {
   "cell_type": "code",
   "execution_count": 1,
   "metadata": {},
   "outputs": [],
   "source": [
    "import sys\n",
    "sys.path.append(\"../\")\n",
    "\n",
    "from utility.potential import *\n",
    "from utility.propagation import *\n",
    "from tqdm import tqdm\n",
    "\n",
    "if not os.path.exists(DATA_PATH):\n",
    "    os.makedirs(DATA_PATH)"
   ]
  },
  {
   "cell_type": "code",
   "execution_count": 2,
   "metadata": {},
   "outputs": [],
   "source": [
    "def default_propagation(save_prefix: str, j_init: int, omega_init: int | SpinOne, j_tot: int) -> Propagation:\n",
    "    propagation = Propagation(save_prefix, j_init, omega_init, j_tot)\n",
    "    propagation.config.coriolis_omega_max = 4 \n",
    "\n",
    "    return propagation"
   ]
  },
  {
   "cell_type": "markdown",
   "metadata": {},
   "source": [
    "# Animations"
   ]
  },
  {
   "cell_type": "code",
   "execution_count": 7,
   "metadata": {},
   "outputs": [
    {
     "name": "stdout",
     "output_type": "stream",
     "text": [
      "j init: 0, omega init: 0, j_tot: 150\n",
      "j init: 1, omega init: 0, j_tot: 150\n",
      "j init: 1, omega init: 1, j_tot: 150\n"
     ]
    }
   ],
   "source": [
    "print(\"j init: 0, omega init: 0, j_tot: 150\")\n",
    "propagation = default_propagation(\"coriolis_0_0\", 0, 0, 150)\n",
    "propagation.config.animation = AnimationConfig.All\n",
    "propagation.provider.transform_gamma = 0.\n",
    "propagation.config.coriolis_omega_max = 49\n",
    "propagation = propagation.into_split()\n",
    "\n",
    "propagation.propagate()\n",
    "propagation.get_losses()\n",
    "propagation.save_savers()\n",
    "\n",
    "print(\"j init: 1, omega init: 0, j_tot: 150\")\n",
    "propagation = default_propagation(\"coriolis_1_0\", 1, 0, 150)\n",
    "propagation.config.animation = AnimationConfig.All\n",
    "propagation.provider.transform_gamma = 0.\n",
    "propagation.config.coriolis_omega_max = 49\n",
    "propagation = propagation.into_split()\n",
    "\n",
    "propagation.propagate()\n",
    "propagation.get_losses()\n",
    "propagation.save_savers()\n",
    "\n",
    "print(\"j init: 1, omega init: 1, j_tot: 150\")\n",
    "propagation = default_propagation(\"coriolis_1_1\", 1, 1, 150)\n",
    "propagation.config.animation = AnimationConfig.All\n",
    "propagation.provider.transform_gamma = 0.\n",
    "propagation.config.coriolis_omega_max = 49\n",
    "propagation = propagation.into_split()\n",
    "\n",
    "propagation.propagate()\n",
    "propagation.get_losses()\n",
    "propagation.save_savers()"
   ]
  },
  {
   "cell_type": "code",
   "execution_count": 3,
   "metadata": {},
   "outputs": [],
   "source": [
    "propagation = default_propagation(\"free_coriolis\", 1, 0, 200)\n",
    "propagation.config.animation = AnimationConfig.All\n",
    "propagation.provider.transform_gamma = 0.\n",
    "propagation.provider.transform_potential = 0.\n",
    "propagation.config.coriolis_omega_max = 1\n",
    "propagation = propagation.into_split()\n",
    "\n",
    "propagation.propagate()\n",
    "propagation.get_losses()\n",
    "propagation.save_savers()"
   ]
  },
  {
   "cell_type": "code",
   "execution_count": 3,
   "metadata": {},
   "outputs": [],
   "source": [
    "def compute_superposition(phase_1, phase_minus_1, suffix, omega_max = 4):\n",
    "    omega_init = SpinOne(1/3, phase_1, 1/3, phase_minus_1)\n",
    "    propagation = default_propagation(f\"coriolis_1_phase_{suffix}\", 1, omega_init, 150)\n",
    "    propagation.config.animation = AnimationConfig.Polar | AnimationConfig.AngProjection\n",
    "    propagation.provider.transform_gamma = 0.\n",
    "    propagation.config.coriolis_omega_max = omega_max\n",
    "    propagation = propagation.into_split()\n",
    "\n",
    "    propagation.propagate()\n",
    "    propagation.get_losses()\n",
    "    propagation.save_savers()"
   ]
  },
  {
   "cell_type": "code",
   "execution_count": 4,
   "metadata": {},
   "outputs": [
    {
     "name": "stdout",
     "output_type": "stream",
     "text": [
      "populating coriolis\n"
     ]
    },
    {
     "name": "stderr",
     "output_type": "stream",
     "text": [
      "100%|██████████| 1024/1024 [00:36<00:00, 28.27it/s]\n"
     ]
    },
    {
     "name": "stdout",
     "output_type": "stream",
     "text": [
      "populating coriolis\n"
     ]
    },
    {
     "name": "stderr",
     "output_type": "stream",
     "text": [
      "100%|██████████| 1024/1024 [00:41<00:00, 24.52it/s]\n"
     ]
    },
    {
     "name": "stdout",
     "output_type": "stream",
     "text": [
      "populating coriolis\n"
     ]
    },
    {
     "name": "stderr",
     "output_type": "stream",
     "text": [
      "100%|██████████| 1024/1024 [00:42<00:00, 24.32it/s]\n"
     ]
    },
    {
     "name": "stdout",
     "output_type": "stream",
     "text": [
      "populating coriolis\n"
     ]
    },
    {
     "name": "stderr",
     "output_type": "stream",
     "text": [
      "100%|██████████| 1024/1024 [00:40<00:00, 25.20it/s]\n"
     ]
    },
    {
     "name": "stdout",
     "output_type": "stream",
     "text": [
      "populating coriolis\n"
     ]
    },
    {
     "name": "stderr",
     "output_type": "stream",
     "text": [
      "100%|██████████| 1024/1024 [00:40<00:00, 25.51it/s]\n"
     ]
    },
    {
     "name": "stdout",
     "output_type": "stream",
     "text": [
      "populating coriolis\n"
     ]
    },
    {
     "name": "stderr",
     "output_type": "stream",
     "text": [
      "100%|██████████| 1024/1024 [00:36<00:00, 28.33it/s]\n"
     ]
    },
    {
     "name": "stdout",
     "output_type": "stream",
     "text": [
      "populating coriolis\n"
     ]
    },
    {
     "name": "stderr",
     "output_type": "stream",
     "text": [
      "100%|██████████| 1024/1024 [00:36<00:00, 28.07it/s]\n"
     ]
    },
    {
     "name": "stdout",
     "output_type": "stream",
     "text": [
      "populating coriolis\n"
     ]
    },
    {
     "name": "stderr",
     "output_type": "stream",
     "text": [
      "100%|██████████| 1024/1024 [00:37<00:00, 27.59it/s]\n"
     ]
    },
    {
     "name": "stdout",
     "output_type": "stream",
     "text": [
      "populating coriolis\n"
     ]
    },
    {
     "name": "stderr",
     "output_type": "stream",
     "text": [
      "100%|██████████| 1024/1024 [00:38<00:00, 26.27it/s]\n"
     ]
    }
   ],
   "source": [
    "compute_superposition(0, 0, \"0_0\")\n",
    "compute_superposition(np.pi, 0, \"pi_0\")\n",
    "compute_superposition(0, np.pi, \"0_pi\")\n",
    "compute_superposition(np.pi, np.pi, \"pi_pi\")\n",
    "compute_superposition(np.pi/2, 0, \"hpi_0\")\n",
    "compute_superposition(0, np.pi/2, \"0_hpi\")\n",
    "compute_superposition(np.pi/2, np.pi/2, \"hpi_hpi\")\n",
    "compute_superposition(np.pi, np.pi/2, \"pi_hpi\")\n",
    "compute_superposition(np.pi/2, np.pi, \"hpi_pi\")"
   ]
  },
  {
   "cell_type": "code",
   "execution_count": 4,
   "metadata": {},
   "outputs": [
    {
     "name": "stdout",
     "output_type": "stream",
     "text": [
      "populating coriolis\n"
     ]
    },
    {
     "name": "stderr",
     "output_type": "stream",
     "text": [
      "100%|██████████| 1024/1024 [00:22<00:00, 45.40it/s]\n"
     ]
    },
    {
     "name": "stdout",
     "output_type": "stream",
     "text": [
      "populating coriolis\n"
     ]
    },
    {
     "name": "stderr",
     "output_type": "stream",
     "text": [
      "100%|██████████| 1024/1024 [00:30<00:00, 33.64it/s]\n"
     ]
    },
    {
     "name": "stdout",
     "output_type": "stream",
     "text": [
      "populating coriolis\n"
     ]
    },
    {
     "name": "stderr",
     "output_type": "stream",
     "text": [
      "100%|██████████| 1024/1024 [01:01<00:00, 16.63it/s]\n"
     ]
    },
    {
     "name": "stdout",
     "output_type": "stream",
     "text": [
      "populating coriolis\n"
     ]
    },
    {
     "name": "stderr",
     "output_type": "stream",
     "text": [
      "100%|██████████| 1024/1024 [04:35<00:00,  3.72it/s]\n"
     ]
    }
   ],
   "source": [
    "for omega_max in [1, 4, 10, 20]:\n",
    "    compute_superposition(0, 0, f\"0_0_omega_max_{omega_max}\", omega_max=omega_max)"
   ]
  },
  {
   "cell_type": "markdown",
   "metadata": {},
   "source": [
    "# Single losses"
   ]
  },
  {
   "cell_type": "code",
   "execution_count": 3,
   "metadata": {},
   "outputs": [
    {
     "name": "stdout",
     "output_type": "stream",
     "text": [
      "j init: 0, omega init: 0, j_tot: 0\n",
      "[0.18949809258435846, 0.07631859937973784]\n",
      "j init: 1, omega init: 0, j_tot: 1\n",
      "[0.24269727220961246, 0.07029796121983534]\n",
      "j init: 1, omega init: 1, j_tot: 1\n",
      "[0.16289946681036382, 0.07933036011344008]\n"
     ]
    }
   ],
   "source": [
    "print(\"j init: 0, omega init: 0, j_tot: 0\")\n",
    "propagation = default_propagation(\"coriolis\", 0, 0, 0)\n",
    "propagation = propagation.into_split()\n",
    "propagation.propagate()\n",
    "print(propagation.get_losses())\n",
    "\n",
    "print(\"j init: 1, omega init: 0, j_tot: 0\")\n",
    "propagation = default_propagation(\"coriolis\", 1, 0, 0)\n",
    "propagation = propagation.into_split()\n",
    "propagation.propagate()\n",
    "print(propagation.get_losses())\n",
    "\n",
    "print(\"j init: 1, omega init: 1, j_tot: 1\")\n",
    "propagation = default_propagation(\"coriolis\", 1, 1, 1)\n",
    "propagation = propagation.into_split()\n",
    "propagation.propagate()\n",
    "print(propagation.get_losses())"
   ]
  },
  {
   "cell_type": "markdown",
   "metadata": {},
   "source": [
    "# Cross sections"
   ]
  },
  {
   "cell_type": "code",
   "execution_count": 4,
   "metadata": {},
   "outputs": [],
   "source": [
    "def calc_losses(j_init: int, omega_init: int | SpinOne, omega_max: int):\n",
    "    losses = CumulativeLosses(j_init)\n",
    "\n",
    "    for j_tot in tqdm(losses.j_totals):\n",
    "        propagation = default_propagation(\"coriolis\", j_init, omega_init, j_tot)\n",
    "        propagation.config.coriolis_omega_max = omega_max\n",
    "        propagation = propagation.into_split()\n",
    "\n",
    "        propagation.propagate()\n",
    "        losses.extract_loss(propagation)\n",
    "        \n",
    "    losses.save_losses(f\"coriolis_losses_omega_max_{omega_max}_{j_init}_{omega_init}\")"
   ]
  },
  {
   "cell_type": "code",
   "execution_count": 5,
   "metadata": {},
   "outputs": [
    {
     "name": "stderr",
     "output_type": "stream",
     "text": [
      "100%|██████████| 50/50 [08:43<00:00, 10.47s/it]\n",
      "100%|██████████| 50/50 [08:39<00:00, 10.39s/it]\n",
      "100%|██████████| 50/50 [08:39<00:00, 10.39s/it]\n",
      "100%|██████████| 50/50 [08:39<00:00, 10.40s/it]\n"
     ]
    }
   ],
   "source": [
    "calc_losses(0, 0, 1)\n",
    "calc_losses(1, 0, 1)\n",
    "calc_losses(1, 1, 1)\n",
    "calc_losses(1, SpinOne(1/3, 0, 1/3, 0), 1)"
   ]
  },
  {
   "cell_type": "code",
   "execution_count": 6,
   "metadata": {},
   "outputs": [
    {
     "name": "stderr",
     "output_type": "stream",
     "text": [
      "100%|██████████| 50/50 [09:49<00:00, 11.78s/it]\n",
      "100%|██████████| 50/50 [09:49<00:00, 11.78s/it]\n",
      "100%|██████████| 50/50 [09:48<00:00, 11.78s/it]\n",
      "100%|██████████| 50/50 [09:48<00:00, 11.78s/it]\n"
     ]
    }
   ],
   "source": [
    "calc_losses(0, 0, 2)\n",
    "calc_losses(1, 0, 2)\n",
    "calc_losses(1, 1, 2)\n",
    "calc_losses(1, SpinOne(1/3, 0, 1/3, 0), 2)"
   ]
  },
  {
   "cell_type": "code",
   "execution_count": 7,
   "metadata": {},
   "outputs": [
    {
     "name": "stderr",
     "output_type": "stream",
     "text": [
      "100%|██████████| 50/50 [11:49<00:00, 14.20s/it]\n",
      "100%|██████████| 50/50 [11:49<00:00, 14.19s/it]\n",
      "100%|██████████| 50/50 [11:49<00:00, 14.20s/it]\n",
      "100%|██████████| 50/50 [11:49<00:00, 14.18s/it]\n"
     ]
    }
   ],
   "source": [
    "calc_losses(0, 0, 4)\n",
    "calc_losses(1, 0, 4)\n",
    "calc_losses(1, 1, 4)\n",
    "calc_losses(1, SpinOne(1/3, 0, 1/3, 0), 4)"
   ]
  },
  {
   "cell_type": "code",
   "execution_count": 8,
   "metadata": {},
   "outputs": [
    {
     "name": "stderr",
     "output_type": "stream",
     "text": [
      "100%|██████████| 50/50 [14:56<00:00, 17.92s/it]\n",
      "100%|██████████| 50/50 [14:57<00:00, 17.94s/it]\n",
      "100%|██████████| 50/50 [14:56<00:00, 17.94s/it]\n",
      "100%|██████████| 50/50 [14:57<00:00, 17.95s/it]\n"
     ]
    }
   ],
   "source": [
    "calc_losses(0, 0, 8)\n",
    "calc_losses(1, 0, 8)\n",
    "calc_losses(1, 1, 8)\n",
    "calc_losses(1, SpinOne(1/3, 0, 1/3, 0), 8)"
   ]
  }
 ],
 "metadata": {
  "kernelspec": {
   "display_name": "Python 3",
   "language": "python",
   "name": "python3"
  },
  "language_info": {
   "codemirror_mode": {
    "name": "ipython",
    "version": 3
   },
   "file_extension": ".py",
   "mimetype": "text/x-python",
   "name": "python",
   "nbconvert_exporter": "python",
   "pygments_lexer": "ipython3",
   "version": "3.12.0"
  }
 },
 "nbformat": 4,
 "nbformat_minor": 2
}
