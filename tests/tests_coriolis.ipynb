{
 "cells": [
  {
   "cell_type": "code",
   "execution_count": 1,
   "metadata": {},
   "outputs": [],
   "source": [
    "from common import *\n",
    "from analysis.potential import load_potential\n",
    "\n",
    "if not os.path.exists(data_path):\n",
    "    os.makedirs(data_path)"
   ]
  },
  {
   "cell_type": "code",
   "execution_count": 2,
   "metadata": {},
   "outputs": [],
   "source": [
    "from dataclasses import dataclass\n",
    "from typing import Callable, Optional\n",
    "\n",
    "@dataclass\n",
    "class SpinOne:\n",
    "    population_1: float\n",
    "    phase_proj_1: float\n",
    "    population_minus_1: float\n",
    "    phase_proj_minus_1: float\n",
    "\n",
    "def prepare(j_init: int,\n",
    "    omega_init: int | SpinOne,\n",
    "    j_tot: int,\n",
    "    time_step: float = 200,\n",
    "    steps_no: float = 300,\n",
    "    r_start: float = 50 / 1024,\n",
    "    r_end: float = 50,\n",
    "    r_no: int = 1024,\n",
    "    polar_no: int = 160, \n",
    "    omega_max: int = 4,\n",
    "    mass_u: float = 15.1052848671,\n",
    "    energy_kelvin: float = 3700, \n",
    "    rot_const = 9.243165268327e-7,\n",
    "    wave_r0: float = 30,\n",
    "    wave_r_sigma: float = 0.6,\n",
    "    animation: AnimationConfig = AnimationConfig.No,\n",
    "    frames: int = 60,\n",
    "    wave_prefix: str = \"coriolis\",\n",
    "    potential_path = \"potentials/\",\n",
    "    transform_xpi: Optional[Callable[[Floating, Floating], Floating]] = None,\n",
    "    transform_bsigma: Optional[Callable[[Floating, Floating], Floating]] = None,\n",
    "    transform_api: Optional[Callable[[Floating, Floating], Floating]] = None,\n",
    "    transform_potential: Optional[Callable[[Floating, Floating], Floating]] = None,\n",
    ") -> split.Propagation:\n",
    "    \"\"\"\n",
    "    Prepares the split operator propagation of the Ne OCS problem.\n",
    "\n",
    "    :j_init: initial angular momentum of the OCS molecule\n",
    "    :omega_init: initial body fixed projection of the OCS angular momentum equal to projection of the total angular momentum\n",
    "    :j_tot: total angular momentum of the system\n",
    "    :time_step: time step in the Hartree units of the propagation step\n",
    "    :steps_no: number of steps in the propagation\n",
    "    :r_start: starting value of the radial grid\n",
    "    :r_end: ending value of the radial grid\n",
    "    :r_no: number of points of the radial grid\n",
    "    :polar_no: number of points of the angular grid\n",
    "    :omega_max: maximum value of omega in the grid\n",
    "    :mass_u: reduced mass of the Ne OCS in u units\n",
    "    :energy_kelvin: energy of the collision in Kelvin units\n",
    "    :rot_const: rotational constant of the OCS molecule in Hartree units\n",
    "    :wave_r0: initial radial position of the wave funciton\n",
    "    :wave_r_sigma: initial radial width of the wave funciton\n",
    "    :animation: whether to save animations of the wave function\n",
    "    :frames: number of frames of the animation\n",
    "    :wave_prefix: prefix of the wave animation filename to be saved\n",
    "    :wave_legendre_prefix: prefix of the wave animation in the legendre basis filename to be saved\n",
    "    :potential_path: path to the potential data\n",
    "    :transform_xpi: custom transformation to the XPi gamma potential\n",
    "    :transform_bsigma: custom transformation to the BSigma gamma potential\n",
    "    :transform_api: custom transformation to the APi gamma potential\n",
    "    :transform_potential: custom transformation to the interatomic potential\n",
    "    \"\"\"\n",
    "\n",
    "    match omega_init:\n",
    "        case int():\n",
    "            assert j_tot >= omega_init\n",
    "            assert j_init >= omega_init\n",
    "        case SpinOne():\n",
    "            assert j_tot >= 1\n",
    "            assert j_init == 1\n",
    "        case _:\n",
    "            raise Exception\n",
    "\n",
    "    omega_max = min(omega_max, j_tot)\n",
    "\n",
    "    ############################ grids, wave function creation ################################\n",
    "    \n",
    "    time_grid = split.TimeGrid(time_step, steps_no)\n",
    "    r_grid = split.Grid.linear_continuos(\"r\", r_start, r_end, r_no, 0)\n",
    "    \n",
    "    polar_points, weights = roots_legendre(polar_no)\n",
    "    polar_points = np.flip(np.arccos(polar_points))\n",
    "    weights = np.flip(weights)\n",
    "    \n",
    "    polar_grid = split.Grid.custom(\"theta\", polar_points, weights, 1)\n",
    "\n",
    "    omega_no = 2 * omega_max + 1\n",
    "    omega_shift = omega_max\n",
    "    omega_dim_nr = 2\n",
    "    omega_grid = split.Grid.linear_countable(\"omega\", -omega_max, omega_max, omega_no, omega_dim_nr)\n",
    "\n",
    "    r_points = np.array(r_grid.points())\n",
    "    momentum = np.sqrt(2 * mass_u * U * energy_kelvin * KELVIN)\n",
    "\n",
    "    wave_r_init = np.array([split.gaussian_distribution(r_points[i], wave_r0, wave_r_sigma, momentum) for i in range(r_no)])\n",
    "\n",
    "    wave_full_init = np.zeros((r_no, polar_no, omega_no), dtype=complex)\n",
    "    match omega_init:\n",
    "        case int():\n",
    "            wave_polar_init = lpmv(omega_init, j_init, np.cos(polar_points))\n",
    "            wave_init = np.outer(wave_r_init, wave_polar_init)\n",
    "            wave_full_init[:, :, omega_shift+omega_init] = wave_init\n",
    "        case SpinOne():\n",
    "            population_zero = 1 - omega_init.population_1 - omega_init.population_minus_1\n",
    "            wave_polar_init = np.sqrt(3 / 2 * population_zero) * lpmv(0, 1, np.cos(polar_points))\n",
    "            wave_init = np.outer(wave_r_init, wave_polar_init)\n",
    "            wave_full_init[:, :, omega_shift] = wave_init\n",
    "\n",
    "            wave_polar_init = np.sqrt(3 / 4 * omega_init.population_1) * lpmv(1, 1, np.cos(polar_points))\n",
    "            wave_init = np.outer(wave_r_init, wave_polar_init)\n",
    "            wave_full_init[:, :, omega_shift+1] = wave_init * np.exp(1j * omega_init.phase_proj_1)\n",
    "\n",
    "            wave_polar_init = np.sqrt(3 * omega_init.population_minus_1) * lpmv(-1, 1, np.cos(polar_points))\n",
    "            wave_init = np.outer(wave_r_init, wave_polar_init)\n",
    "            wave_full_init[:, :, omega_shift-1] = wave_init * np.exp(1j * omega_init.phase_proj_minus_1)\n",
    "\n",
    "    wave_function = split.WaveFunction(wave_full_init.flatten(), [r_grid, polar_grid, omega_grid])\n",
    "\n",
    "    ############################ operation creation ################################\n",
    "\n",
    "    r_mesh, polar_mesh = np.meshgrid(r_points, polar_points, indexing=\"ij\")\n",
    "\n",
    "    potential_ab = np.zeros_like(wave_full_init)\n",
    "    potential_xpi = np.zeros_like(wave_full_init)\n",
    "\n",
    "    potential = load_potential(potential_path, \"potential.dat\", r_grid, polar_grid, 5, 5, False)\n",
    "    if transform_potential is not None:\n",
    "        potential = np.multiply(potential, transform_potential(r_mesh, polar_mesh))\n",
    "\n",
    "    bsigma_gamma = load_potential(potential_path, \"BSigma_gamma.dat\", r_grid, polar_grid, 5, 5, True)\n",
    "    if transform_bsigma is not None:\n",
    "        bsigma_gamma = np.multiply(bsigma_gamma, transform_bsigma(r_mesh, polar_mesh))\n",
    "\n",
    "    api_gamma = load_potential(potential_path, \"APi_gamma.dat\", r_grid, polar_grid, 5, 5, True)\n",
    "    if transform_api is not None:\n",
    "        api_gamma = np.multiply(api_gamma, transform_api(r_mesh, polar_mesh))\n",
    "\n",
    "    xpi_gamma = load_potential(potential_path, \"XPi_gamma.dat\", r_grid, polar_grid, 5, 3, True)\n",
    "    if transform_xpi is not None:\n",
    "        xpi_gamma = np.multiply(xpi_gamma, transform_xpi(r_mesh, polar_mesh))\n",
    "\n",
    "    for omega in range(-omega_max, omega_max + 1):\n",
    "        centrifugal_potential = centrifugal(r_points, j_tot, omega, mass_u)\n",
    "        centrifugal_potential = np.broadcast_to(np.expand_dims(centrifugal_potential, 1), (r_no, polar_no))\n",
    "        \n",
    "        potential_ab[:, :, omega_shift+omega] = potential + centrifugal_potential + complex(0, -0.5) * (bsigma_gamma + api_gamma)\n",
    "\n",
    "        potential_xpi[:, :, omega_shift+omega] = complex(0, -0.5) * xpi_gamma\n",
    "\n",
    "    potential_with_bsigma_prop = split.complex_n_dim_into_propagator(potential_ab.shape, potential_ab.flatten(), time_grid)\n",
    "\n",
    "    loss_checker = split.LossChecker.new_with_saver(\"bsigma\", frames, f\"{wave_prefix}_bsigma\", time_grid) if animation else split.LossChecker(\"bsigma\")\n",
    "    potential_with_bsigma_prop.set_loss_checked(loss_checker)\n",
    "\n",
    "    xpi_gamma_prop = split.complex_n_dim_into_propagator(potential_xpi.shape, potential_xpi.flatten(), time_grid)\n",
    "    \n",
    "    loss_checker = split.LossChecker.new_with_saver(\"xpi\", frames, f\"{wave_prefix}_xpi\", time_grid) if animation else split.LossChecker(\"xpi\")\n",
    "    xpi_gamma_prop.set_loss_checked(loss_checker)\n",
    "\n",
    "    leak_control = split.LeakControl(split.LossChecker(\"leak control\"))\n",
    "    dumping_border = split.BorderDumping(5., 1., r_grid)\n",
    "\n",
    "    angular_transformation = split.associated_legendre_transformations(polar_grid, omega_grid)\n",
    "\n",
    "    shape, angular_kinetic_op = split.rotational_hamiltonian(r_grid, polar_grid, mass_u, rot_const)\n",
    "    angular_op = np.broadcast_to(np.expand_dims(np.array(angular_kinetic_op).reshape(shape), 2), (r_no, polar_no, omega_no))\n",
    "\n",
    "    angular_prop = split.n_dim_into_propagator(angular_op.shape, angular_op.flatten(), time_grid)\n",
    "\n",
    "    ### coriolis\n",
    "    j_grid = angular_transformation.transformed_grid()\n",
    "    coriolis = split.NonDiagPropagator.get_coriolis(r_grid, j_grid, omega_grid, mass_u, j_tot, time_grid, step=\"half\")\n",
    "    ###\n",
    "\n",
    "    fft_transformation = split.FFTTransformation(r_grid, \"r momentum\")\n",
    "\n",
    "    kinetic_op = split.kinetic_hamiltonian(r_grid, mass_u, energy_kelvin)\n",
    "    kinetic_prop = split.one_dim_into_propagator(kinetic_op, r_grid, time_grid, step = \"full\")\n",
    "\n",
    "    ################################ populating operation stack ####################################\n",
    "\n",
    "    operation_stack = split.OperationStack()\n",
    "    potential_with_bsigma_prop.add_operation(operation_stack)\n",
    "    xpi_gamma_prop.add_operation(operation_stack)\n",
    "\n",
    "    if AnimationConfig.Distance in animation:\n",
    "        wave_saver = split.StateSaver(data_path, f\"{wave_prefix}_distance_animation\", time_grid, r_grid, frames)\n",
    "        wave_saver.add_operation(operation_stack)\n",
    "\n",
    "    if AnimationConfig.Polar in animation:\n",
    "        polar_saver = split.StateSaver(data_path, f\"{wave_prefix}_polar_animation\", time_grid, polar_grid, frames)\n",
    "        polar_saver.add_operation(operation_stack)\n",
    "\n",
    "    if AnimationConfig.AngProjection in animation:\n",
    "        omega_saver = split.StateSaver(data_path, f\"{wave_prefix}_omega_animation\", time_grid, omega_grid, frames)\n",
    "        omega_saver.add_operation(operation_stack)\n",
    "\n",
    "    dumping_border.add_operation(operation_stack)\n",
    "    leak_control.add_operation(operation_stack)\n",
    "\n",
    "    j_grid = angular_transformation.transformed_grid()\n",
    "    angular_transformation.add_operation(operation_stack, True)\n",
    "\n",
    "    if AnimationConfig.Angular in animation:\n",
    "        angular_saver = split.StateSaver(data_path, f\"{wave_prefix}_angular_animation\", time_grid, j_grid, frames)\n",
    "        angular_saver.add_operation(operation_stack)\n",
    "\n",
    "    angular_prop.add_operation(operation_stack)\n",
    "    coriolis.add_operation(operation_stack)\n",
    "\n",
    "    fft_transformation.add_operation(operation_stack, True)\n",
    "    kinetic_prop.add_operation(operation_stack)\n",
    "\n",
    "    ################################ propagation creation ####################################\n",
    "\n",
    "    propagation = split.Propagation()\n",
    "    propagation.set_wave_function(wave_function)\n",
    "    propagation.set_time_grid(time_grid)\n",
    "    propagation.set_operation_stack(operation_stack)\n",
    "\n",
    "    return propagation\n",
    "\n",
    "def default_value(name: str):\n",
    "    import inspect\n",
    "\n",
    "    return inspect.signature(prepare).parameters.get(name).default\n",
    "\n",
    "class CumulativeLosses:\n",
    "    def __init__(self, j_init: int, energy_kelvin: float = default_value(\"energy_kelvin\")) -> None:\n",
    "        self.bsigma_losses = []\n",
    "        self.xpi_losses = []\n",
    "\n",
    "        self.j_totals = [int(j_init + np.ceil(i * 5.5 * np.sqrt(energy_kelvin / 2000))) for i in range(50)]\n",
    "    \n",
    "    def extract_loss(self, propagation: split.Propagation) -> None:\n",
    "        losses = propagation.get_losses()\n",
    "\n",
    "        self.bsigma_losses.append(losses[0])\n",
    "        self.xpi_losses.append(losses[1])\n",
    "\n",
    "    def save_losses(self, filename: str) -> None:\n",
    "        combined = np.vstack((self.j_totals, self.bsigma_losses, self.xpi_losses)).transpose()\n",
    "        np.savetxt(f\"{data_path}{filename}.dat\", combined, delimiter=\" \", header=\"j_total\\tbsigma_loss\\txpi_loss\")"
   ]
  },
  {
   "cell_type": "markdown",
   "metadata": {},
   "source": [
    "# Animations"
   ]
  },
  {
   "cell_type": "code",
   "execution_count": 3,
   "metadata": {},
   "outputs": [
    {
     "name": "stdout",
     "output_type": "stream",
     "text": [
      "j init: 0, omega init: 0, j_tot: 150\n",
      "populating coriolis\n"
     ]
    },
    {
     "name": "stderr",
     "output_type": "stream",
     "text": [
      "100%|██████████| 1024/1024 [00:19<00:00, 52.21it/s]\n"
     ]
    },
    {
     "name": "stdout",
     "output_type": "stream",
     "text": [
      "j init: 1, omega init: 0, j_tot: 150\n",
      "populating coriolis\n"
     ]
    },
    {
     "name": "stderr",
     "output_type": "stream",
     "text": [
      "100%|██████████| 1024/1024 [00:18<00:00, 53.97it/s]\n"
     ]
    },
    {
     "name": "stdout",
     "output_type": "stream",
     "text": [
      "j init: 1, omega init: 1, j_tot: 150\n",
      "populating coriolis\n"
     ]
    },
    {
     "name": "stderr",
     "output_type": "stream",
     "text": [
      "100%|██████████| 1024/1024 [00:18<00:00, 54.92it/s]\n"
     ]
    }
   ],
   "source": [
    "print(\"j init: 0, omega init: 0, j_tot: 150\")\n",
    "propagation = prepare(0, 0, 150, animation=AnimationConfig.All, wave_prefix=\"coriolis_0_0\", transform_api= lambda a,b: 0, transform_bsigma=lambda a,b: 0, transform_xpi=lambda a,b: 0)\n",
    "\n",
    "propagation.propagate()\n",
    "propagation.get_losses()\n",
    "propagation.save_savers()\n",
    "\n",
    "print(\"j init: 1, omega init: 0, j_tot: 150\")\n",
    "propagation = prepare(1, 0, 150, animation=AnimationConfig.All, wave_prefix=\"coriolis_1_0\", transform_api= lambda a,b: 0, transform_bsigma=lambda a,b: 0, transform_xpi=lambda a,b: 0)\n",
    "\n",
    "propagation.propagate()\n",
    "propagation.get_losses()\n",
    "propagation.save_savers()\n",
    "\n",
    "print(\"j init: 1, omega init: 1, j_tot: 150\")\n",
    "propagation = prepare(1, 1, 150, animation=AnimationConfig.All, wave_prefix=\"coriolis_1_1\", transform_api= lambda a,b: 0, transform_bsigma=lambda a,b: 0, transform_xpi=lambda a,b: 0)\n",
    "\n",
    "propagation.propagate()\n",
    "propagation.get_losses()\n",
    "propagation.save_savers()"
   ]
  },
  {
   "cell_type": "code",
   "execution_count": 3,
   "metadata": {},
   "outputs": [
    {
     "name": "stdout",
     "output_type": "stream",
     "text": [
      "populating coriolis\n"
     ]
    },
    {
     "name": "stderr",
     "output_type": "stream",
     "text": [
      " 38%|███▊      | 389/1024 [00:15<00:21, 30.08it/s]"
     ]
    }
   ],
   "source": [
    "propagation = prepare(0, 0, 150, animation=AnimationConfig.Polar | AnimationConfig.AngProjection, wave_prefix=\"coriolis_0\", transform_api= lambda a,b: 0, transform_bsigma=lambda a,b: 0, transform_xpi=lambda a,b: 0)\n",
    "\n",
    "propagation.propagate()\n",
    "propagation.get_losses()\n",
    "propagation.save_savers()"
   ]
  },
  {
   "cell_type": "code",
   "execution_count": 7,
   "metadata": {},
   "outputs": [
    {
     "name": "stdout",
     "output_type": "stream",
     "text": [
      "0.00025610000011511147\n"
     ]
    }
   ],
   "source": [
    "propagation = prepare(1, 0, 200, omega_max=1, animation=AnimationConfig.All, wave_prefix=\"free_coriolis\", transform_potential=lambda a,b: 0, transform_api= lambda a,b: 0, transform_bsigma=lambda a,b: 0, transform_xpi=lambda a,b: 0)\n",
    "\n",
    "propagation.propagate()\n",
    "propagation.get_losses()\n",
    "propagation.save_savers()"
   ]
  },
  {
   "cell_type": "code",
   "execution_count": 3,
   "metadata": {},
   "outputs": [],
   "source": [
    "def omega_1_phase_different(phase_1, phase_minus_1, suffix, omega_max=4):\n",
    "    omega_init = SpinOne(1/3, phase_1, 1/3, phase_minus_1)\n",
    "    propagation = prepare(1, omega_init, 150, omega_max=omega_max, animation=AnimationConfig.Polar | AnimationConfig.AngProjection, wave_prefix=f\"coriolis_1_phase_{suffix}\", transform_api= lambda a,b: 0, transform_bsigma=lambda a,b: 0, transform_xpi=lambda a,b: 0)\n",
    "\n",
    "    propagation.propagate()\n",
    "    propagation.get_losses()\n",
    "    propagation.save_savers()\n",
    "\n",
    "def omega_1_phase_reaction(phase_1, phase_minus_1, suffix):\n",
    "    omega_init = SpinOne(1/3, phase_1, 1/3, phase_minus_1)\n",
    "    propagation = prepare(1, omega_init, 150, wave_prefix=f\"coriolis_1_phase_{suffix}\")\n",
    "\n",
    "    propagation.propagate()\n",
    "    print(propagation.get_losses())"
   ]
  },
  {
   "cell_type": "code",
   "execution_count": 4,
   "metadata": {},
   "outputs": [
    {
     "name": "stdout",
     "output_type": "stream",
     "text": [
      "populating coriolis\n"
     ]
    },
    {
     "name": "stderr",
     "output_type": "stream",
     "text": [
      "100%|██████████| 1024/1024 [00:36<00:00, 28.27it/s]\n"
     ]
    },
    {
     "name": "stdout",
     "output_type": "stream",
     "text": [
      "populating coriolis\n"
     ]
    },
    {
     "name": "stderr",
     "output_type": "stream",
     "text": [
      "100%|██████████| 1024/1024 [00:41<00:00, 24.52it/s]\n"
     ]
    },
    {
     "name": "stdout",
     "output_type": "stream",
     "text": [
      "populating coriolis\n"
     ]
    },
    {
     "name": "stderr",
     "output_type": "stream",
     "text": [
      "100%|██████████| 1024/1024 [00:42<00:00, 24.32it/s]\n"
     ]
    },
    {
     "name": "stdout",
     "output_type": "stream",
     "text": [
      "populating coriolis\n"
     ]
    },
    {
     "name": "stderr",
     "output_type": "stream",
     "text": [
      "100%|██████████| 1024/1024 [00:40<00:00, 25.20it/s]\n"
     ]
    },
    {
     "name": "stdout",
     "output_type": "stream",
     "text": [
      "populating coriolis\n"
     ]
    },
    {
     "name": "stderr",
     "output_type": "stream",
     "text": [
      "100%|██████████| 1024/1024 [00:40<00:00, 25.51it/s]\n"
     ]
    },
    {
     "name": "stdout",
     "output_type": "stream",
     "text": [
      "populating coriolis\n"
     ]
    },
    {
     "name": "stderr",
     "output_type": "stream",
     "text": [
      "100%|██████████| 1024/1024 [00:36<00:00, 28.33it/s]\n"
     ]
    },
    {
     "name": "stdout",
     "output_type": "stream",
     "text": [
      "populating coriolis\n"
     ]
    },
    {
     "name": "stderr",
     "output_type": "stream",
     "text": [
      "100%|██████████| 1024/1024 [00:36<00:00, 28.07it/s]\n"
     ]
    },
    {
     "name": "stdout",
     "output_type": "stream",
     "text": [
      "populating coriolis\n"
     ]
    },
    {
     "name": "stderr",
     "output_type": "stream",
     "text": [
      "100%|██████████| 1024/1024 [00:37<00:00, 27.59it/s]\n"
     ]
    },
    {
     "name": "stdout",
     "output_type": "stream",
     "text": [
      "populating coriolis\n"
     ]
    },
    {
     "name": "stderr",
     "output_type": "stream",
     "text": [
      "100%|██████████| 1024/1024 [00:38<00:00, 26.27it/s]\n"
     ]
    }
   ],
   "source": [
    "omega_1_phase_different(0, 0, \"0_0\")\n",
    "omega_1_phase_different(np.pi, 0, \"pi_0\")\n",
    "omega_1_phase_different(0, np.pi, \"0_pi\")\n",
    "omega_1_phase_different(np.pi, np.pi, \"pi_pi\")\n",
    "omega_1_phase_different(np.pi/2, 0, \"hpi_0\")\n",
    "omega_1_phase_different(0, np.pi/2, \"0_hpi\")\n",
    "omega_1_phase_different(np.pi/2, np.pi/2, \"hpi_hpi\")\n",
    "omega_1_phase_different(np.pi, np.pi/2, \"pi_hpi\")\n",
    "omega_1_phase_different(np.pi/2, np.pi, \"hpi_pi\")"
   ]
  },
  {
   "cell_type": "code",
   "execution_count": 4,
   "metadata": {},
   "outputs": [
    {
     "name": "stdout",
     "output_type": "stream",
     "text": [
      "populating coriolis\n"
     ]
    },
    {
     "name": "stderr",
     "output_type": "stream",
     "text": [
      "100%|██████████| 1024/1024 [00:22<00:00, 45.40it/s]\n"
     ]
    },
    {
     "name": "stdout",
     "output_type": "stream",
     "text": [
      "populating coriolis\n"
     ]
    },
    {
     "name": "stderr",
     "output_type": "stream",
     "text": [
      "100%|██████████| 1024/1024 [00:30<00:00, 33.64it/s]\n"
     ]
    },
    {
     "name": "stdout",
     "output_type": "stream",
     "text": [
      "populating coriolis\n"
     ]
    },
    {
     "name": "stderr",
     "output_type": "stream",
     "text": [
      "100%|██████████| 1024/1024 [01:01<00:00, 16.63it/s]\n"
     ]
    },
    {
     "name": "stdout",
     "output_type": "stream",
     "text": [
      "populating coriolis\n"
     ]
    },
    {
     "name": "stderr",
     "output_type": "stream",
     "text": [
      "100%|██████████| 1024/1024 [04:35<00:00,  3.72it/s]\n"
     ]
    }
   ],
   "source": [
    "for omega_max in [1, 4, 10, 20]:\n",
    "    omega_1_phase_different(0, 0, f\"0_0_omega_max_{omega_max}\", omega_max=omega_max)"
   ]
  },
  {
   "cell_type": "markdown",
   "metadata": {},
   "source": [
    "# Single losses"
   ]
  },
  {
   "cell_type": "code",
   "execution_count": null,
   "metadata": {},
   "outputs": [
    {
     "name": "stdout",
     "output_type": "stream",
     "text": [
      "j init: 0, omega init: 0, j_tot: 150\n",
      "[nan, nan]\n",
      "j init: 1, omega init: 0, j_tot: 150\n"
     ]
    }
   ],
   "source": [
    "print(\"j init: 0, omega init: 0, j_tot: 0\")\n",
    "propagation = prepare(0, 0, 0)\n",
    "propagation.propagate()\n",
    "print(propagation.get_losses())\n",
    "\n",
    "print(\"j init: 1, omega init: 0, j_tot: 1\")\n",
    "propagation = prepare(1, 0, 0)\n",
    "propagation.propagate()\n",
    "print(propagation.get_losses())\n",
    "\n",
    "print(\"j init: 1, omega init: 1, j_tot: 1\")\n",
    "propagation = prepare(1, 1, 1)\n",
    "propagation.propagate()\n",
    "print(propagation.get_losses())"
   ]
  },
  {
   "cell_type": "code",
   "execution_count": null,
   "metadata": {},
   "outputs": [],
   "source": [
    "print(\"j init: 0, omega init: 0, j_tot: 150\")\n",
    "propagation = prepare(0, 0, 150)\n",
    "propagation.propagate()\n",
    "print(propagation.get_losses())\n",
    "\n",
    "omega_1_phase_reaction(0, 0, \"0_0\")\n",
    "omega_1_phase_reaction(np.pi, 0, \"pi_0\")\n",
    "omega_1_phase_reaction(0, np.pi, \"0_pi\")\n",
    "omega_1_phase_reaction(np.pi, np.pi, \"pi_pi\")\n",
    "omega_1_phase_reaction(np.pi/2, 0, \"hpi_0\")\n",
    "omega_1_phase_reaction(0, np.pi/2, \"0_hpi\")\n",
    "omega_1_phase_reaction(np.pi/2, np.pi/2, \"hpi_hpi\")\n",
    "omega_1_phase_reaction(np.pi, np.pi/2, \"pi_hpi\")\n",
    "omega_1_phase_reaction(np.pi/2, np.pi, \"hpi_pi\")"
   ]
  },
  {
   "cell_type": "markdown",
   "metadata": {},
   "source": [
    "# Single cross sections"
   ]
  },
  {
   "cell_type": "code",
   "execution_count": 7,
   "metadata": {},
   "outputs": [
    {
     "name": "stderr",
     "output_type": "stream",
     "text": [
      "100%|██████████| 50/50 [36:19<00:00, 43.60s/it]\n"
     ]
    }
   ],
   "source": [
    "j_init = 0\n",
    "omega_init = 0\n",
    "energy_kelvin = 3700\n",
    "omega_max = 1\n",
    "\n",
    "losses = CumulativeLosses(j_init, energy_kelvin)\n",
    "\n",
    "for j_tot in tqdm(losses.j_totals):\n",
    "    propagation = prepare(j_init, omega_init, j_tot, omega_max=omega_max, energy_kelvin=energy_kelvin)\n",
    "    propagation.propagate()\n",
    "    losses.extract_loss(propagation)\n",
    "losses.save_losses(f\"coriolis_losses_omega_max_{omega_max}_{j_init}_{omega_init}\")"
   ]
  },
  {
   "cell_type": "code",
   "execution_count": 8,
   "metadata": {},
   "outputs": [
    {
     "name": "stderr",
     "output_type": "stream",
     "text": [
      "100%|██████████| 50/50 [36:26<00:00, 43.72s/it]\n"
     ]
    }
   ],
   "source": [
    "j_init = 1\n",
    "omega_init = 0\n",
    "energy_kelvin = 3700\n",
    "omega_max = 1\n",
    "losses = CumulativeLosses(j_init, energy_kelvin)\n",
    "\n",
    "for j_tot in tqdm(losses.j_totals):\n",
    "    propagation = prepare(j_init, omega_init, j_tot, omega_max=omega_max, energy_kelvin=energy_kelvin)\n",
    "    propagation.propagate()\n",
    "    losses.extract_loss(propagation)\n",
    "losses.save_losses(f\"coriolis_losses_omega_max_{omega_max}_{j_init}_{omega_init}\")"
   ]
  },
  {
   "cell_type": "code",
   "execution_count": 5,
   "metadata": {},
   "outputs": [
    {
     "name": "stderr",
     "output_type": "stream",
     "text": [
      "100%|██████████| 50/50 [35:53<00:00, 43.07s/it]\n"
     ]
    }
   ],
   "source": [
    "j_init = 1\n",
    "omega_init = 1\n",
    "energy_kelvin = 3700\n",
    "omega_max = 1\n",
    "losses = CumulativeLosses(j_init, energy_kelvin)\n",
    "\n",
    "for j_tot in tqdm(losses.j_totals):\n",
    "    propagation = prepare(j_init, omega_init, j_tot, omega_max=omega_max, energy_kelvin=energy_kelvin)\n",
    "    propagation.propagate()\n",
    "    losses.extract_loss(propagation)\n",
    "losses.save_losses(f\"coriolis_losses_omega_max_{omega_max}_{j_init}_{omega_init}\")"
   ]
  },
  {
   "cell_type": "code",
   "execution_count": 6,
   "metadata": {},
   "outputs": [
    {
     "name": "stderr",
     "output_type": "stream",
     "text": [
      "100%|██████████| 50/50 [35:41<00:00, 42.82s/it]\n"
     ]
    }
   ],
   "source": [
    "j_init = 1\n",
    "omega_init = SpinOne(1/3, 0, 1/3, 0)\n",
    "energy_kelvin = 3700\n",
    "omega_max = 2\n",
    "losses = CumulativeLosses(j_init, energy_kelvin)\n",
    "\n",
    "for j_tot in tqdm(losses.j_totals):\n",
    "    propagation = prepare(j_init, omega_init, j_tot, omega_max=omega_max, energy_kelvin=energy_kelvin)\n",
    "    propagation.propagate()\n",
    "    losses.extract_loss(propagation)\n",
    "losses.save_losses(f\"coriolis_losses_omega_max_{omega_max}_{j_init}\")"
   ]
  },
  {
   "cell_type": "markdown",
   "metadata": {},
   "source": [
    "# Cross sections - energy dependence "
   ]
  },
  {
   "cell_type": "code",
   "execution_count": 7,
   "metadata": {},
   "outputs": [],
   "source": [
    "energies = [2000, 2500, 3000, 3500, 4000, 4500, 5000]"
   ]
  },
  {
   "cell_type": "code",
   "execution_count": 9,
   "metadata": {},
   "outputs": [
    {
     "name": "stdout",
     "output_type": "stream",
     "text": [
      "energy 100\n"
     ]
    },
    {
     "name": "stderr",
     "output_type": "stream",
     "text": [
      "  4%|▍         | 2/50 [01:05<26:07, 32.66s/it]"
     ]
    }
   ],
   "source": [
    "for energy_kelvin in energies:\n",
    "    print(\"energy\", energy_kelvin)\n",
    "    j_init = 0\n",
    "    omega_init = 0\n",
    "    time_step = default_value(\"time_step\")*np.sqrt(energy_kelvin/default_value(\"energy_kelvin\"))\n",
    "    losses = CumulativeLosses(j_init, energy_kelvin)\n",
    "\n",
    "    for j_tot in tqdm(losses.j_totals):\n",
    "        propagation = prepare(j_init, omega_init, j_tot, energy_kelvin=energy_kelvin, time_step=time_step)\n",
    "        propagation.propagate()\n",
    "        losses.extract_loss(propagation)\n",
    "    losses.save_losses(f\"losses_{energy_kelvin}_{j_init}_{omega_init}\")"
   ]
  },
  {
   "cell_type": "code",
   "execution_count": null,
   "metadata": {},
   "outputs": [
    {
     "name": "stdout",
     "output_type": "stream",
     "text": [
      "energy 100\n"
     ]
    },
    {
     "name": "stderr",
     "output_type": "stream",
     "text": [
      "100%|██████████| 50/50 [04:20<00:00,  5.22s/it]\n"
     ]
    },
    {
     "name": "stdout",
     "output_type": "stream",
     "text": [
      "energy 500\n"
     ]
    },
    {
     "name": "stderr",
     "output_type": "stream",
     "text": [
      "100%|██████████| 50/50 [04:21<00:00,  5.22s/it]\n"
     ]
    },
    {
     "name": "stdout",
     "output_type": "stream",
     "text": [
      "energy 1000\n"
     ]
    },
    {
     "name": "stderr",
     "output_type": "stream",
     "text": [
      "100%|██████████| 50/50 [04:20<00:00,  5.21s/it]\n"
     ]
    },
    {
     "name": "stdout",
     "output_type": "stream",
     "text": [
      "energy 1500\n"
     ]
    },
    {
     "name": "stderr",
     "output_type": "stream",
     "text": [
      "100%|██████████| 50/50 [04:20<00:00,  5.22s/it]\n"
     ]
    },
    {
     "name": "stdout",
     "output_type": "stream",
     "text": [
      "energy 2000\n"
     ]
    },
    {
     "name": "stderr",
     "output_type": "stream",
     "text": [
      "100%|██████████| 50/50 [04:21<00:00,  5.23s/it]\n"
     ]
    },
    {
     "name": "stdout",
     "output_type": "stream",
     "text": [
      "energy 2500\n"
     ]
    },
    {
     "name": "stderr",
     "output_type": "stream",
     "text": [
      "100%|██████████| 50/50 [04:20<00:00,  5.22s/it]\n"
     ]
    },
    {
     "name": "stdout",
     "output_type": "stream",
     "text": [
      "energy 3000\n"
     ]
    },
    {
     "name": "stderr",
     "output_type": "stream",
     "text": [
      "100%|██████████| 50/50 [04:24<00:00,  5.29s/it]\n"
     ]
    },
    {
     "name": "stdout",
     "output_type": "stream",
     "text": [
      "energy 3500\n"
     ]
    },
    {
     "name": "stderr",
     "output_type": "stream",
     "text": [
      "100%|██████████| 50/50 [04:24<00:00,  5.29s/it]\n"
     ]
    },
    {
     "name": "stdout",
     "output_type": "stream",
     "text": [
      "energy 4000\n"
     ]
    },
    {
     "name": "stderr",
     "output_type": "stream",
     "text": [
      "100%|██████████| 50/50 [04:26<00:00,  5.33s/it]\n"
     ]
    },
    {
     "name": "stdout",
     "output_type": "stream",
     "text": [
      "energy 4500\n"
     ]
    },
    {
     "name": "stderr",
     "output_type": "stream",
     "text": [
      "100%|██████████| 50/50 [04:22<00:00,  5.24s/it]\n"
     ]
    },
    {
     "name": "stdout",
     "output_type": "stream",
     "text": [
      "energy 5000\n"
     ]
    },
    {
     "name": "stderr",
     "output_type": "stream",
     "text": [
      "100%|██████████| 50/50 [04:22<00:00,  5.24s/it]\n"
     ]
    }
   ],
   "source": [
    "for energy_kelvin in energies:\n",
    "    print(\"energy\", energy_kelvin)\n",
    "    j_init = 1\n",
    "    omega_init = 0\n",
    "    time_step = default_value(\"time_step\")*np.sqrt(energy_kelvin/default_value(\"energy_kelvin\"))\n",
    "    losses = CumulativeLosses(j_init, energy_kelvin)\n",
    "\n",
    "    for j_tot in tqdm(losses.j_totals):\n",
    "        propagation = prepare(j_init, omega_init, j_tot, energy_kelvin=energy_kelvin, time_step=time_step)\n",
    "        propagation.propagate()\n",
    "        losses.extract_loss(propagation)\n",
    "    losses.save_losses(f\"losses_{energy_kelvin}_{j_init}_{omega_init}\")"
   ]
  },
  {
   "cell_type": "code",
   "execution_count": null,
   "metadata": {},
   "outputs": [
    {
     "name": "stdout",
     "output_type": "stream",
     "text": [
      "energy 100\n"
     ]
    },
    {
     "name": "stderr",
     "output_type": "stream",
     "text": [
      "100%|██████████| 50/50 [03:36<00:00,  4.33s/it]\n"
     ]
    },
    {
     "name": "stdout",
     "output_type": "stream",
     "text": [
      "energy 500\n"
     ]
    },
    {
     "name": "stderr",
     "output_type": "stream",
     "text": [
      "100%|██████████| 50/50 [03:35<00:00,  4.30s/it]\n"
     ]
    },
    {
     "name": "stdout",
     "output_type": "stream",
     "text": [
      "energy 1000\n"
     ]
    },
    {
     "name": "stderr",
     "output_type": "stream",
     "text": [
      "100%|██████████| 50/50 [03:34<00:00,  4.29s/it]\n"
     ]
    },
    {
     "name": "stdout",
     "output_type": "stream",
     "text": [
      "energy 1500\n"
     ]
    },
    {
     "name": "stderr",
     "output_type": "stream",
     "text": [
      "100%|██████████| 50/50 [03:34<00:00,  4.29s/it]\n"
     ]
    },
    {
     "name": "stdout",
     "output_type": "stream",
     "text": [
      "energy 2000\n"
     ]
    },
    {
     "name": "stderr",
     "output_type": "stream",
     "text": [
      "100%|██████████| 50/50 [03:34<00:00,  4.29s/it]\n"
     ]
    },
    {
     "name": "stdout",
     "output_type": "stream",
     "text": [
      "energy 2500\n"
     ]
    },
    {
     "name": "stderr",
     "output_type": "stream",
     "text": [
      "100%|██████████| 50/50 [03:34<00:00,  4.28s/it]\n"
     ]
    },
    {
     "name": "stdout",
     "output_type": "stream",
     "text": [
      "energy 3000\n"
     ]
    },
    {
     "name": "stderr",
     "output_type": "stream",
     "text": [
      "100%|██████████| 50/50 [03:34<00:00,  4.28s/it]\n"
     ]
    },
    {
     "name": "stdout",
     "output_type": "stream",
     "text": [
      "energy 3500\n"
     ]
    },
    {
     "name": "stderr",
     "output_type": "stream",
     "text": [
      "100%|██████████| 50/50 [03:34<00:00,  4.29s/it]\n"
     ]
    },
    {
     "name": "stdout",
     "output_type": "stream",
     "text": [
      "energy 4000\n"
     ]
    },
    {
     "name": "stderr",
     "output_type": "stream",
     "text": [
      "100%|██████████| 50/50 [03:31<00:00,  4.24s/it]\n"
     ]
    },
    {
     "name": "stdout",
     "output_type": "stream",
     "text": [
      "energy 4500\n"
     ]
    },
    {
     "name": "stderr",
     "output_type": "stream",
     "text": [
      "100%|██████████| 50/50 [03:30<00:00,  4.21s/it]\n"
     ]
    },
    {
     "name": "stdout",
     "output_type": "stream",
     "text": [
      "energy 5000\n"
     ]
    },
    {
     "name": "stderr",
     "output_type": "stream",
     "text": [
      "100%|██████████| 50/50 [03:34<00:00,  4.28s/it]\n"
     ]
    }
   ],
   "source": [
    "for energy_kelvin in energies:\n",
    "    print(\"energy\", energy_kelvin)\n",
    "    j_init = 1\n",
    "    omega_init = 1\n",
    "    time_step = default_value(\"time_step\")*np.sqrt(energy_kelvin/default_value(\"energy_kelvin\"))\n",
    "    losses = CumulativeLosses(j_init, energy_kelvin)\n",
    "\n",
    "    for j_tot in tqdm(losses.j_totals):\n",
    "        propagation = prepare(j_init, omega_init, j_tot, energy_kelvin=energy_kelvin, time_step=time_step)\n",
    "        propagation.propagate()\n",
    "        losses.extract_loss(propagation)\n",
    "    losses.save_losses(f\"losses_{energy_kelvin}_{j_init}_{omega_init}\")"
   ]
  },
  {
   "cell_type": "markdown",
   "metadata": {},
   "source": [
    "# Convergences "
   ]
  },
  {
   "cell_type": "markdown",
   "metadata": {},
   "source": [
    "## Time step"
   ]
  },
  {
   "cell_type": "code",
   "execution_count": 14,
   "metadata": {},
   "outputs": [],
   "source": [
    "time_steps = [50, 100, 200, 400, 600, 1000, 2000, 4000, 6000]"
   ]
  },
  {
   "cell_type": "code",
   "execution_count": 15,
   "metadata": {},
   "outputs": [
    {
     "name": "stdout",
     "output_type": "stream",
     "text": [
      "time_step 50\n"
     ]
    },
    {
     "name": "stderr",
     "output_type": "stream",
     "text": [
      "100%|██████████| 50/50 [10:24<00:00, 12.49s/it]\n"
     ]
    },
    {
     "name": "stdout",
     "output_type": "stream",
     "text": [
      "time_step 100\n"
     ]
    },
    {
     "name": "stderr",
     "output_type": "stream",
     "text": [
      "100%|██████████| 50/50 [05:11<00:00,  6.23s/it]\n"
     ]
    },
    {
     "name": "stdout",
     "output_type": "stream",
     "text": [
      "time_step 200\n"
     ]
    },
    {
     "name": "stderr",
     "output_type": "stream",
     "text": [
      "100%|██████████| 50/50 [02:34<00:00,  3.10s/it]\n"
     ]
    },
    {
     "name": "stdout",
     "output_type": "stream",
     "text": [
      "time_step 400\n"
     ]
    },
    {
     "name": "stderr",
     "output_type": "stream",
     "text": [
      "100%|██████████| 50/50 [01:19<00:00,  1.58s/it]\n"
     ]
    },
    {
     "name": "stdout",
     "output_type": "stream",
     "text": [
      "time_step 600\n"
     ]
    },
    {
     "name": "stderr",
     "output_type": "stream",
     "text": [
      "100%|██████████| 50/50 [00:54<00:00,  1.08s/it]\n"
     ]
    },
    {
     "name": "stdout",
     "output_type": "stream",
     "text": [
      "time_step 1000\n"
     ]
    },
    {
     "name": "stderr",
     "output_type": "stream",
     "text": [
      "100%|██████████| 50/50 [00:33<00:00,  1.50it/s]\n"
     ]
    },
    {
     "name": "stdout",
     "output_type": "stream",
     "text": [
      "time_step 2000\n"
     ]
    },
    {
     "name": "stderr",
     "output_type": "stream",
     "text": [
      "100%|██████████| 50/50 [00:27<00:00,  1.80it/s]\n"
     ]
    },
    {
     "name": "stdout",
     "output_type": "stream",
     "text": [
      "time_step 4000\n"
     ]
    },
    {
     "name": "stderr",
     "output_type": "stream",
     "text": [
      "100%|██████████| 50/50 [00:28<00:00,  1.77it/s]\n"
     ]
    },
    {
     "name": "stdout",
     "output_type": "stream",
     "text": [
      "time_step 6000\n"
     ]
    },
    {
     "name": "stderr",
     "output_type": "stream",
     "text": [
      "100%|██████████| 50/50 [00:28<00:00,  1.77it/s]\n"
     ]
    }
   ],
   "source": [
    "for time_step in time_steps:\n",
    "    print(\"time_step\", time_step)\n",
    "    j_init = 0\n",
    "    omega_init = 0\n",
    "    steps_no = max(int(default_value(\"steps_no\") * default_value(\"time_step\") / time_step), 100)\n",
    "    losses = CumulativeLosses(j_init)\n",
    "\n",
    "    for j_tot in tqdm(losses.j_totals):\n",
    "        propagation = prepare(j_init, omega_init, j_tot, time_step=time_step, steps_no=steps_no)\n",
    "        propagation.propagate()\n",
    "        losses.extract_loss(propagation)\n",
    "    losses.save_losses(f\"time_step_{time_step}_{j_init}_{omega_init}\")"
   ]
  },
  {
   "cell_type": "code",
   "execution_count": 16,
   "metadata": {},
   "outputs": [
    {
     "name": "stdout",
     "output_type": "stream",
     "text": [
      "time_step 50\n"
     ]
    },
    {
     "name": "stderr",
     "output_type": "stream",
     "text": [
      "100%|██████████| 50/50 [10:17<00:00, 12.35s/it]\n"
     ]
    },
    {
     "name": "stdout",
     "output_type": "stream",
     "text": [
      "time_step 100\n"
     ]
    },
    {
     "name": "stderr",
     "output_type": "stream",
     "text": [
      "100%|██████████| 50/50 [05:03<00:00,  6.08s/it]\n"
     ]
    },
    {
     "name": "stdout",
     "output_type": "stream",
     "text": [
      "time_step 200\n"
     ]
    },
    {
     "name": "stderr",
     "output_type": "stream",
     "text": [
      "100%|██████████| 50/50 [02:34<00:00,  3.08s/it]\n"
     ]
    },
    {
     "name": "stdout",
     "output_type": "stream",
     "text": [
      "time_step 400\n"
     ]
    },
    {
     "name": "stderr",
     "output_type": "stream",
     "text": [
      "100%|██████████| 50/50 [01:18<00:00,  1.57s/it]\n"
     ]
    },
    {
     "name": "stdout",
     "output_type": "stream",
     "text": [
      "time_step 600\n"
     ]
    },
    {
     "name": "stderr",
     "output_type": "stream",
     "text": [
      "100%|██████████| 50/50 [00:53<00:00,  1.07s/it]\n"
     ]
    },
    {
     "name": "stdout",
     "output_type": "stream",
     "text": [
      "time_step 1000\n"
     ]
    },
    {
     "name": "stderr",
     "output_type": "stream",
     "text": [
      "100%|██████████| 50/50 [00:33<00:00,  1.51it/s]\n"
     ]
    },
    {
     "name": "stdout",
     "output_type": "stream",
     "text": [
      "time_step 2000\n"
     ]
    },
    {
     "name": "stderr",
     "output_type": "stream",
     "text": [
      "100%|██████████| 50/50 [00:28<00:00,  1.76it/s]\n"
     ]
    },
    {
     "name": "stdout",
     "output_type": "stream",
     "text": [
      "time_step 4000\n"
     ]
    },
    {
     "name": "stderr",
     "output_type": "stream",
     "text": [
      "100%|██████████| 50/50 [00:27<00:00,  1.79it/s]\n"
     ]
    },
    {
     "name": "stdout",
     "output_type": "stream",
     "text": [
      "time_step 6000\n"
     ]
    },
    {
     "name": "stderr",
     "output_type": "stream",
     "text": [
      "100%|██████████| 50/50 [00:28<00:00,  1.78it/s]\n"
     ]
    }
   ],
   "source": [
    "for time_step in time_steps:\n",
    "    print(\"time_step\", time_step)\n",
    "    j_init = 1\n",
    "    omega_init = 0\n",
    "    steps_no = max(int(default_value(\"steps_no\") * default_value(\"time_step\") / time_step), 100)\n",
    "    losses = CumulativeLosses(j_init)\n",
    "\n",
    "    for j_tot in tqdm(losses.j_totals):\n",
    "        propagation = prepare(j_init, omega_init, j_tot, time_step=time_step, steps_no=steps_no)\n",
    "        propagation.propagate()\n",
    "        losses.extract_loss(propagation)\n",
    "    losses.save_losses(f\"time_step_{time_step}_{j_init}_{omega_init}\")"
   ]
  },
  {
   "cell_type": "code",
   "execution_count": 17,
   "metadata": {},
   "outputs": [
    {
     "name": "stdout",
     "output_type": "stream",
     "text": [
      "time_step 50\n"
     ]
    },
    {
     "name": "stderr",
     "output_type": "stream",
     "text": [
      "100%|██████████| 50/50 [10:11<00:00, 12.24s/it]\n"
     ]
    },
    {
     "name": "stdout",
     "output_type": "stream",
     "text": [
      "time_step 100\n"
     ]
    },
    {
     "name": "stderr",
     "output_type": "stream",
     "text": [
      "100%|██████████| 50/50 [05:10<00:00,  6.22s/it]\n"
     ]
    },
    {
     "name": "stdout",
     "output_type": "stream",
     "text": [
      "time_step 200\n"
     ]
    },
    {
     "name": "stderr",
     "output_type": "stream",
     "text": [
      "100%|██████████| 50/50 [02:36<00:00,  3.14s/it]\n"
     ]
    },
    {
     "name": "stdout",
     "output_type": "stream",
     "text": [
      "time_step 400\n"
     ]
    },
    {
     "name": "stderr",
     "output_type": "stream",
     "text": [
      "100%|██████████| 50/50 [01:20<00:00,  1.61s/it]\n"
     ]
    },
    {
     "name": "stdout",
     "output_type": "stream",
     "text": [
      "time_step 600\n"
     ]
    },
    {
     "name": "stderr",
     "output_type": "stream",
     "text": [
      "100%|██████████| 50/50 [00:54<00:00,  1.09s/it]\n"
     ]
    },
    {
     "name": "stdout",
     "output_type": "stream",
     "text": [
      "time_step 1000\n"
     ]
    },
    {
     "name": "stderr",
     "output_type": "stream",
     "text": [
      "100%|██████████| 50/50 [00:33<00:00,  1.49it/s]\n"
     ]
    },
    {
     "name": "stdout",
     "output_type": "stream",
     "text": [
      "time_step 2000\n"
     ]
    },
    {
     "name": "stderr",
     "output_type": "stream",
     "text": [
      "100%|██████████| 50/50 [00:30<00:00,  1.66it/s]\n"
     ]
    },
    {
     "name": "stdout",
     "output_type": "stream",
     "text": [
      "time_step 4000\n"
     ]
    },
    {
     "name": "stderr",
     "output_type": "stream",
     "text": [
      "100%|██████████| 50/50 [00:29<00:00,  1.72it/s]\n"
     ]
    },
    {
     "name": "stdout",
     "output_type": "stream",
     "text": [
      "time_step 6000\n"
     ]
    },
    {
     "name": "stderr",
     "output_type": "stream",
     "text": [
      "100%|██████████| 50/50 [00:28<00:00,  1.73it/s]\n"
     ]
    }
   ],
   "source": [
    "for time_step in time_steps:\n",
    "    print(\"time_step\", time_step)\n",
    "    j_init = 1\n",
    "    omega_init = 1\n",
    "    steps_no = max(int(default_value(\"steps_no\") * default_value(\"time_step\") / time_step), 100)\n",
    "    losses = CumulativeLosses(j_init)\n",
    "\n",
    "    for j_tot in tqdm(losses.j_totals):\n",
    "        propagation = prepare(j_init, omega_init, j_tot, time_step=time_step, steps_no=steps_no)\n",
    "        propagation.propagate()\n",
    "        losses.extract_loss(propagation)\n",
    "    losses.save_losses(f\"time_step_{time_step}_{j_init}_{omega_init}\")"
   ]
  },
  {
   "cell_type": "markdown",
   "metadata": {},
   "source": [
    "## radial grid"
   ]
  },
  {
   "cell_type": "code",
   "execution_count": null,
   "metadata": {},
   "outputs": [],
   "source": [
    "r_nos = [128, 256, 512, 1024, 2048, 4096]"
   ]
  },
  {
   "cell_type": "code",
   "execution_count": null,
   "metadata": {},
   "outputs": [],
   "source": [
    "for r_no in r_nos:\n",
    "    print(\"radial_no\", r_no)\n",
    "    j_init = 0\n",
    "    omega_init = 0\n",
    "    losses = CumulativeLosses(j_init)\n",
    "\n",
    "    for j_tot in tqdm(losses.j_totals):\n",
    "        propagation = prepare(j_init, omega_init, j_tot, r_no=r_no)\n",
    "        propagation.propagate()\n",
    "        losses.extract_loss(propagation)\n",
    "    losses.save_losses(f\"radial_scaling_{r_no}_{j_init}_{omega_init}\")"
   ]
  },
  {
   "cell_type": "code",
   "execution_count": null,
   "metadata": {},
   "outputs": [],
   "source": [
    "for r_no in r_nos:\n",
    "    print(\"radial_no\", r_no)\n",
    "    j_init = 1\n",
    "    omega_init = 0\n",
    "    losses = CumulativeLosses(j_init)\n",
    "\n",
    "    for j_tot in tqdm(losses.j_totals):\n",
    "        propagation = prepare(j_init, omega_init, j_tot, r_no=r_no)\n",
    "        propagation.propagate()\n",
    "        losses.extract_loss(propagation)\n",
    "    losses.save_losses(f\"radial_scaling_{r_no}_{j_init}_{omega_init}\")"
   ]
  },
  {
   "cell_type": "code",
   "execution_count": null,
   "metadata": {},
   "outputs": [],
   "source": [
    "for r_no in r_nos:\n",
    "    print(\"radial_no\", r_no)\n",
    "    j_init = 1\n",
    "    omega_init = 1\n",
    "    losses = CumulativeLosses(j_init)\n",
    "\n",
    "    for j_tot in tqdm(losses.j_totals):\n",
    "        propagation = prepare(j_init, omega_init, j_tot, r_no=r_no)\n",
    "        propagation.propagate()\n",
    "        losses.extract_loss(propagation)\n",
    "    losses.save_losses(f\"radial_scaling_{r_no}_{j_init}_{omega_init}\")"
   ]
  },
  {
   "cell_type": "markdown",
   "metadata": {},
   "source": [
    "## polar grid"
   ]
  },
  {
   "cell_type": "code",
   "execution_count": null,
   "metadata": {},
   "outputs": [],
   "source": [
    "polar_nos = [20, 40, 80, 160, 320, 640]"
   ]
  },
  {
   "cell_type": "code",
   "execution_count": null,
   "metadata": {},
   "outputs": [],
   "source": [
    "for polar_no in polar_nos:\n",
    "    print(\"polar_no\", polar_no)\n",
    "    j_init = 0\n",
    "    omega_init = 0\n",
    "    losses = CumulativeLosses(j_init)\n",
    "\n",
    "    for j_tot in tqdm(losses.j_totals):\n",
    "        propagation = prepare(j_init, omega_init, j_tot, polar_no=polar_no)\n",
    "        propagation.propagate()\n",
    "        losses.extract_loss(propagation)\n",
    "    losses.save_losses(f\"polar_scaling_{polar_no}_{j_init}_{omega_init}\")"
   ]
  },
  {
   "cell_type": "code",
   "execution_count": null,
   "metadata": {},
   "outputs": [],
   "source": [
    "for polar_no in polar_nos:\n",
    "    print(\"polar_no\", polar_no)\n",
    "    j_init = 1\n",
    "    omega_init = 0\n",
    "    losses = CumulativeLosses(j_init)\n",
    "\n",
    "    for j_tot in tqdm(losses.j_totals):\n",
    "        propagation = prepare(j_init, omega_init, j_tot, polar_no=polar_no)\n",
    "        propagation.propagate()\n",
    "        losses.extract_loss(propagation)\n",
    "    losses.save_losses(f\"polar_scaling_{polar_no}_{j_init}_{omega_init}\")"
   ]
  },
  {
   "cell_type": "code",
   "execution_count": null,
   "metadata": {},
   "outputs": [],
   "source": [
    "for polar_no in polar_nos:\n",
    "    print(\"polar_no\", polar_no)\n",
    "    j_init = 1\n",
    "    omega_init = 1\n",
    "    losses = CumulativeLosses(j_init)\n",
    "\n",
    "    for j_tot in tqdm(losses.j_totals):\n",
    "        propagation = prepare(j_init, omega_init, j_tot, polar_no=polar_no)\n",
    "        propagation.propagate()\n",
    "        losses.extract_loss(propagation)\n",
    "    losses.save_losses(f\"polar_scaling_{polar_no}_{j_init}_{omega_init}\")"
   ]
  },
  {
   "cell_type": "markdown",
   "metadata": {},
   "source": [
    "## wave width"
   ]
  },
  {
   "cell_type": "code",
   "execution_count": null,
   "metadata": {},
   "outputs": [],
   "source": [
    "widths = [0.1, 0.3, 0.6, 1, 2, 4]"
   ]
  },
  {
   "cell_type": "code",
   "execution_count": null,
   "metadata": {},
   "outputs": [],
   "source": [
    "for width in widths:\n",
    "    print(\"wave width\", width)\n",
    "    j_init = 0\n",
    "    omega_init = 0\n",
    "    losses = CumulativeLosses(j_init)\n",
    "\n",
    "    for j_tot in tqdm(losses.j_totals):\n",
    "        propagation = prepare(j_init, omega_init, j_tot, wave_r_sigma=width)\n",
    "        propagation.propagate()\n",
    "        losses.extract_loss(propagation)\n",
    "    losses.save_losses(f\"width_scaling_{width}_{j_init}_{omega_init}\")"
   ]
  },
  {
   "cell_type": "code",
   "execution_count": null,
   "metadata": {},
   "outputs": [],
   "source": [
    "for width in widths:\n",
    "    print(\"wave width\", width)\n",
    "    j_init = 1\n",
    "    omega_init = 0\n",
    "    losses = CumulativeLosses(j_init)\n",
    "\n",
    "    for j_tot in tqdm(losses.j_totals):\n",
    "        propagation = prepare(j_init, omega_init, j_tot, wave_r_sigma=width)\n",
    "        propagation.propagate()\n",
    "        losses.extract_loss(propagation)\n",
    "    losses.save_losses(f\"width_scaling_{width}_{j_init}_{omega_init}\")"
   ]
  },
  {
   "cell_type": "code",
   "execution_count": null,
   "metadata": {},
   "outputs": [],
   "source": [
    "for width in widths:\n",
    "    print(\"wave width\", width)\n",
    "    j_init = 1\n",
    "    omega_init = 1\n",
    "    losses = CumulativeLosses(j_init)\n",
    "\n",
    "    for j_tot in tqdm(losses.j_totals):\n",
    "        propagation = prepare(j_init, omega_init, j_tot, wave_r_sigma=width)\n",
    "        propagation.propagate()\n",
    "        losses.extract_loss(propagation)\n",
    "    losses.save_losses(f\"width_scaling_{width}_{j_init}_{omega_init}\")"
   ]
  }
 ],
 "metadata": {
  "kernelspec": {
   "display_name": "Python 3",
   "language": "python",
   "name": "python3"
  },
  "language_info": {
   "codemirror_mode": {
    "name": "ipython",
    "version": 3
   },
   "file_extension": ".py",
   "mimetype": "text/x-python",
   "name": "python",
   "nbconvert_exporter": "python",
   "pygments_lexer": "ipython3",
   "version": "3.12.0"
  }
 },
 "nbformat": 4,
 "nbformat_minor": 2
}
