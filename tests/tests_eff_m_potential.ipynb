{
 "cells": [
  {
   "cell_type": "code",
   "execution_count": 1,
   "metadata": {},
   "outputs": [],
   "source": [
    "from common import *\n",
    "from analysis.potential import load_potential\n",
    "\n",
    "if not os.path.exists(data_path):\n",
    "    os.makedirs(data_path)"
   ]
  },
  {
   "cell_type": "code",
   "execution_count": 3,
   "metadata": {},
   "outputs": [],
   "source": [
    "from typing import Callable\n",
    "\n",
    "def prepare(j_init: int, \n",
    "    omega_init: int, \n",
    "    j_tot: int, \n",
    "    time_step: float = 200, \n",
    "    steps_no: float = 300, \n",
    "    r_start: float = 50 / 1024, \n",
    "    r_end: float = 50, \n",
    "    r_no: int = 1024, \n",
    "    polar_no: int = 160, \n",
    "    mass_u: float = 15.1052848671,\n",
    "    energy_kelvin: float = 3700, \n",
    "    rot_const = 9.243165268327e-7,\n",
    "    wave_r0: float = 30,\n",
    "    wave_r_sigma: float = 0.6,\n",
    "    animation: AnimationConfig = AnimationConfig.No,\n",
    "    frames: int = 60,\n",
    "    wave_prefix: str = \"m_eff\",\n",
    "    potential_path = \"potentials/\",\n",
    "    transform_xpi: Callable[[Floating, Floating], Floating] | None = None,\n",
    "    transform_bsigma: Callable[[Floating, Floating], Floating] | None = None,\n",
    "    transform_api: Callable[[Floating, Floating], Floating] | None = None,\n",
    "    transform_potential: Callable[[Floating, Floating], Floating] | None = None,\n",
    ") -> split.Propagation:\n",
    "    \"\"\"\n",
    "    Prepares the split operator propagation of the Ne OCS problem.\n",
    "\n",
    "    :j_init: initial angular momentum of the OCS molecule\n",
    "    :omega_init: initial body fixed projection of the OCS angular momentum equal to projection of the total angular momentum\n",
    "    :j_tot: total angular momentum of the system\n",
    "    :time_step: time step in the Hartree units of the propagation step\n",
    "    :steps_no: number of steps in the propagation\n",
    "    :r_start: starting value of the radial grid\n",
    "    :r_end: ending value of the radial grid\n",
    "    :r_no: number of points of the radial grid\n",
    "    :polar_no: number of points of the angular grid\n",
    "    :mass_u: reduced mass of the Ne OCS in u units\n",
    "    :energy_kelvin: energy of the collision in Kelvin units\n",
    "    :rot_const: rotational constant of the OCS molecule in Hartree units\n",
    "    :wave_r0: initial radial position of the wave funciton\n",
    "    :wave_r_sigma: initial radial width of the wave funciton\n",
    "    :animation: config for saving the animations\n",
    "    :frames: number of frames of the animation\n",
    "    :wave_prefix: prefix of the wave animation filename to be saved\n",
    "    :wave_legendre_prefix: prefix of the wave animation in the legendre basis filename to be saved\n",
    "    :potential_path: path to the potential data\n",
    "    :transform_xpi: custom transformation to the XPi gamma potential\n",
    "    :transform_bsigma: custom transformation to the BSigma gamma potential\n",
    "    :transform_api: custom transformation to the APi gamma potential\n",
    "    :transform_potential: custom transformation to the interatomic potential\n",
    "    \"\"\"\n",
    "\n",
    "    assert j_tot >= omega_init\n",
    "    assert j_init >= omega_init\n",
    "\n",
    "    ############################ grids, wave function creation ################################\n",
    "    \n",
    "    time_grid = split.TimeGrid(time_step, steps_no)\n",
    "    r_grid = split.Grid.linear_continuos(\"r\", r_start, r_end, r_no, 0)\n",
    "    \n",
    "    polar_points, weights = roots_legendre(polar_no)\n",
    "    polar_points = np.flip(np.arccos(polar_points))\n",
    "    weights = np.flip(weights)\n",
    "    \n",
    "    polar_grid = split.Grid.custom(\"theta\", polar_points, weights, 1)\n",
    "\n",
    "    r_points = np.array(r_grid.points())\n",
    "    momentum = np.sqrt(2 * mass_u * U * energy_kelvin * KELVIN)\n",
    "\n",
    "    wave_r_init = np.array([split.gaussian_distribution(r_points[i], wave_r0, wave_r_sigma, momentum) for i in range(r_no)])\n",
    "    wave_polar_init = lpmv(omega_init, j_init, np.cos(polar_points))\n",
    "\n",
    "    wave_init = np.outer(wave_r_init, wave_polar_init)\n",
    "    wave_function = split.WaveFunction(wave_init.flatten(), [r_grid, polar_grid])\n",
    "\n",
    "    ############################ operation creation ################################\n",
    "\n",
    "    r_mesh, polar_mesh = np.meshgrid(r_points, polar_points, indexing=\"ij\")\n",
    "\n",
    "    potential = load_potential(potential_path, \"potential.dat\", r_grid, polar_grid, 5, 5, False)\n",
    "    if transform_potential is not None:\n",
    "        potential = np.multiply(potential, transform_potential(r_mesh, polar_mesh))\n",
    "\n",
    "    m_potential = omega_init **2 / np.sin(polar_mesh) ** 2 * (1 / (2 * mass_u * U * r_mesh ** 2) + rot_const)\n",
    "\n",
    "    centrifugal_potential = centrifugal(r_points, j_tot, omega_init, mass_u)\n",
    "    centrifugal_potential = np.broadcast_to(np.expand_dims(centrifugal_potential, 1), (r_no, polar_no)) \\\n",
    "        + m_potential\n",
    "\n",
    "    bsigma_gamma = load_potential(potential_path, \"BSigma_gamma.dat\", r_grid, polar_grid, 5, 5, True)\n",
    "    if transform_bsigma is not None:\n",
    "        bsigma_gamma = np.multiply(bsigma_gamma, transform_bsigma(r_mesh, polar_mesh))\n",
    "\n",
    "    api_gamma = load_potential(potential_path, \"APi_gamma.dat\", r_grid, polar_grid, 5, 5, True)\n",
    "    if transform_api is not None:\n",
    "        api_gamma = np.multiply(api_gamma, transform_api(r_mesh, polar_mesh))\n",
    "\n",
    "    potential = potential + centrifugal_potential + complex(0, -0.5) * (bsigma_gamma + api_gamma)\n",
    "    potential_with_bsigma_prop = split.complex_n_dim_into_propagator(potential.shape, potential.flatten(), time_grid)\n",
    "\n",
    "    loss_checker = split.LossChecker.new_with_saver(\"bsigma\", frames, f\"{wave_prefix}_bsigma\", time_grid) if animation else split.LossChecker(\"bsigma\")\n",
    "    potential_with_bsigma_prop.set_loss_checked(loss_checker)\n",
    "\n",
    "    xpi_gamma = load_potential(potential_path, \"XPi_gamma.dat\", r_grid, polar_grid, 5, 3, True)\n",
    "    if transform_xpi is not None:\n",
    "        xpi_gamma = np.multiply(xpi_gamma, transform_xpi(r_mesh, polar_mesh))\n",
    "\n",
    "    xpi_gamma = complex(0, -0.5) * xpi_gamma\n",
    "    xpi_gamma_prop = split.complex_n_dim_into_propagator(xpi_gamma.shape, xpi_gamma.flatten(), time_grid)\n",
    "    \n",
    "    loss_checker = split.LossChecker.new_with_saver(\"xpi\", frames, f\"{wave_prefix}_xpi\", time_grid) if animation else split.LossChecker(\"xpi\")\n",
    "    xpi_gamma_prop.set_loss_checked(loss_checker)\n",
    "\n",
    "    leak_control = split.LeakControl(split.LossChecker(\"leak control\"))\n",
    "    dumping_border = split.BorderDumping(5., 1., r_grid)\n",
    "\n",
    "    angular_transformation = split.legendre_transformation(polar_grid)\n",
    "\n",
    "    shape, angular_kinetic_op = split.rotational_hamiltonian(r_grid, polar_grid, mass_u, rot_const)\n",
    "    angular_prop = split.n_dim_into_propagator(shape, angular_kinetic_op, time_grid)\n",
    "\n",
    "    fft_transformation = split.FFTTransformation(r_grid, \"r momentum\")\n",
    "\n",
    "    kinetic_op = split.kinetic_hamiltonian(r_grid, mass_u, energy_kelvin)\n",
    "    kinetic_prop = split.one_dim_into_propagator(kinetic_op, r_grid, time_grid, step = \"full\")\n",
    "\n",
    "    ################################ populating operation stack ####################################\n",
    "\n",
    "    operation_stack = split.OperationStack()\n",
    "    potential_with_bsigma_prop.add_operation(operation_stack)\n",
    "    xpi_gamma_prop.add_operation(operation_stack)\n",
    "\n",
    "    if AnimationConfig.Wave in animation:\n",
    "        wave_saver = split.WaveFunctionSaver(data_path, f\"{wave_prefix}_wave_animation\", time_grid, r_grid, polar_grid, frames)\n",
    "        wave_saver.add_operation(operation_stack)\n",
    "\n",
    "    if AnimationConfig.Polar in animation:\n",
    "        polar_saver = split.StateSaver(data_path, f\"{wave_prefix}_polar_animation\", time_grid, polar_grid, frames)\n",
    "        polar_saver.add_operation(operation_stack)\n",
    "\n",
    "    dumping_border.add_operation(operation_stack)\n",
    "    leak_control.add_operation(operation_stack)\n",
    "\n",
    "    angular_transformation.add_operation(operation_stack, True)\n",
    "\n",
    "    if AnimationConfig.Angular in animation:\n",
    "        angular_grid = angular_transformation.transformed_grid()\n",
    "        wave_legendre_saver = split.StateSaver(data_path, f\"{wave_prefix}_angular_animation\", time_grid, angular_grid, frames)\n",
    "        wave_legendre_saver.add_operation(operation_stack)\n",
    "\n",
    "    angular_prop.add_operation(operation_stack)\n",
    "\n",
    "    fft_transformation.add_operation(operation_stack, True)\n",
    "    kinetic_prop.add_operation(operation_stack)\n",
    "\n",
    "    ################################ propagation creation ####################################\n",
    "\n",
    "    propagation = split.Propagation()\n",
    "    propagation.set_wave_function(wave_function)\n",
    "    propagation.set_time_grid(time_grid)\n",
    "    propagation.set_operation_stack(operation_stack)\n",
    "\n",
    "    return propagation\n",
    "\n",
    "def default_value(name: str):\n",
    "    import inspect\n",
    "\n",
    "    return inspect.signature(prepare).parameters.get(name).default\n",
    "\n",
    "class CumulativeLosses:\n",
    "    def __init__(self, j_init: int, energy_kelvin: float = default_value(\"energy_kelvin\")) -> None:\n",
    "        self.bsigma_losses = []\n",
    "        self.xpi_losses = []\n",
    "\n",
    "        self.j_totals = [j_init + np.ceil(i * 5.5 * np.sqrt(energy_kelvin / 2000)) for i in range(50)]\n",
    "    \n",
    "    def extract_loss(self, propagation: split.Propagation) -> None:\n",
    "        losses = propagation.get_losses()\n",
    "\n",
    "        self.bsigma_losses.append(losses[0])\n",
    "        self.xpi_losses.append(losses[1])\n",
    "\n",
    "    def save_losses(self, filename: str) -> None:\n",
    "        combined = np.vstack((self.j_totals, self.bsigma_losses, self.xpi_losses)).transpose()\n",
    "        np.savetxt(f\"{data_path}{filename}.dat\", combined, delimiter=\" \", header=\"j_total\\tbsigma_loss\\txpi_loss\")"
   ]
  },
  {
   "cell_type": "markdown",
   "metadata": {},
   "source": [
    "# Animations"
   ]
  },
  {
   "cell_type": "code",
   "execution_count": 8,
   "metadata": {},
   "outputs": [
    {
     "name": "stdout",
     "output_type": "stream",
     "text": [
      "j init: 0, omega init: 0, j_tot: 150\n",
      "j init: 1, omega init: 0, j_tot: 150\n",
      "j init: 1, omega init: 1, j_tot: 150\n"
     ]
    }
   ],
   "source": [
    "print(\"j init: 0, omega init: 0, j_tot: 150\")\n",
    "propagation = prepare(0, 0, 150, animation=AnimationConfig.All, time_step = 100, steps_no=600, wave_prefix=\"standard_0_0\", transform_api= lambda a,b: 0, transform_bsigma=lambda a,b: 0, transform_xpi=lambda a,b: 0)\n",
    "\n",
    "propagation.propagate()\n",
    "propagation.get_losses()\n",
    "propagation.save_savers()\n",
    "\n",
    "print(\"j init: 1, omega init: 0, j_tot: 150\")\n",
    "propagation = prepare(1, 0, 150, animation=AnimationConfig.All, time_step = 100, steps_no=600, wave_prefix=\"standard_1_0\", transform_api= lambda a,b: 0, transform_bsigma=lambda a,b: 0, transform_xpi=lambda a,b: 0)\n",
    "\n",
    "propagation.propagate()\n",
    "propagation.get_losses()\n",
    "propagation.save_savers()\n",
    "\n",
    "print(\"j init: 1, omega init: 1, j_tot: 150\")\n",
    "propagation = prepare(1, 1, 150, animation=AnimationConfig.All, time_step = 100, steps_no=600, wave_prefix=\"standard_1_1\", transform_api= lambda a,b: 0, transform_bsigma=lambda a,b: 0, transform_xpi=lambda a,b: 0)\n",
    "\n",
    "propagation.propagate()\n",
    "propagation.get_losses()\n",
    "propagation.save_savers()"
   ]
  },
  {
   "cell_type": "code",
   "execution_count": 4,
   "metadata": {},
   "outputs": [
    {
     "name": "stdout",
     "output_type": "stream",
     "text": [
      "j init: 5, omega init: 0, j_tot: 150\n",
      "j init: 5, omega init: 1, j_tot: 150\n",
      "j init: 5, omega init: 2, j_tot: 150\n",
      "j init: 5, omega init: 3, j_tot: 150\n",
      "j init: 5, omega init: 4, j_tot: 150\n",
      "j init: 5, omega init: 5, j_tot: 150\n"
     ]
    }
   ],
   "source": [
    "j = 5\n",
    "for omega in range(0, j+1):\n",
    "    print(f\"j init: {j}, omega init: {omega}, j_tot: 150\")\n",
    "    propagation = prepare(j, omega, 150, time_step = 100, steps_no=600, animation=AnimationConfig.Polar, wave_prefix=f\"m_eff_{j}_{omega}\", transform_api= lambda a,b: 0, transform_bsigma=lambda a,b: 0, transform_xpi=lambda a,b: 0)\n",
    "\n",
    "    propagation.propagate()\n",
    "    propagation.get_losses()\n",
    "    propagation.save_savers()"
   ]
  },
  {
   "cell_type": "markdown",
   "metadata": {},
   "source": [
    "# Single losses"
   ]
  },
  {
   "cell_type": "code",
   "execution_count": 15,
   "metadata": {},
   "outputs": [
    {
     "name": "stdout",
     "output_type": "stream",
     "text": [
      "j init: 0, omega init: 0, j_tot: 150\n",
      "[0.4647287664033311, 0.1960235411862791]\n",
      "j init: 1, omega init: 0, j_tot: 150\n",
      "[0.514853474601179, 0.17456010605305988]\n",
      "j init: 1, omega init: 1, j_tot: 150\n",
      "[0.4396854775511981, 0.2067594962326567]\n"
     ]
    }
   ],
   "source": [
    "print(\"j init: 0, omega init: 0, j_tot: 150\")\n",
    "propagation = prepare(0, 0, 150)\n",
    "propagation.propagate()\n",
    "print(propagation.get_losses())\n",
    "\n",
    "print(\"j init: 1, omega init: 0, j_tot: 150\")\n",
    "propagation = prepare(1, 0, 150)\n",
    "propagation.propagate()\n",
    "print(propagation.get_losses())\n",
    "\n",
    "print(\"j init: 1, omega init: 1, j_tot: 150\")\n",
    "propagation = prepare(1, 1, 150)\n",
    "propagation.propagate()\n",
    "print(propagation.get_losses())"
   ]
  },
  {
   "cell_type": "markdown",
   "metadata": {},
   "source": [
    "# Single cross sections"
   ]
  },
  {
   "cell_type": "code",
   "execution_count": 10,
   "metadata": {},
   "outputs": [
    {
     "name": "stderr",
     "output_type": "stream",
     "text": [
      "  0%|          | 0/50 [00:00<?, ?it/s]"
     ]
    },
    {
     "name": "stderr",
     "output_type": "stream",
     "text": [
      "100%|██████████| 50/50 [04:27<00:00,  5.35s/it]\n"
     ]
    }
   ],
   "source": [
    "j_init = 0\n",
    "omega_init = 0\n",
    "energy_kelvin = 3700\n",
    "losses = CumulativeLosses(j_init, energy_kelvin)\n",
    "\n",
    "for j_tot in tqdm(losses.j_totals):\n",
    "    propagation = prepare(j_init, omega_init, j_tot, energy_kelvin=energy_kelvin)\n",
    "    propagation.propagate()\n",
    "    losses.extract_loss(propagation)\n",
    "losses.save_losses(f\"losses_{energy_kelvin}_{j_init}_{omega_init}\")"
   ]
  },
  {
   "cell_type": "code",
   "execution_count": 11,
   "metadata": {},
   "outputs": [
    {
     "name": "stderr",
     "output_type": "stream",
     "text": [
      "100%|██████████| 50/50 [04:25<00:00,  5.30s/it]\n"
     ]
    }
   ],
   "source": [
    "j_init = 1\n",
    "omega_init = 0\n",
    "energy_kelvin = 3700\n",
    "losses = CumulativeLosses(j_init, energy_kelvin)\n",
    "\n",
    "for j_tot in tqdm(losses.j_totals):\n",
    "    propagation = prepare(j_init, omega_init, j_tot, energy_kelvin=energy_kelvin)\n",
    "    propagation.propagate()\n",
    "    losses.extract_loss(propagation)\n",
    "losses.save_losses(f\"losses_{energy_kelvin}_{j_init}_{omega_init}\")"
   ]
  },
  {
   "cell_type": "code",
   "execution_count": 16,
   "metadata": {},
   "outputs": [
    {
     "name": "stderr",
     "output_type": "stream",
     "text": [
      "100%|██████████| 50/50 [03:40<00:00,  4.40s/it]\n"
     ]
    }
   ],
   "source": [
    "j_init = 1\n",
    "omega_init = 1\n",
    "energy_kelvin = 3700\n",
    "losses = CumulativeLosses(j_init, energy_kelvin)\n",
    "\n",
    "for j_tot in tqdm(losses.j_totals):\n",
    "    propagation = prepare(j_init, omega_init, j_tot, energy_kelvin=energy_kelvin)\n",
    "    propagation.propagate()\n",
    "    losses.extract_loss(propagation)\n",
    "losses.save_losses(f\"losses_{energy_kelvin}_{j_init}_{omega_init}\")"
   ]
  },
  {
   "cell_type": "markdown",
   "metadata": {},
   "source": [
    "# Cross sections - energy dependence "
   ]
  },
  {
   "cell_type": "code",
   "execution_count": 7,
   "metadata": {},
   "outputs": [],
   "source": [
    "energies = [2000, 2500, 3000, 3500, 4000, 4500, 5000]"
   ]
  },
  {
   "cell_type": "code",
   "execution_count": 9,
   "metadata": {},
   "outputs": [
    {
     "name": "stdout",
     "output_type": "stream",
     "text": [
      "energy 100\n"
     ]
    },
    {
     "name": "stderr",
     "output_type": "stream",
     "text": [
      "  4%|▍         | 2/50 [01:05<26:07, 32.66s/it]"
     ]
    }
   ],
   "source": [
    "for energy_kelvin in energies:\n",
    "    print(\"energy\", energy_kelvin)\n",
    "    j_init = 0\n",
    "    omega_init = 0\n",
    "    time_step = default_value(\"time_step\")*np.sqrt(energy_kelvin/default_value(\"energy_kelvin\"))\n",
    "    losses = CumulativeLosses(j_init, energy_kelvin)\n",
    "\n",
    "    for j_tot in tqdm(losses.j_totals):\n",
    "        propagation = prepare(j_init, omega_init, j_tot, energy_kelvin=energy_kelvin, time_step=time_step)\n",
    "        propagation.propagate()\n",
    "        losses.extract_loss(propagation)\n",
    "    losses.save_losses(f\"losses_{energy_kelvin}_{j_init}_{omega_init}\")"
   ]
  },
  {
   "cell_type": "code",
   "execution_count": null,
   "metadata": {},
   "outputs": [
    {
     "name": "stdout",
     "output_type": "stream",
     "text": [
      "energy 100\n"
     ]
    },
    {
     "name": "stderr",
     "output_type": "stream",
     "text": [
      "100%|██████████| 50/50 [04:20<00:00,  5.22s/it]\n"
     ]
    },
    {
     "name": "stdout",
     "output_type": "stream",
     "text": [
      "energy 500\n"
     ]
    },
    {
     "name": "stderr",
     "output_type": "stream",
     "text": [
      "100%|██████████| 50/50 [04:21<00:00,  5.22s/it]\n"
     ]
    },
    {
     "name": "stdout",
     "output_type": "stream",
     "text": [
      "energy 1000\n"
     ]
    },
    {
     "name": "stderr",
     "output_type": "stream",
     "text": [
      "100%|██████████| 50/50 [04:20<00:00,  5.21s/it]\n"
     ]
    },
    {
     "name": "stdout",
     "output_type": "stream",
     "text": [
      "energy 1500\n"
     ]
    },
    {
     "name": "stderr",
     "output_type": "stream",
     "text": [
      "100%|██████████| 50/50 [04:20<00:00,  5.22s/it]\n"
     ]
    },
    {
     "name": "stdout",
     "output_type": "stream",
     "text": [
      "energy 2000\n"
     ]
    },
    {
     "name": "stderr",
     "output_type": "stream",
     "text": [
      "100%|██████████| 50/50 [04:21<00:00,  5.23s/it]\n"
     ]
    },
    {
     "name": "stdout",
     "output_type": "stream",
     "text": [
      "energy 2500\n"
     ]
    },
    {
     "name": "stderr",
     "output_type": "stream",
     "text": [
      "100%|██████████| 50/50 [04:20<00:00,  5.22s/it]\n"
     ]
    },
    {
     "name": "stdout",
     "output_type": "stream",
     "text": [
      "energy 3000\n"
     ]
    },
    {
     "name": "stderr",
     "output_type": "stream",
     "text": [
      "100%|██████████| 50/50 [04:24<00:00,  5.29s/it]\n"
     ]
    },
    {
     "name": "stdout",
     "output_type": "stream",
     "text": [
      "energy 3500\n"
     ]
    },
    {
     "name": "stderr",
     "output_type": "stream",
     "text": [
      "100%|██████████| 50/50 [04:24<00:00,  5.29s/it]\n"
     ]
    },
    {
     "name": "stdout",
     "output_type": "stream",
     "text": [
      "energy 4000\n"
     ]
    },
    {
     "name": "stderr",
     "output_type": "stream",
     "text": [
      "100%|██████████| 50/50 [04:26<00:00,  5.33s/it]\n"
     ]
    },
    {
     "name": "stdout",
     "output_type": "stream",
     "text": [
      "energy 4500\n"
     ]
    },
    {
     "name": "stderr",
     "output_type": "stream",
     "text": [
      "100%|██████████| 50/50 [04:22<00:00,  5.24s/it]\n"
     ]
    },
    {
     "name": "stdout",
     "output_type": "stream",
     "text": [
      "energy 5000\n"
     ]
    },
    {
     "name": "stderr",
     "output_type": "stream",
     "text": [
      "100%|██████████| 50/50 [04:22<00:00,  5.24s/it]\n"
     ]
    }
   ],
   "source": [
    "for energy_kelvin in energies:\n",
    "    print(\"energy\", energy_kelvin)\n",
    "    j_init = 1\n",
    "    omega_init = 0\n",
    "    time_step = default_value(\"time_step\")*np.sqrt(energy_kelvin/default_value(\"energy_kelvin\"))\n",
    "    losses = CumulativeLosses(j_init, energy_kelvin)\n",
    "\n",
    "    for j_tot in tqdm(losses.j_totals):\n",
    "        propagation = prepare(j_init, omega_init, j_tot, energy_kelvin=energy_kelvin, time_step=time_step)\n",
    "        propagation.propagate()\n",
    "        losses.extract_loss(propagation)\n",
    "    losses.save_losses(f\"losses_{energy_kelvin}_{j_init}_{omega_init}\")"
   ]
  },
  {
   "cell_type": "code",
   "execution_count": null,
   "metadata": {},
   "outputs": [
    {
     "name": "stdout",
     "output_type": "stream",
     "text": [
      "energy 100\n"
     ]
    },
    {
     "name": "stderr",
     "output_type": "stream",
     "text": [
      "100%|██████████| 50/50 [03:36<00:00,  4.33s/it]\n"
     ]
    },
    {
     "name": "stdout",
     "output_type": "stream",
     "text": [
      "energy 500\n"
     ]
    },
    {
     "name": "stderr",
     "output_type": "stream",
     "text": [
      "100%|██████████| 50/50 [03:35<00:00,  4.30s/it]\n"
     ]
    },
    {
     "name": "stdout",
     "output_type": "stream",
     "text": [
      "energy 1000\n"
     ]
    },
    {
     "name": "stderr",
     "output_type": "stream",
     "text": [
      "100%|██████████| 50/50 [03:34<00:00,  4.29s/it]\n"
     ]
    },
    {
     "name": "stdout",
     "output_type": "stream",
     "text": [
      "energy 1500\n"
     ]
    },
    {
     "name": "stderr",
     "output_type": "stream",
     "text": [
      "100%|██████████| 50/50 [03:34<00:00,  4.29s/it]\n"
     ]
    },
    {
     "name": "stdout",
     "output_type": "stream",
     "text": [
      "energy 2000\n"
     ]
    },
    {
     "name": "stderr",
     "output_type": "stream",
     "text": [
      "100%|██████████| 50/50 [03:34<00:00,  4.29s/it]\n"
     ]
    },
    {
     "name": "stdout",
     "output_type": "stream",
     "text": [
      "energy 2500\n"
     ]
    },
    {
     "name": "stderr",
     "output_type": "stream",
     "text": [
      "100%|██████████| 50/50 [03:34<00:00,  4.28s/it]\n"
     ]
    },
    {
     "name": "stdout",
     "output_type": "stream",
     "text": [
      "energy 3000\n"
     ]
    },
    {
     "name": "stderr",
     "output_type": "stream",
     "text": [
      "100%|██████████| 50/50 [03:34<00:00,  4.28s/it]\n"
     ]
    },
    {
     "name": "stdout",
     "output_type": "stream",
     "text": [
      "energy 3500\n"
     ]
    },
    {
     "name": "stderr",
     "output_type": "stream",
     "text": [
      "100%|██████████| 50/50 [03:34<00:00,  4.29s/it]\n"
     ]
    },
    {
     "name": "stdout",
     "output_type": "stream",
     "text": [
      "energy 4000\n"
     ]
    },
    {
     "name": "stderr",
     "output_type": "stream",
     "text": [
      "100%|██████████| 50/50 [03:31<00:00,  4.24s/it]\n"
     ]
    },
    {
     "name": "stdout",
     "output_type": "stream",
     "text": [
      "energy 4500\n"
     ]
    },
    {
     "name": "stderr",
     "output_type": "stream",
     "text": [
      "100%|██████████| 50/50 [03:30<00:00,  4.21s/it]\n"
     ]
    },
    {
     "name": "stdout",
     "output_type": "stream",
     "text": [
      "energy 5000\n"
     ]
    },
    {
     "name": "stderr",
     "output_type": "stream",
     "text": [
      "100%|██████████| 50/50 [03:34<00:00,  4.28s/it]\n"
     ]
    }
   ],
   "source": [
    "for energy_kelvin in energies:\n",
    "    print(\"energy\", energy_kelvin)\n",
    "    j_init = 1\n",
    "    omega_init = 1\n",
    "    time_step = default_value(\"time_step\")*np.sqrt(energy_kelvin/default_value(\"energy_kelvin\"))\n",
    "    losses = CumulativeLosses(j_init, energy_kelvin)\n",
    "\n",
    "    for j_tot in tqdm(losses.j_totals):\n",
    "        propagation = prepare(j_init, omega_init, j_tot, energy_kelvin=energy_kelvin, time_step=time_step)\n",
    "        propagation.propagate()\n",
    "        losses.extract_loss(propagation)\n",
    "    losses.save_losses(f\"losses_{energy_kelvin}_{j_init}_{omega_init}\")"
   ]
  },
  {
   "cell_type": "markdown",
   "metadata": {},
   "source": [
    "# Convergences "
   ]
  },
  {
   "cell_type": "markdown",
   "metadata": {},
   "source": [
    "## Time step"
   ]
  },
  {
   "cell_type": "code",
   "execution_count": 14,
   "metadata": {},
   "outputs": [],
   "source": [
    "time_steps = [50, 100, 200, 400, 600, 1000, 2000, 4000, 6000]"
   ]
  },
  {
   "cell_type": "code",
   "execution_count": 15,
   "metadata": {},
   "outputs": [
    {
     "name": "stdout",
     "output_type": "stream",
     "text": [
      "time_step 50\n"
     ]
    },
    {
     "name": "stderr",
     "output_type": "stream",
     "text": [
      "100%|██████████| 50/50 [10:24<00:00, 12.49s/it]\n"
     ]
    },
    {
     "name": "stdout",
     "output_type": "stream",
     "text": [
      "time_step 100\n"
     ]
    },
    {
     "name": "stderr",
     "output_type": "stream",
     "text": [
      "100%|██████████| 50/50 [05:11<00:00,  6.23s/it]\n"
     ]
    },
    {
     "name": "stdout",
     "output_type": "stream",
     "text": [
      "time_step 200\n"
     ]
    },
    {
     "name": "stderr",
     "output_type": "stream",
     "text": [
      "100%|██████████| 50/50 [02:34<00:00,  3.10s/it]\n"
     ]
    },
    {
     "name": "stdout",
     "output_type": "stream",
     "text": [
      "time_step 400\n"
     ]
    },
    {
     "name": "stderr",
     "output_type": "stream",
     "text": [
      "100%|██████████| 50/50 [01:19<00:00,  1.58s/it]\n"
     ]
    },
    {
     "name": "stdout",
     "output_type": "stream",
     "text": [
      "time_step 600\n"
     ]
    },
    {
     "name": "stderr",
     "output_type": "stream",
     "text": [
      "100%|██████████| 50/50 [00:54<00:00,  1.08s/it]\n"
     ]
    },
    {
     "name": "stdout",
     "output_type": "stream",
     "text": [
      "time_step 1000\n"
     ]
    },
    {
     "name": "stderr",
     "output_type": "stream",
     "text": [
      "100%|██████████| 50/50 [00:33<00:00,  1.50it/s]\n"
     ]
    },
    {
     "name": "stdout",
     "output_type": "stream",
     "text": [
      "time_step 2000\n"
     ]
    },
    {
     "name": "stderr",
     "output_type": "stream",
     "text": [
      "100%|██████████| 50/50 [00:27<00:00,  1.80it/s]\n"
     ]
    },
    {
     "name": "stdout",
     "output_type": "stream",
     "text": [
      "time_step 4000\n"
     ]
    },
    {
     "name": "stderr",
     "output_type": "stream",
     "text": [
      "100%|██████████| 50/50 [00:28<00:00,  1.77it/s]\n"
     ]
    },
    {
     "name": "stdout",
     "output_type": "stream",
     "text": [
      "time_step 6000\n"
     ]
    },
    {
     "name": "stderr",
     "output_type": "stream",
     "text": [
      "100%|██████████| 50/50 [00:28<00:00,  1.77it/s]\n"
     ]
    }
   ],
   "source": [
    "for time_step in time_steps:\n",
    "    print(\"time_step\", time_step)\n",
    "    j_init = 0\n",
    "    omega_init = 0\n",
    "    steps_no = max(int(default_value(\"steps_no\") * default_value(\"time_step\") / time_step), 100)\n",
    "    losses = CumulativeLosses(j_init)\n",
    "\n",
    "    for j_tot in tqdm(losses.j_totals):\n",
    "        propagation = prepare(j_init, omega_init, j_tot, time_step=time_step, steps_no=steps_no)\n",
    "        propagation.propagate()\n",
    "        losses.extract_loss(propagation)\n",
    "    losses.save_losses(f\"time_step_{time_step}_{j_init}_{omega_init}\")"
   ]
  },
  {
   "cell_type": "code",
   "execution_count": 16,
   "metadata": {},
   "outputs": [
    {
     "name": "stdout",
     "output_type": "stream",
     "text": [
      "time_step 50\n"
     ]
    },
    {
     "name": "stderr",
     "output_type": "stream",
     "text": [
      "100%|██████████| 50/50 [10:17<00:00, 12.35s/it]\n"
     ]
    },
    {
     "name": "stdout",
     "output_type": "stream",
     "text": [
      "time_step 100\n"
     ]
    },
    {
     "name": "stderr",
     "output_type": "stream",
     "text": [
      "100%|██████████| 50/50 [05:03<00:00,  6.08s/it]\n"
     ]
    },
    {
     "name": "stdout",
     "output_type": "stream",
     "text": [
      "time_step 200\n"
     ]
    },
    {
     "name": "stderr",
     "output_type": "stream",
     "text": [
      "100%|██████████| 50/50 [02:34<00:00,  3.08s/it]\n"
     ]
    },
    {
     "name": "stdout",
     "output_type": "stream",
     "text": [
      "time_step 400\n"
     ]
    },
    {
     "name": "stderr",
     "output_type": "stream",
     "text": [
      "100%|██████████| 50/50 [01:18<00:00,  1.57s/it]\n"
     ]
    },
    {
     "name": "stdout",
     "output_type": "stream",
     "text": [
      "time_step 600\n"
     ]
    },
    {
     "name": "stderr",
     "output_type": "stream",
     "text": [
      "100%|██████████| 50/50 [00:53<00:00,  1.07s/it]\n"
     ]
    },
    {
     "name": "stdout",
     "output_type": "stream",
     "text": [
      "time_step 1000\n"
     ]
    },
    {
     "name": "stderr",
     "output_type": "stream",
     "text": [
      "100%|██████████| 50/50 [00:33<00:00,  1.51it/s]\n"
     ]
    },
    {
     "name": "stdout",
     "output_type": "stream",
     "text": [
      "time_step 2000\n"
     ]
    },
    {
     "name": "stderr",
     "output_type": "stream",
     "text": [
      "100%|██████████| 50/50 [00:28<00:00,  1.76it/s]\n"
     ]
    },
    {
     "name": "stdout",
     "output_type": "stream",
     "text": [
      "time_step 4000\n"
     ]
    },
    {
     "name": "stderr",
     "output_type": "stream",
     "text": [
      "100%|██████████| 50/50 [00:27<00:00,  1.79it/s]\n"
     ]
    },
    {
     "name": "stdout",
     "output_type": "stream",
     "text": [
      "time_step 6000\n"
     ]
    },
    {
     "name": "stderr",
     "output_type": "stream",
     "text": [
      "100%|██████████| 50/50 [00:28<00:00,  1.78it/s]\n"
     ]
    }
   ],
   "source": [
    "for time_step in time_steps:\n",
    "    print(\"time_step\", time_step)\n",
    "    j_init = 1\n",
    "    omega_init = 0\n",
    "    steps_no = max(int(default_value(\"steps_no\") * default_value(\"time_step\") / time_step), 100)\n",
    "    losses = CumulativeLosses(j_init)\n",
    "\n",
    "    for j_tot in tqdm(losses.j_totals):\n",
    "        propagation = prepare(j_init, omega_init, j_tot, time_step=time_step, steps_no=steps_no)\n",
    "        propagation.propagate()\n",
    "        losses.extract_loss(propagation)\n",
    "    losses.save_losses(f\"time_step_{time_step}_{j_init}_{omega_init}\")"
   ]
  },
  {
   "cell_type": "code",
   "execution_count": 17,
   "metadata": {},
   "outputs": [
    {
     "name": "stdout",
     "output_type": "stream",
     "text": [
      "time_step 50\n"
     ]
    },
    {
     "name": "stderr",
     "output_type": "stream",
     "text": [
      "100%|██████████| 50/50 [10:11<00:00, 12.24s/it]\n"
     ]
    },
    {
     "name": "stdout",
     "output_type": "stream",
     "text": [
      "time_step 100\n"
     ]
    },
    {
     "name": "stderr",
     "output_type": "stream",
     "text": [
      "100%|██████████| 50/50 [05:10<00:00,  6.22s/it]\n"
     ]
    },
    {
     "name": "stdout",
     "output_type": "stream",
     "text": [
      "time_step 200\n"
     ]
    },
    {
     "name": "stderr",
     "output_type": "stream",
     "text": [
      "100%|██████████| 50/50 [02:36<00:00,  3.14s/it]\n"
     ]
    },
    {
     "name": "stdout",
     "output_type": "stream",
     "text": [
      "time_step 400\n"
     ]
    },
    {
     "name": "stderr",
     "output_type": "stream",
     "text": [
      "100%|██████████| 50/50 [01:20<00:00,  1.61s/it]\n"
     ]
    },
    {
     "name": "stdout",
     "output_type": "stream",
     "text": [
      "time_step 600\n"
     ]
    },
    {
     "name": "stderr",
     "output_type": "stream",
     "text": [
      "100%|██████████| 50/50 [00:54<00:00,  1.09s/it]\n"
     ]
    },
    {
     "name": "stdout",
     "output_type": "stream",
     "text": [
      "time_step 1000\n"
     ]
    },
    {
     "name": "stderr",
     "output_type": "stream",
     "text": [
      "100%|██████████| 50/50 [00:33<00:00,  1.49it/s]\n"
     ]
    },
    {
     "name": "stdout",
     "output_type": "stream",
     "text": [
      "time_step 2000\n"
     ]
    },
    {
     "name": "stderr",
     "output_type": "stream",
     "text": [
      "100%|██████████| 50/50 [00:30<00:00,  1.66it/s]\n"
     ]
    },
    {
     "name": "stdout",
     "output_type": "stream",
     "text": [
      "time_step 4000\n"
     ]
    },
    {
     "name": "stderr",
     "output_type": "stream",
     "text": [
      "100%|██████████| 50/50 [00:29<00:00,  1.72it/s]\n"
     ]
    },
    {
     "name": "stdout",
     "output_type": "stream",
     "text": [
      "time_step 6000\n"
     ]
    },
    {
     "name": "stderr",
     "output_type": "stream",
     "text": [
      "100%|██████████| 50/50 [00:28<00:00,  1.73it/s]\n"
     ]
    }
   ],
   "source": [
    "for time_step in time_steps:\n",
    "    print(\"time_step\", time_step)\n",
    "    j_init = 1\n",
    "    omega_init = 1\n",
    "    steps_no = max(int(default_value(\"steps_no\") * default_value(\"time_step\") / time_step), 100)\n",
    "    losses = CumulativeLosses(j_init)\n",
    "\n",
    "    for j_tot in tqdm(losses.j_totals):\n",
    "        propagation = prepare(j_init, omega_init, j_tot, time_step=time_step, steps_no=steps_no)\n",
    "        propagation.propagate()\n",
    "        losses.extract_loss(propagation)\n",
    "    losses.save_losses(f\"time_step_{time_step}_{j_init}_{omega_init}\")"
   ]
  },
  {
   "cell_type": "markdown",
   "metadata": {},
   "source": [
    "## radial grid"
   ]
  },
  {
   "cell_type": "code",
   "execution_count": null,
   "metadata": {},
   "outputs": [],
   "source": [
    "r_nos = [128, 256, 512, 1024, 2048, 4096]"
   ]
  },
  {
   "cell_type": "code",
   "execution_count": null,
   "metadata": {},
   "outputs": [],
   "source": [
    "for r_no in r_nos:\n",
    "    print(\"radial_no\", r_no)\n",
    "    j_init = 0\n",
    "    omega_init = 0\n",
    "    losses = CumulativeLosses(j_init)\n",
    "\n",
    "    for j_tot in tqdm(losses.j_totals):\n",
    "        propagation = prepare(j_init, omega_init, j_tot, r_no=r_no)\n",
    "        propagation.propagate()\n",
    "        losses.extract_loss(propagation)\n",
    "    losses.save_losses(f\"radial_scaling_{r_no}_{j_init}_{omega_init}\")"
   ]
  },
  {
   "cell_type": "code",
   "execution_count": null,
   "metadata": {},
   "outputs": [],
   "source": [
    "for r_no in r_nos:\n",
    "    print(\"radial_no\", r_no)\n",
    "    j_init = 1\n",
    "    omega_init = 0\n",
    "    losses = CumulativeLosses(j_init)\n",
    "\n",
    "    for j_tot in tqdm(losses.j_totals):\n",
    "        propagation = prepare(j_init, omega_init, j_tot, r_no=r_no)\n",
    "        propagation.propagate()\n",
    "        losses.extract_loss(propagation)\n",
    "    losses.save_losses(f\"radial_scaling_{r_no}_{j_init}_{omega_init}\")"
   ]
  },
  {
   "cell_type": "code",
   "execution_count": null,
   "metadata": {},
   "outputs": [],
   "source": [
    "for r_no in r_nos:\n",
    "    print(\"radial_no\", r_no)\n",
    "    j_init = 1\n",
    "    omega_init = 1\n",
    "    losses = CumulativeLosses(j_init)\n",
    "\n",
    "    for j_tot in tqdm(losses.j_totals):\n",
    "        propagation = prepare(j_init, omega_init, j_tot, r_no=r_no)\n",
    "        propagation.propagate()\n",
    "        losses.extract_loss(propagation)\n",
    "    losses.save_losses(f\"radial_scaling_{r_no}_{j_init}_{omega_init}\")"
   ]
  },
  {
   "cell_type": "markdown",
   "metadata": {},
   "source": [
    "## polar grid"
   ]
  },
  {
   "cell_type": "code",
   "execution_count": null,
   "metadata": {},
   "outputs": [],
   "source": [
    "polar_nos = [20, 40, 80, 160, 320, 640]"
   ]
  },
  {
   "cell_type": "code",
   "execution_count": null,
   "metadata": {},
   "outputs": [],
   "source": [
    "for polar_no in polar_nos:\n",
    "    print(\"polar_no\", polar_no)\n",
    "    j_init = 0\n",
    "    omega_init = 0\n",
    "    losses = CumulativeLosses(j_init)\n",
    "\n",
    "    for j_tot in tqdm(losses.j_totals):\n",
    "        propagation = prepare(j_init, omega_init, j_tot, polar_no=polar_no)\n",
    "        propagation.propagate()\n",
    "        losses.extract_loss(propagation)\n",
    "    losses.save_losses(f\"polar_scaling_{polar_no}_{j_init}_{omega_init}\")"
   ]
  },
  {
   "cell_type": "code",
   "execution_count": null,
   "metadata": {},
   "outputs": [],
   "source": [
    "for polar_no in polar_nos:\n",
    "    print(\"polar_no\", polar_no)\n",
    "    j_init = 1\n",
    "    omega_init = 0\n",
    "    losses = CumulativeLosses(j_init)\n",
    "\n",
    "    for j_tot in tqdm(losses.j_totals):\n",
    "        propagation = prepare(j_init, omega_init, j_tot, polar_no=polar_no)\n",
    "        propagation.propagate()\n",
    "        losses.extract_loss(propagation)\n",
    "    losses.save_losses(f\"polar_scaling_{polar_no}_{j_init}_{omega_init}\")"
   ]
  },
  {
   "cell_type": "code",
   "execution_count": null,
   "metadata": {},
   "outputs": [],
   "source": [
    "for polar_no in polar_nos:\n",
    "    print(\"polar_no\", polar_no)\n",
    "    j_init = 1\n",
    "    omega_init = 1\n",
    "    losses = CumulativeLosses(j_init)\n",
    "\n",
    "    for j_tot in tqdm(losses.j_totals):\n",
    "        propagation = prepare(j_init, omega_init, j_tot, polar_no=polar_no)\n",
    "        propagation.propagate()\n",
    "        losses.extract_loss(propagation)\n",
    "    losses.save_losses(f\"polar_scaling_{polar_no}_{j_init}_{omega_init}\")"
   ]
  },
  {
   "cell_type": "markdown",
   "metadata": {},
   "source": [
    "## wave width"
   ]
  },
  {
   "cell_type": "code",
   "execution_count": null,
   "metadata": {},
   "outputs": [],
   "source": [
    "widths = [0.1, 0.3, 0.6, 1, 2, 4]"
   ]
  },
  {
   "cell_type": "code",
   "execution_count": null,
   "metadata": {},
   "outputs": [],
   "source": [
    "for width in widths:\n",
    "    print(\"wave width\", width)\n",
    "    j_init = 0\n",
    "    omega_init = 0\n",
    "    losses = CumulativeLosses(j_init)\n",
    "\n",
    "    for j_tot in tqdm(losses.j_totals):\n",
    "        propagation = prepare(j_init, omega_init, j_tot, wave_r_sigma=width)\n",
    "        propagation.propagate()\n",
    "        losses.extract_loss(propagation)\n",
    "    losses.save_losses(f\"width_scaling_{width}_{j_init}_{omega_init}\")"
   ]
  },
  {
   "cell_type": "code",
   "execution_count": null,
   "metadata": {},
   "outputs": [],
   "source": [
    "for width in widths:\n",
    "    print(\"wave width\", width)\n",
    "    j_init = 1\n",
    "    omega_init = 0\n",
    "    losses = CumulativeLosses(j_init)\n",
    "\n",
    "    for j_tot in tqdm(losses.j_totals):\n",
    "        propagation = prepare(j_init, omega_init, j_tot, wave_r_sigma=width)\n",
    "        propagation.propagate()\n",
    "        losses.extract_loss(propagation)\n",
    "    losses.save_losses(f\"width_scaling_{width}_{j_init}_{omega_init}\")"
   ]
  },
  {
   "cell_type": "code",
   "execution_count": null,
   "metadata": {},
   "outputs": [],
   "source": [
    "for width in widths:\n",
    "    print(\"wave width\", width)\n",
    "    j_init = 1\n",
    "    omega_init = 1\n",
    "    losses = CumulativeLosses(j_init)\n",
    "\n",
    "    for j_tot in tqdm(losses.j_totals):\n",
    "        propagation = prepare(j_init, omega_init, j_tot, wave_r_sigma=width)\n",
    "        propagation.propagate()\n",
    "        losses.extract_loss(propagation)\n",
    "    losses.save_losses(f\"width_scaling_{width}_{j_init}_{omega_init}\")"
   ]
  }
 ],
 "metadata": {
  "kernelspec": {
   "display_name": "Python 3",
   "language": "python",
   "name": "python3"
  },
  "language_info": {
   "codemirror_mode": {
    "name": "ipython",
    "version": 3
   },
   "file_extension": ".py",
   "mimetype": "text/x-python",
   "name": "python",
   "nbconvert_exporter": "python",
   "pygments_lexer": "ipython3",
   "version": "3.11.0"
  }
 },
 "nbformat": 4,
 "nbformat_minor": 2
}
