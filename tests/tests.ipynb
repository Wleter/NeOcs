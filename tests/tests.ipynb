{
 "cells": [
  {
   "cell_type": "code",
   "execution_count": 1,
   "metadata": {},
   "outputs": [],
   "source": [
    "import sys\n",
    "sys.path.append(\"../\")\n",
    "\n",
    "from utility.potential import *\n",
    "from utility.propagation import *\n",
    "from tqdm import tqdm # type: ignore\n",
    "\n",
    "if not os.path.exists(DATA_PATH):\n",
    "    os.makedirs(DATA_PATH)"
   ]
  },
  {
   "cell_type": "markdown",
   "metadata": {},
   "source": [
    "# Animations"
   ]
  },
  {
   "cell_type": "code",
   "execution_count": 5,
   "metadata": {},
   "outputs": [
    {
     "name": "stdout",
     "output_type": "stream",
     "text": [
      "j init: 0, omega init: 0, j_tot: 150\n",
      "[0.13303160751633436, 0.05918912498304696]\n"
     ]
    }
   ],
   "source": [
    "print(\"j init: 0, omega init: 0, j_tot: 150\")\n",
    "propagation = Propagation(\"standard_0_0\", 0, 0, 150)\n",
    "propagation.config.animation = AnimationConfig.All\n",
    "propagation = propagation.into_split()\n",
    "\n",
    "propagation.propagate()\n",
    "print(propagation.get_losses())\n",
    "propagation.save_savers()"
   ]
  },
  {
   "cell_type": "code",
   "execution_count": 6,
   "metadata": {},
   "outputs": [
    {
     "name": "stdout",
     "output_type": "stream",
     "text": [
      "j init: 1, omega init: 0, j_tot: 150\n",
      "[0.1829969537575593, 0.0562377597748811]\n"
     ]
    }
   ],
   "source": [
    "print(\"j init: 1, omega init: 0, j_tot: 150\")\n",
    "propagation = Propagation(\"standard_1_0\", 1, 0, 150)\n",
    "propagation.config.animation = AnimationConfig.All\n",
    "propagation = propagation.into_split()\n",
    "\n",
    "propagation.propagate()\n",
    "print(propagation.get_losses())\n",
    "propagation.save_savers()"
   ]
  },
  {
   "cell_type": "code",
   "execution_count": 7,
   "metadata": {},
   "outputs": [
    {
     "name": "stdout",
     "output_type": "stream",
     "text": [
      "j init: 1, omega init: 1, j_tot: 150\n",
      "[0.10805345243546916, 0.060667835221461686]\n"
     ]
    }
   ],
   "source": [
    "print(\"j init: 1, omega init: 1, j_tot: 150\")\n",
    "propagation = Propagation(\"standard_1_1\", 1, 1, 150)\n",
    "propagation.config.animation = AnimationConfig.All\n",
    "propagation = propagation.into_split()\n",
    "\n",
    "propagation.propagate()\n",
    "print(propagation.get_losses())\n",
    "propagation.save_savers()"
   ]
  },
  {
   "cell_type": "code",
   "execution_count": 15,
   "metadata": {},
   "outputs": [
    {
     "name": "stderr",
     "output_type": "stream",
     "text": [
      "100%|██████████| 1/1 [00:01<00:00,  1.66s/it]\n"
     ]
    }
   ],
   "source": [
    "j = 0\n",
    "\n",
    "for omega in tqdm(range(j + 1)):\n",
    "    propagation = Propagation(f\"standard_{j}_{omega}\", j, omega, 10)\n",
    "    propagation.config.animation = AnimationConfig.Polar\n",
    "    propagation.provider.transform_gamma = 0.\n",
    "    propagation = propagation.into_split()\n",
    "\n",
    "    propagation.propagate()\n",
    "    propagation.save_savers()\n"
   ]
  },
  {
   "cell_type": "code",
   "execution_count": 8,
   "metadata": {},
   "outputs": [
    {
     "name": "stdout",
     "output_type": "stream",
     "text": [
      "j init: 0, omega init: 0, j_tot: 150\n",
      "[0.1447736709386087, 0.06355082082058716]\n"
     ]
    }
   ],
   "source": [
    "print(\"j init: 0, omega init: 0, j_tot: 150\")\n",
    "propagation = Propagation(\"small_rot_scaling\", 0, 0, 150)\n",
    "propagation.config.animation = AnimationConfig.All\n",
    "propagation.params.rot_const = 9.243165268327e-9\n",
    "propagation = propagation.into_split()\n",
    "\n",
    "propagation.propagate()\n",
    "print(propagation.get_losses())\n",
    "propagation.save_savers()"
   ]
  },
  {
   "cell_type": "code",
   "execution_count": 9,
   "metadata": {},
   "outputs": [
    {
     "name": "stdout",
     "output_type": "stream",
     "text": [
      "j init: 0, omega init: 0, j_tot: 150\n",
      "[0.11065577858275077, 0.04660656797104301]\n"
     ]
    }
   ],
   "source": [
    "print(\"j init: 0, omega init: 0, j_tot: 150\")\n",
    "propagation = Propagation(\"big_rot_scaling\", 0, 0, 150)\n",
    "propagation.config.animation = AnimationConfig.All\n",
    "propagation.params.rot_const = 9.243165268327e-5\n",
    "propagation = propagation.into_split()\n",
    "\n",
    "propagation.propagate()\n",
    "print(propagation.get_losses())\n",
    "propagation.save_savers()"
   ]
  },
  {
   "cell_type": "markdown",
   "metadata": {},
   "source": [
    "# Single cross sections"
   ]
  },
  {
   "cell_type": "code",
   "execution_count": 16,
   "metadata": {},
   "outputs": [
    {
     "name": "stderr",
     "output_type": "stream",
     "text": [
      "100%|██████████| 50/50 [01:18<00:00,  1.57s/it]\n"
     ]
    }
   ],
   "source": [
    "j_init = 0\n",
    "omega_init = 0\n",
    "energy_kelvin = 3700\n",
    "losses = CumulativeLosses(j_init, energy_kelvin)\n",
    "\n",
    "for j_tot in tqdm(losses.j_totals):\n",
    "    propagation = Propagation(\"standard\", j_init, omega_init, j_tot)\n",
    "    propagation.params.energy_kelvin = energy_kelvin\n",
    "    propagation = propagation.into_split()\n",
    "\n",
    "    propagation.propagate()\n",
    "    losses.extract_loss(propagation)\n",
    "    \n",
    "losses.save_losses(f\"losses_{energy_kelvin}_{j_init}_{omega_init}\")"
   ]
  },
  {
   "cell_type": "code",
   "execution_count": 17,
   "metadata": {},
   "outputs": [
    {
     "name": "stderr",
     "output_type": "stream",
     "text": [
      "100%|██████████| 50/50 [01:17<00:00,  1.55s/it]\n"
     ]
    }
   ],
   "source": [
    "j_init = 1\n",
    "omega_init = 0\n",
    "energy_kelvin = 3700\n",
    "losses = CumulativeLosses(j_init, energy_kelvin)\n",
    "\n",
    "for j_tot in tqdm(losses.j_totals):\n",
    "    propagation = Propagation(\"standard\", j_init, omega_init, j_tot)\n",
    "    propagation.params.energy_kelvin = energy_kelvin\n",
    "    propagation = propagation.into_split()\n",
    "\n",
    "    propagation.propagate()\n",
    "    losses.extract_loss(propagation)\n",
    "    \n",
    "losses.save_losses(f\"losses_{energy_kelvin}_{j_init}_{omega_init}\")"
   ]
  },
  {
   "cell_type": "code",
   "execution_count": 18,
   "metadata": {},
   "outputs": [
    {
     "name": "stderr",
     "output_type": "stream",
     "text": [
      "100%|██████████| 50/50 [01:17<00:00,  1.55s/it]\n"
     ]
    }
   ],
   "source": [
    "j_init = 1\n",
    "omega_init = 1\n",
    "energy_kelvin = 3700\n",
    "losses = CumulativeLosses(j_init, energy_kelvin)\n",
    "\n",
    "for j_tot in tqdm(losses.j_totals):\n",
    "    propagation = Propagation(\"standard\", j_init, omega_init, j_tot)\n",
    "    propagation.params.energy_kelvin = energy_kelvin\n",
    "    propagation = propagation.into_split()\n",
    "\n",
    "    propagation.propagate()\n",
    "    losses.extract_loss(propagation)\n",
    "    \n",
    "losses.save_losses(f\"losses_{energy_kelvin}_{j_init}_{omega_init}\")"
   ]
  },
  {
   "cell_type": "code",
   "execution_count": 19,
   "metadata": {},
   "outputs": [
    {
     "name": "stderr",
     "output_type": "stream",
     "text": [
      "100%|██████████| 50/50 [01:17<00:00,  1.55s/it]\n",
      "100%|██████████| 50/50 [01:18<00:00,  1.58s/it]\n",
      "100%|██████████| 50/50 [01:17<00:00,  1.56s/it]\n"
     ]
    }
   ],
   "source": [
    "j_init = 2\n",
    "energy_kelvin = 3700\n",
    "\n",
    "for omega_init in range(j_init + 1):\n",
    "    losses = CumulativeLosses(j_init, energy_kelvin)\n",
    "    \n",
    "    for j_tot in tqdm(losses.j_totals):\n",
    "        propagation = Propagation(\"standard\", j_init, omega_init, j_tot)\n",
    "        propagation.params.energy_kelvin = energy_kelvin\n",
    "        propagation = propagation.into_split()\n",
    "\n",
    "        propagation.propagate()\n",
    "        losses.extract_loss(propagation)\n",
    "        \n",
    "    losses.save_losses(f\"losses_{energy_kelvin}_{j_init}_{omega_init}\")\n"
   ]
  },
  {
   "cell_type": "markdown",
   "metadata": {},
   "source": [
    "# Cross sections - energy dependence "
   ]
  },
  {
   "cell_type": "code",
   "execution_count": null,
   "metadata": {},
   "outputs": [],
   "source": [
    "energies = [1000, 1500, 2000, 2500, 3000, 3500, 4000, 4500, 5000]"
   ]
  },
  {
   "cell_type": "code",
   "execution_count": null,
   "metadata": {},
   "outputs": [
    {
     "name": "stdout",
     "output_type": "stream",
     "text": [
      "energy 1000\n"
     ]
    },
    {
     "name": "stderr",
     "output_type": "stream",
     "text": [
      "100%|██████████| 50/50 [00:26<00:00,  1.86it/s]\n"
     ]
    },
    {
     "name": "stdout",
     "output_type": "stream",
     "text": [
      "energy 1500\n"
     ]
    },
    {
     "name": "stderr",
     "output_type": "stream",
     "text": [
      "100%|██████████| 50/50 [00:26<00:00,  1.87it/s]\n"
     ]
    },
    {
     "name": "stdout",
     "output_type": "stream",
     "text": [
      "energy 2000\n"
     ]
    },
    {
     "name": "stderr",
     "output_type": "stream",
     "text": [
      "100%|██████████| 50/50 [00:26<00:00,  1.86it/s]\n"
     ]
    },
    {
     "name": "stdout",
     "output_type": "stream",
     "text": [
      "energy 2500\n"
     ]
    },
    {
     "name": "stderr",
     "output_type": "stream",
     "text": [
      "100%|██████████| 50/50 [00:27<00:00,  1.85it/s]\n"
     ]
    },
    {
     "name": "stdout",
     "output_type": "stream",
     "text": [
      "energy 3000\n"
     ]
    },
    {
     "name": "stderr",
     "output_type": "stream",
     "text": [
      "100%|██████████| 50/50 [00:27<00:00,  1.85it/s]\n"
     ]
    },
    {
     "name": "stdout",
     "output_type": "stream",
     "text": [
      "energy 3500\n"
     ]
    },
    {
     "name": "stderr",
     "output_type": "stream",
     "text": [
      "100%|██████████| 50/50 [00:27<00:00,  1.85it/s]\n"
     ]
    },
    {
     "name": "stdout",
     "output_type": "stream",
     "text": [
      "energy 4000\n"
     ]
    },
    {
     "name": "stderr",
     "output_type": "stream",
     "text": [
      "100%|██████████| 50/50 [00:27<00:00,  1.85it/s]\n"
     ]
    },
    {
     "name": "stdout",
     "output_type": "stream",
     "text": [
      "energy 4500\n"
     ]
    },
    {
     "name": "stderr",
     "output_type": "stream",
     "text": [
      "100%|██████████| 50/50 [00:26<00:00,  1.90it/s]\n"
     ]
    },
    {
     "name": "stdout",
     "output_type": "stream",
     "text": [
      "energy 5000\n"
     ]
    },
    {
     "name": "stderr",
     "output_type": "stream",
     "text": [
      "100%|██████████| 50/50 [00:26<00:00,  1.88it/s]\n"
     ]
    }
   ],
   "source": [
    "for energy_kelvin in energies:\n",
    "    print(\"energy\", energy_kelvin)\n",
    "    j_init = 0\n",
    "    omega_init = 0\n",
    "    losses = CumulativeLosses(j_init, energy_kelvin)\n",
    "\n",
    "    for j_tot in tqdm(losses.j_totals):\n",
    "        propagation = Propagation(\"standard\", j_init, omega_init, j_tot)\n",
    "        propagation.config.time_step *= np.sqrt(energy_kelvin / propagation.params.energy_kelvin)\n",
    "        propagation.params.energy_kelvin = energy_kelvin\n",
    "        propagation = propagation.into_split()\n",
    "\n",
    "        propagation.propagate()\n",
    "        losses.extract_loss(propagation)\n",
    "    losses.save_losses(f\"losses_{energy_kelvin}_{j_init}_{omega_init}\")"
   ]
  },
  {
   "cell_type": "code",
   "execution_count": null,
   "metadata": {},
   "outputs": [
    {
     "name": "stdout",
     "output_type": "stream",
     "text": [
      "energy 1000\n"
     ]
    },
    {
     "name": "stderr",
     "output_type": "stream",
     "text": [
      "100%|██████████| 50/50 [00:26<00:00,  1.91it/s]\n"
     ]
    },
    {
     "name": "stdout",
     "output_type": "stream",
     "text": [
      "energy 1500\n"
     ]
    },
    {
     "name": "stderr",
     "output_type": "stream",
     "text": [
      "100%|██████████| 50/50 [00:26<00:00,  1.91it/s]\n"
     ]
    },
    {
     "name": "stdout",
     "output_type": "stream",
     "text": [
      "energy 2000\n"
     ]
    },
    {
     "name": "stderr",
     "output_type": "stream",
     "text": [
      "100%|██████████| 50/50 [00:26<00:00,  1.87it/s]\n"
     ]
    },
    {
     "name": "stdout",
     "output_type": "stream",
     "text": [
      "energy 2500\n"
     ]
    },
    {
     "name": "stderr",
     "output_type": "stream",
     "text": [
      "100%|██████████| 50/50 [00:26<00:00,  1.87it/s]\n"
     ]
    },
    {
     "name": "stdout",
     "output_type": "stream",
     "text": [
      "energy 3000\n"
     ]
    },
    {
     "name": "stderr",
     "output_type": "stream",
     "text": [
      "100%|██████████| 50/50 [00:26<00:00,  1.91it/s]\n"
     ]
    },
    {
     "name": "stdout",
     "output_type": "stream",
     "text": [
      "energy 3500\n"
     ]
    },
    {
     "name": "stderr",
     "output_type": "stream",
     "text": [
      "100%|██████████| 50/50 [00:26<00:00,  1.89it/s]\n"
     ]
    },
    {
     "name": "stdout",
     "output_type": "stream",
     "text": [
      "energy 4000\n"
     ]
    },
    {
     "name": "stderr",
     "output_type": "stream",
     "text": [
      "100%|██████████| 50/50 [00:26<00:00,  1.89it/s]\n"
     ]
    },
    {
     "name": "stdout",
     "output_type": "stream",
     "text": [
      "energy 4500\n"
     ]
    },
    {
     "name": "stderr",
     "output_type": "stream",
     "text": [
      "100%|██████████| 50/50 [00:26<00:00,  1.92it/s]\n"
     ]
    },
    {
     "name": "stdout",
     "output_type": "stream",
     "text": [
      "energy 5000\n"
     ]
    },
    {
     "name": "stderr",
     "output_type": "stream",
     "text": [
      "100%|██████████| 50/50 [00:26<00:00,  1.88it/s]\n"
     ]
    }
   ],
   "source": [
    "for energy_kelvin in energies:\n",
    "    print(\"energy\", energy_kelvin)\n",
    "    j_init = 1\n",
    "    omega_init = 0\n",
    "    losses = CumulativeLosses(j_init, energy_kelvin)\n",
    "\n",
    "    for j_tot in tqdm(losses.j_totals):\n",
    "        propagation = Propagation(\"standard\", j_init, omega_init, j_tot)\n",
    "        propagation.config.time_step *= np.sqrt(energy_kelvin / propagation.params.energy_kelvin)\n",
    "        propagation.params.energy_kelvin = energy_kelvin\n",
    "        propagation = propagation.into_split()\n",
    "\n",
    "        propagation.propagate()\n",
    "        losses.extract_loss(propagation)\n",
    "    losses.save_losses(f\"losses_{energy_kelvin}_{j_init}_{omega_init}\")"
   ]
  },
  {
   "cell_type": "code",
   "execution_count": null,
   "metadata": {},
   "outputs": [
    {
     "name": "stdout",
     "output_type": "stream",
     "text": [
      "energy 1000\n"
     ]
    },
    {
     "name": "stderr",
     "output_type": "stream",
     "text": [
      "100%|██████████| 50/50 [00:27<00:00,  1.85it/s]\n"
     ]
    },
    {
     "name": "stdout",
     "output_type": "stream",
     "text": [
      "energy 1500\n"
     ]
    },
    {
     "name": "stderr",
     "output_type": "stream",
     "text": [
      "100%|██████████| 50/50 [00:25<00:00,  1.95it/s]\n"
     ]
    },
    {
     "name": "stdout",
     "output_type": "stream",
     "text": [
      "energy 2000\n"
     ]
    },
    {
     "name": "stderr",
     "output_type": "stream",
     "text": [
      "100%|██████████| 50/50 [00:25<00:00,  1.95it/s]\n"
     ]
    },
    {
     "name": "stdout",
     "output_type": "stream",
     "text": [
      "energy 2500\n"
     ]
    },
    {
     "name": "stderr",
     "output_type": "stream",
     "text": [
      "100%|██████████| 50/50 [00:25<00:00,  1.95it/s]\n"
     ]
    },
    {
     "name": "stdout",
     "output_type": "stream",
     "text": [
      "energy 3000\n"
     ]
    },
    {
     "name": "stderr",
     "output_type": "stream",
     "text": [
      "100%|██████████| 50/50 [00:25<00:00,  1.94it/s]\n"
     ]
    },
    {
     "name": "stdout",
     "output_type": "stream",
     "text": [
      "energy 3500\n"
     ]
    },
    {
     "name": "stderr",
     "output_type": "stream",
     "text": [
      "100%|██████████| 50/50 [00:25<00:00,  1.95it/s]\n"
     ]
    },
    {
     "name": "stdout",
     "output_type": "stream",
     "text": [
      "energy 4000\n"
     ]
    },
    {
     "name": "stderr",
     "output_type": "stream",
     "text": [
      "100%|██████████| 50/50 [00:25<00:00,  1.94it/s]\n"
     ]
    },
    {
     "name": "stdout",
     "output_type": "stream",
     "text": [
      "energy 4500\n"
     ]
    },
    {
     "name": "stderr",
     "output_type": "stream",
     "text": [
      "100%|██████████| 50/50 [00:25<00:00,  1.94it/s]\n"
     ]
    },
    {
     "name": "stdout",
     "output_type": "stream",
     "text": [
      "energy 5000\n"
     ]
    },
    {
     "name": "stderr",
     "output_type": "stream",
     "text": [
      "100%|██████████| 50/50 [00:25<00:00,  1.94it/s]\n"
     ]
    }
   ],
   "source": [
    "for energy_kelvin in energies:\n",
    "    print(\"energy\", energy_kelvin)\n",
    "    j_init = 1\n",
    "    omega_init = 1\n",
    "    losses = CumulativeLosses(j_init, energy_kelvin)\n",
    "\n",
    "    for j_tot in tqdm(losses.j_totals):\n",
    "        propagation = Propagation(\"standard\", j_init, omega_init, j_tot)\n",
    "        propagation.config.time_step *= np.sqrt(energy_kelvin / propagation.params.energy_kelvin)\n",
    "        propagation.params.energy_kelvin = energy_kelvin\n",
    "        propagation = propagation.into_split()\n",
    "\n",
    "        propagation.propagate()\n",
    "        losses.extract_loss(propagation)\n",
    "    losses.save_losses(f\"losses_{energy_kelvin}_{j_init}_{omega_init}\")"
   ]
  },
  {
   "cell_type": "markdown",
   "metadata": {},
   "source": [
    "# Convergences "
   ]
  },
  {
   "cell_type": "markdown",
   "metadata": {},
   "source": [
    "## Time step"
   ]
  },
  {
   "cell_type": "code",
   "execution_count": null,
   "metadata": {},
   "outputs": [],
   "source": [
    "time_steps = [50, 100, 200, 400, 600, 1000, 2000, 4000, 6000]"
   ]
  },
  {
   "cell_type": "code",
   "execution_count": null,
   "metadata": {},
   "outputs": [
    {
     "name": "stdout",
     "output_type": "stream",
     "text": [
      "time_step 50\n"
     ]
    },
    {
     "name": "stderr",
     "output_type": "stream",
     "text": [
      "100%|██████████| 50/50 [10:24<00:00, 12.49s/it]\n"
     ]
    },
    {
     "name": "stdout",
     "output_type": "stream",
     "text": [
      "time_step 100\n"
     ]
    },
    {
     "name": "stderr",
     "output_type": "stream",
     "text": [
      "100%|██████████| 50/50 [05:11<00:00,  6.23s/it]\n"
     ]
    },
    {
     "name": "stdout",
     "output_type": "stream",
     "text": [
      "time_step 200\n"
     ]
    },
    {
     "name": "stderr",
     "output_type": "stream",
     "text": [
      "100%|██████████| 50/50 [02:34<00:00,  3.10s/it]\n"
     ]
    },
    {
     "name": "stdout",
     "output_type": "stream",
     "text": [
      "time_step 400\n"
     ]
    },
    {
     "name": "stderr",
     "output_type": "stream",
     "text": [
      "100%|██████████| 50/50 [01:19<00:00,  1.58s/it]\n"
     ]
    },
    {
     "name": "stdout",
     "output_type": "stream",
     "text": [
      "time_step 600\n"
     ]
    },
    {
     "name": "stderr",
     "output_type": "stream",
     "text": [
      "100%|██████████| 50/50 [00:54<00:00,  1.08s/it]\n"
     ]
    },
    {
     "name": "stdout",
     "output_type": "stream",
     "text": [
      "time_step 1000\n"
     ]
    },
    {
     "name": "stderr",
     "output_type": "stream",
     "text": [
      "100%|██████████| 50/50 [00:33<00:00,  1.50it/s]\n"
     ]
    },
    {
     "name": "stdout",
     "output_type": "stream",
     "text": [
      "time_step 2000\n"
     ]
    },
    {
     "name": "stderr",
     "output_type": "stream",
     "text": [
      "100%|██████████| 50/50 [00:27<00:00,  1.80it/s]\n"
     ]
    },
    {
     "name": "stdout",
     "output_type": "stream",
     "text": [
      "time_step 4000\n"
     ]
    },
    {
     "name": "stderr",
     "output_type": "stream",
     "text": [
      "100%|██████████| 50/50 [00:28<00:00,  1.77it/s]\n"
     ]
    },
    {
     "name": "stdout",
     "output_type": "stream",
     "text": [
      "time_step 6000\n"
     ]
    },
    {
     "name": "stderr",
     "output_type": "stream",
     "text": [
      "100%|██████████| 50/50 [00:28<00:00,  1.77it/s]\n"
     ]
    }
   ],
   "source": [
    "for time_step in time_steps:\n",
    "    print(\"time_step\", time_step)\n",
    "    j_init = 0\n",
    "    omega_init = 0\n",
    "    steps_no = max(int(default_value(\"steps_no\") * default_value(\"time_step\") / time_step), 100)\n",
    "    losses = CumulativeLosses(j_init)\n",
    "\n",
    "    for j_tot in tqdm(losses.j_totals):\n",
    "        propagation = prepare(j_init, omega_init, j_tot, time_step=time_step, steps_no=steps_no)\n",
    "        propagation.propagate()\n",
    "        losses.extract_loss(propagation)\n",
    "    losses.save_losses(f\"time_step_{time_step}_{j_init}_{omega_init}\")"
   ]
  },
  {
   "cell_type": "code",
   "execution_count": null,
   "metadata": {},
   "outputs": [
    {
     "name": "stdout",
     "output_type": "stream",
     "text": [
      "time_step 50\n"
     ]
    },
    {
     "name": "stderr",
     "output_type": "stream",
     "text": [
      "100%|██████████| 50/50 [10:17<00:00, 12.35s/it]\n"
     ]
    },
    {
     "name": "stdout",
     "output_type": "stream",
     "text": [
      "time_step 100\n"
     ]
    },
    {
     "name": "stderr",
     "output_type": "stream",
     "text": [
      "100%|██████████| 50/50 [05:03<00:00,  6.08s/it]\n"
     ]
    },
    {
     "name": "stdout",
     "output_type": "stream",
     "text": [
      "time_step 200\n"
     ]
    },
    {
     "name": "stderr",
     "output_type": "stream",
     "text": [
      "100%|██████████| 50/50 [02:34<00:00,  3.08s/it]\n"
     ]
    },
    {
     "name": "stdout",
     "output_type": "stream",
     "text": [
      "time_step 400\n"
     ]
    },
    {
     "name": "stderr",
     "output_type": "stream",
     "text": [
      "100%|██████████| 50/50 [01:18<00:00,  1.57s/it]\n"
     ]
    },
    {
     "name": "stdout",
     "output_type": "stream",
     "text": [
      "time_step 600\n"
     ]
    },
    {
     "name": "stderr",
     "output_type": "stream",
     "text": [
      "100%|██████████| 50/50 [00:53<00:00,  1.07s/it]\n"
     ]
    },
    {
     "name": "stdout",
     "output_type": "stream",
     "text": [
      "time_step 1000\n"
     ]
    },
    {
     "name": "stderr",
     "output_type": "stream",
     "text": [
      "100%|██████████| 50/50 [00:33<00:00,  1.51it/s]\n"
     ]
    },
    {
     "name": "stdout",
     "output_type": "stream",
     "text": [
      "time_step 2000\n"
     ]
    },
    {
     "name": "stderr",
     "output_type": "stream",
     "text": [
      "100%|██████████| 50/50 [00:28<00:00,  1.76it/s]\n"
     ]
    },
    {
     "name": "stdout",
     "output_type": "stream",
     "text": [
      "time_step 4000\n"
     ]
    },
    {
     "name": "stderr",
     "output_type": "stream",
     "text": [
      "100%|██████████| 50/50 [00:27<00:00,  1.79it/s]\n"
     ]
    },
    {
     "name": "stdout",
     "output_type": "stream",
     "text": [
      "time_step 6000\n"
     ]
    },
    {
     "name": "stderr",
     "output_type": "stream",
     "text": [
      "100%|██████████| 50/50 [00:28<00:00,  1.78it/s]\n"
     ]
    }
   ],
   "source": [
    "for time_step in time_steps:\n",
    "    print(\"time_step\", time_step)\n",
    "    j_init = 1\n",
    "    omega_init = 0\n",
    "    steps_no = max(int(default_value(\"steps_no\") * default_value(\"time_step\") / time_step), 100)\n",
    "    losses = CumulativeLosses(j_init)\n",
    "\n",
    "    for j_tot in tqdm(losses.j_totals):\n",
    "        propagation = prepare(j_init, omega_init, j_tot, time_step=time_step, steps_no=steps_no)\n",
    "        propagation.propagate()\n",
    "        losses.extract_loss(propagation)\n",
    "    losses.save_losses(f\"time_step_{time_step}_{j_init}_{omega_init}\")"
   ]
  },
  {
   "cell_type": "code",
   "execution_count": null,
   "metadata": {},
   "outputs": [
    {
     "name": "stdout",
     "output_type": "stream",
     "text": [
      "time_step 50\n"
     ]
    },
    {
     "name": "stderr",
     "output_type": "stream",
     "text": [
      "100%|██████████| 50/50 [10:11<00:00, 12.24s/it]\n"
     ]
    },
    {
     "name": "stdout",
     "output_type": "stream",
     "text": [
      "time_step 100\n"
     ]
    },
    {
     "name": "stderr",
     "output_type": "stream",
     "text": [
      "100%|██████████| 50/50 [05:10<00:00,  6.22s/it]\n"
     ]
    },
    {
     "name": "stdout",
     "output_type": "stream",
     "text": [
      "time_step 200\n"
     ]
    },
    {
     "name": "stderr",
     "output_type": "stream",
     "text": [
      "100%|██████████| 50/50 [02:36<00:00,  3.14s/it]\n"
     ]
    },
    {
     "name": "stdout",
     "output_type": "stream",
     "text": [
      "time_step 400\n"
     ]
    },
    {
     "name": "stderr",
     "output_type": "stream",
     "text": [
      "100%|██████████| 50/50 [01:20<00:00,  1.61s/it]\n"
     ]
    },
    {
     "name": "stdout",
     "output_type": "stream",
     "text": [
      "time_step 600\n"
     ]
    },
    {
     "name": "stderr",
     "output_type": "stream",
     "text": [
      "100%|██████████| 50/50 [00:54<00:00,  1.09s/it]\n"
     ]
    },
    {
     "name": "stdout",
     "output_type": "stream",
     "text": [
      "time_step 1000\n"
     ]
    },
    {
     "name": "stderr",
     "output_type": "stream",
     "text": [
      "100%|██████████| 50/50 [00:33<00:00,  1.49it/s]\n"
     ]
    },
    {
     "name": "stdout",
     "output_type": "stream",
     "text": [
      "time_step 2000\n"
     ]
    },
    {
     "name": "stderr",
     "output_type": "stream",
     "text": [
      "100%|██████████| 50/50 [00:30<00:00,  1.66it/s]\n"
     ]
    },
    {
     "name": "stdout",
     "output_type": "stream",
     "text": [
      "time_step 4000\n"
     ]
    },
    {
     "name": "stderr",
     "output_type": "stream",
     "text": [
      "100%|██████████| 50/50 [00:29<00:00,  1.72it/s]\n"
     ]
    },
    {
     "name": "stdout",
     "output_type": "stream",
     "text": [
      "time_step 6000\n"
     ]
    },
    {
     "name": "stderr",
     "output_type": "stream",
     "text": [
      "100%|██████████| 50/50 [00:28<00:00,  1.73it/s]\n"
     ]
    }
   ],
   "source": [
    "for time_step in time_steps:\n",
    "    print(\"time_step\", time_step)\n",
    "    j_init = 1\n",
    "    omega_init = 1\n",
    "    steps_no = max(int(default_value(\"steps_no\") * default_value(\"time_step\") / time_step), 100)\n",
    "    losses = CumulativeLosses(j_init)\n",
    "\n",
    "    for j_tot in tqdm(losses.j_totals):\n",
    "        propagation = prepare(j_init, omega_init, j_tot, time_step=time_step, steps_no=steps_no)\n",
    "        propagation.propagate()\n",
    "        losses.extract_loss(propagation)\n",
    "    losses.save_losses(f\"time_step_{time_step}_{j_init}_{omega_init}\")"
   ]
  },
  {
   "cell_type": "markdown",
   "metadata": {},
   "source": [
    "## radial grid"
   ]
  },
  {
   "cell_type": "code",
   "execution_count": null,
   "metadata": {},
   "outputs": [],
   "source": [
    "r_nos = [128, 256, 512, 1024, 2048, 4096]"
   ]
  },
  {
   "cell_type": "code",
   "execution_count": null,
   "metadata": {},
   "outputs": [],
   "source": [
    "for r_no in r_nos:\n",
    "    print(\"radial_no\", r_no)\n",
    "    j_init = 0\n",
    "    omega_init = 0\n",
    "    losses = CumulativeLosses(j_init)\n",
    "\n",
    "    for j_tot in tqdm(losses.j_totals):\n",
    "        propagation = prepare(j_init, omega_init, j_tot, r_no=r_no)\n",
    "        propagation.propagate()\n",
    "        losses.extract_loss(propagation)\n",
    "    losses.save_losses(f\"radial_scaling_{r_no}_{j_init}_{omega_init}\")"
   ]
  },
  {
   "cell_type": "code",
   "execution_count": null,
   "metadata": {},
   "outputs": [],
   "source": [
    "for r_no in r_nos:\n",
    "    print(\"radial_no\", r_no)\n",
    "    j_init = 1\n",
    "    omega_init = 0\n",
    "    losses = CumulativeLosses(j_init)\n",
    "\n",
    "    for j_tot in tqdm(losses.j_totals):\n",
    "        propagation = prepare(j_init, omega_init, j_tot, r_no=r_no)\n",
    "        propagation.propagate()\n",
    "        losses.extract_loss(propagation)\n",
    "    losses.save_losses(f\"radial_scaling_{r_no}_{j_init}_{omega_init}\")"
   ]
  },
  {
   "cell_type": "code",
   "execution_count": null,
   "metadata": {},
   "outputs": [],
   "source": [
    "for r_no in r_nos:\n",
    "    print(\"radial_no\", r_no)\n",
    "    j_init = 1\n",
    "    omega_init = 1\n",
    "    losses = CumulativeLosses(j_init)\n",
    "\n",
    "    for j_tot in tqdm(losses.j_totals):\n",
    "        propagation = prepare(j_init, omega_init, j_tot, r_no=r_no)\n",
    "        propagation.propagate()\n",
    "        losses.extract_loss(propagation)\n",
    "    losses.save_losses(f\"radial_scaling_{r_no}_{j_init}_{omega_init}\")"
   ]
  },
  {
   "cell_type": "markdown",
   "metadata": {},
   "source": [
    "## polar grid"
   ]
  },
  {
   "cell_type": "code",
   "execution_count": null,
   "metadata": {},
   "outputs": [],
   "source": [
    "polar_nos = [20, 40, 80, 160, 320, 640]"
   ]
  },
  {
   "cell_type": "code",
   "execution_count": null,
   "metadata": {},
   "outputs": [],
   "source": [
    "for polar_no in polar_nos:\n",
    "    print(\"polar_no\", polar_no)\n",
    "    j_init = 0\n",
    "    omega_init = 0\n",
    "    losses = CumulativeLosses(j_init)\n",
    "\n",
    "    for j_tot in tqdm(losses.j_totals):\n",
    "        propagation = prepare(j_init, omega_init, j_tot, polar_no=polar_no)\n",
    "        propagation.propagate()\n",
    "        losses.extract_loss(propagation)\n",
    "    losses.save_losses(f\"polar_scaling_{polar_no}_{j_init}_{omega_init}\")"
   ]
  },
  {
   "cell_type": "code",
   "execution_count": null,
   "metadata": {},
   "outputs": [],
   "source": [
    "for polar_no in polar_nos:\n",
    "    print(\"polar_no\", polar_no)\n",
    "    j_init = 1\n",
    "    omega_init = 0\n",
    "    losses = CumulativeLosses(j_init)\n",
    "\n",
    "    for j_tot in tqdm(losses.j_totals):\n",
    "        propagation = prepare(j_init, omega_init, j_tot, polar_no=polar_no)\n",
    "        propagation.propagate()\n",
    "        losses.extract_loss(propagation)\n",
    "    losses.save_losses(f\"polar_scaling_{polar_no}_{j_init}_{omega_init}\")"
   ]
  },
  {
   "cell_type": "code",
   "execution_count": null,
   "metadata": {},
   "outputs": [],
   "source": [
    "for polar_no in polar_nos:\n",
    "    print(\"polar_no\", polar_no)\n",
    "    j_init = 1\n",
    "    omega_init = 1\n",
    "    losses = CumulativeLosses(j_init)\n",
    "\n",
    "    for j_tot in tqdm(losses.j_totals):\n",
    "        propagation = prepare(j_init, omega_init, j_tot, polar_no=polar_no)\n",
    "        propagation.propagate()\n",
    "        losses.extract_loss(propagation)\n",
    "    losses.save_losses(f\"polar_scaling_{polar_no}_{j_init}_{omega_init}\")"
   ]
  },
  {
   "cell_type": "markdown",
   "metadata": {},
   "source": [
    "## wave width"
   ]
  },
  {
   "cell_type": "code",
   "execution_count": null,
   "metadata": {},
   "outputs": [],
   "source": [
    "widths = [0.1, 0.3, 0.6, 1, 2, 4]"
   ]
  },
  {
   "cell_type": "code",
   "execution_count": null,
   "metadata": {},
   "outputs": [],
   "source": [
    "for width in widths:\n",
    "    print(\"wave width\", width)\n",
    "    j_init = 0\n",
    "    omega_init = 0\n",
    "    losses = CumulativeLosses(j_init)\n",
    "\n",
    "    for j_tot in tqdm(losses.j_totals):\n",
    "        propagation = prepare(j_init, omega_init, j_tot, wave_r_sigma=width)\n",
    "        propagation.propagate()\n",
    "        losses.extract_loss(propagation)\n",
    "    losses.save_losses(f\"width_scaling_{width}_{j_init}_{omega_init}\")"
   ]
  },
  {
   "cell_type": "code",
   "execution_count": null,
   "metadata": {},
   "outputs": [],
   "source": [
    "for width in widths:\n",
    "    print(\"wave width\", width)\n",
    "    j_init = 1\n",
    "    omega_init = 0\n",
    "    losses = CumulativeLosses(j_init)\n",
    "\n",
    "    for j_tot in tqdm(losses.j_totals):\n",
    "        propagation = prepare(j_init, omega_init, j_tot, wave_r_sigma=width)\n",
    "        propagation.propagate()\n",
    "        losses.extract_loss(propagation)\n",
    "    losses.save_losses(f\"width_scaling_{width}_{j_init}_{omega_init}\")"
   ]
  },
  {
   "cell_type": "code",
   "execution_count": null,
   "metadata": {},
   "outputs": [],
   "source": [
    "for width in widths:\n",
    "    print(\"wave width\", width)\n",
    "    j_init = 1\n",
    "    omega_init = 1\n",
    "    losses = CumulativeLosses(j_init)\n",
    "\n",
    "    for j_tot in tqdm(losses.j_totals):\n",
    "        propagation = prepare(j_init, omega_init, j_tot, wave_r_sigma=width)\n",
    "        propagation.propagate()\n",
    "        losses.extract_loss(propagation)\n",
    "    losses.save_losses(f\"width_scaling_{width}_{j_init}_{omega_init}\")"
   ]
  }
 ],
 "metadata": {
  "kernelspec": {
   "display_name": "Python 3",
   "language": "python",
   "name": "python3"
  },
  "language_info": {
   "codemirror_mode": {
    "name": "ipython",
    "version": 3
   },
   "file_extension": ".py",
   "mimetype": "text/x-python",
   "name": "python",
   "nbconvert_exporter": "python",
   "pygments_lexer": "ipython3",
   "version": "3.12.0"
  }
 },
 "nbformat": 4,
 "nbformat_minor": 2
}
