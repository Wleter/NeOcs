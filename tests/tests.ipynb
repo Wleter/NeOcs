{
 "cells": [
  {
   "cell_type": "code",
   "execution_count": 1,
   "metadata": {},
   "outputs": [],
   "source": [
    "import sys\n",
    "sys.path.append(\"../\")\n",
    "\n",
    "from utility.potential import *\n",
    "from utility.propagation import *\n",
    "from tqdm import tqdm # type: ignore\n",
    "\n",
    "if not os.path.exists(DATA_PATH):\n",
    "    os.makedirs(DATA_PATH)"
   ]
  },
  {
   "cell_type": "markdown",
   "metadata": {},
   "source": [
    "# Animations"
   ]
  },
  {
   "cell_type": "code",
   "execution_count": 2,
   "metadata": {},
   "outputs": [
    {
     "name": "stdout",
     "output_type": "stream",
     "text": [
      "j init: 0, omega init: 0, j_tot: 150\n",
      "[0.14018787128419002, 0.061400888557977894]\n"
     ]
    }
   ],
   "source": [
    "print(\"j init: 0, omega init: 0, j_tot: 150\")\n",
    "propagation = Propagation(\"standard_0_0\", 0, 0, 150)\n",
    "propagation.config.animation = AnimationConfig.All\n",
    "propagation = propagation.into_split()\n",
    "\n",
    "propagation.propagate()\n",
    "print(propagation.get_losses())\n",
    "propagation.save_savers()"
   ]
  },
  {
   "cell_type": "code",
   "execution_count": 3,
   "metadata": {},
   "outputs": [
    {
     "name": "stdout",
     "output_type": "stream",
     "text": [
      "j init: 1, omega init: 0, j_tot: 150\n",
      "[0.19181241095629809, 0.05831789102210667]\n"
     ]
    }
   ],
   "source": [
    "print(\"j init: 1, omega init: 0, j_tot: 150\")\n",
    "propagation = Propagation(\"standard_1_0\", 1, 0, 150)\n",
    "propagation.config.animation = AnimationConfig.All\n",
    "propagation = propagation.into_split()\n",
    "\n",
    "propagation.propagate()\n",
    "print(propagation.get_losses())\n",
    "propagation.save_savers()"
   ]
  },
  {
   "cell_type": "code",
   "execution_count": 4,
   "metadata": {},
   "outputs": [
    {
     "name": "stdout",
     "output_type": "stream",
     "text": [
      "j init: 1, omega init: 1, j_tot: 150\n",
      "[0.1143811191127216, 0.06294559907433445]\n"
     ]
    }
   ],
   "source": [
    "print(\"j init: 1, omega init: 1, j_tot: 150\")\n",
    "propagation = Propagation(\"standard_1_1\", 1, 1, 150)\n",
    "propagation.config.animation = AnimationConfig.All\n",
    "propagation = propagation.into_split()\n",
    "\n",
    "propagation.propagate()\n",
    "print(propagation.get_losses())\n",
    "propagation.save_savers()"
   ]
  },
  {
   "cell_type": "code",
   "execution_count": 4,
   "metadata": {},
   "outputs": [
    {
     "name": "stdout",
     "output_type": "stream",
     "text": [
      "[0.15143986197870685, 0.04950020838839608]\n",
      "[0.15034799962091805, 0.050125072866750386]\n",
      "[0.1481945839952371, 0.051861393954202084]\n",
      "[0.14647863280667817, 0.055035182668896954]\n",
      "[0.1463114102632509, 0.05909946937481736]\n",
      "[0.14582846596737886, 0.06221545750330515]\n",
      "[0.14149666664185867, 0.06358492807693428]\n",
      "[0.129023285871801, 0.06339101760221544]\n",
      "[0.10764806621801282, 0.0623376297787559]\n",
      "[0.08404792389078697, 0.06041549192798901]\n",
      "[0.0664145712214137, 0.05180994482985479]\n"
     ]
    }
   ],
   "source": [
    "j = 10\n",
    "\n",
    "for omega in range(j + 1):\n",
    "    propagation = Propagation(f\"standard_{j}_{omega}\", j, omega, 150)\n",
    "    propagation.config.animation = AnimationConfig.Polar\n",
    "    propagation = propagation.into_split()\n",
    "\n",
    "    propagation.propagate()\n",
    "    print(propagation.get_losses())\n",
    "    propagation.save_savers()\n"
   ]
  },
  {
   "cell_type": "code",
   "execution_count": 7,
   "metadata": {},
   "outputs": [
    {
     "name": "stdout",
     "output_type": "stream",
     "text": [
      "j init: 0, omega init: 0, j_tot: 150\n",
      "[0.4944627249100613, 0.202304427186737]\n"
     ]
    }
   ],
   "source": [
    "print(\"j init: 0, omega init: 0, j_tot: 150\")\n",
    "propagation = Propagation(\"small_rot_scaling\", 0, 0, 150)\n",
    "propagation.config.animation = AnimationConfig.All\n",
    "propagation.params.rot_const = 9.243165268327e-9\n",
    "propagation = propagation.into_split()\n",
    "\n",
    "propagation.propagate()\n",
    "print(propagation.get_losses())\n",
    "propagation.save_savers()"
   ]
  },
  {
   "cell_type": "code",
   "execution_count": 8,
   "metadata": {},
   "outputs": [
    {
     "name": "stdout",
     "output_type": "stream",
     "text": [
      "j init: 0, omega init: 0, j_tot: 150\n",
      "[0.4704726787828905, 0.18577229490843578]\n"
     ]
    }
   ],
   "source": [
    "print(\"j init: 0, omega init: 0, j_tot: 150\")\n",
    "propagation = Propagation(\"big_rot_scaling\", 0, 0, 150)\n",
    "propagation.config.animation = AnimationConfig.All\n",
    "propagation.params.rot_const = 9.243165268327e-5\n",
    "propagation = propagation.into_split()\n",
    "\n",
    "propagation.propagate()\n",
    "print(propagation.get_losses())\n",
    "propagation.save_savers()"
   ]
  },
  {
   "cell_type": "markdown",
   "metadata": {},
   "source": [
    "# Single cross sections"
   ]
  },
  {
   "cell_type": "code",
   "execution_count": 2,
   "metadata": {},
   "outputs": [
    {
     "name": "stderr",
     "output_type": "stream",
     "text": [
      "100%|██████████| 50/50 [00:27<00:00,  1.82it/s]\n"
     ]
    }
   ],
   "source": [
    "j_init = 0\n",
    "omega_init = 0\n",
    "energy_kelvin = 3700\n",
    "losses = CumulativeLosses(j_init, energy_kelvin)\n",
    "\n",
    "for j_tot in tqdm(losses.j_totals):\n",
    "    propagation = Propagation(\"standard\", j_init, omega_init, j_tot)\n",
    "    propagation.params.energy_kelvin = energy_kelvin\n",
    "    propagation = propagation.into_split()\n",
    "\n",
    "    propagation.propagate()\n",
    "    losses.extract_loss(propagation)\n",
    "    \n",
    "losses.save_losses(f\"losses_{energy_kelvin}_{j_init}_{omega_init}\")"
   ]
  },
  {
   "cell_type": "code",
   "execution_count": 3,
   "metadata": {},
   "outputs": [
    {
     "name": "stderr",
     "output_type": "stream",
     "text": [
      "100%|██████████| 50/50 [00:27<00:00,  1.83it/s]\n"
     ]
    }
   ],
   "source": [
    "j_init = 1\n",
    "omega_init = 0\n",
    "energy_kelvin = 3700\n",
    "losses = CumulativeLosses(j_init, energy_kelvin)\n",
    "\n",
    "for j_tot in tqdm(losses.j_totals):\n",
    "    propagation = Propagation(\"standard\", j_init, omega_init, j_tot)\n",
    "    propagation.params.energy_kelvin = energy_kelvin\n",
    "    propagation = propagation.into_split()\n",
    "\n",
    "    propagation.propagate()\n",
    "    losses.extract_loss(propagation)\n",
    "    \n",
    "losses.save_losses(f\"losses_{energy_kelvin}_{j_init}_{omega_init}\")"
   ]
  },
  {
   "cell_type": "code",
   "execution_count": 4,
   "metadata": {},
   "outputs": [
    {
     "name": "stderr",
     "output_type": "stream",
     "text": [
      "100%|██████████| 50/50 [00:27<00:00,  1.83it/s]\n"
     ]
    }
   ],
   "source": [
    "j_init = 1\n",
    "omega_init = 1\n",
    "energy_kelvin = 3700\n",
    "losses = CumulativeLosses(j_init, energy_kelvin)\n",
    "\n",
    "for j_tot in tqdm(losses.j_totals):\n",
    "    propagation = Propagation(\"standard\", j_init, omega_init, j_tot)\n",
    "    propagation.params.energy_kelvin = energy_kelvin\n",
    "    propagation = propagation.into_split()\n",
    "\n",
    "    propagation.propagate()\n",
    "    losses.extract_loss(propagation)\n",
    "    \n",
    "losses.save_losses(f\"losses_{energy_kelvin}_{j_init}_{omega_init}\")"
   ]
  },
  {
   "cell_type": "markdown",
   "metadata": {},
   "source": [
    "# Cross sections - energy dependence "
   ]
  },
  {
   "cell_type": "code",
   "execution_count": 5,
   "metadata": {},
   "outputs": [],
   "source": [
    "energies = [1000, 1500, 2000, 2500, 3000, 3500, 4000, 4500, 5000]"
   ]
  },
  {
   "cell_type": "code",
   "execution_count": 6,
   "metadata": {},
   "outputs": [
    {
     "name": "stdout",
     "output_type": "stream",
     "text": [
      "energy 100\n"
     ]
    },
    {
     "name": "stderr",
     "output_type": "stream",
     "text": [
      "  0%|          | 0/50 [00:00<?, ?it/s]"
     ]
    },
    {
     "name": "stderr",
     "output_type": "stream",
     "text": [
      "100%|██████████| 50/50 [01:21<00:00,  1.63s/it]\n"
     ]
    },
    {
     "name": "stdout",
     "output_type": "stream",
     "text": [
      "energy 500\n"
     ]
    },
    {
     "name": "stderr",
     "output_type": "stream",
     "text": [
      "100%|██████████| 50/50 [01:20<00:00,  1.62s/it]\n"
     ]
    },
    {
     "name": "stdout",
     "output_type": "stream",
     "text": [
      "energy 1000\n"
     ]
    },
    {
     "name": "stderr",
     "output_type": "stream",
     "text": [
      "100%|██████████| 50/50 [01:19<00:00,  1.59s/it]\n"
     ]
    },
    {
     "name": "stdout",
     "output_type": "stream",
     "text": [
      "energy 1500\n"
     ]
    },
    {
     "name": "stderr",
     "output_type": "stream",
     "text": [
      "100%|██████████| 50/50 [01:20<00:00,  1.60s/it]\n"
     ]
    },
    {
     "name": "stdout",
     "output_type": "stream",
     "text": [
      "energy 2000\n"
     ]
    },
    {
     "name": "stderr",
     "output_type": "stream",
     "text": [
      "100%|██████████| 50/50 [01:23<00:00,  1.66s/it]\n"
     ]
    },
    {
     "name": "stdout",
     "output_type": "stream",
     "text": [
      "energy 2500\n"
     ]
    },
    {
     "name": "stderr",
     "output_type": "stream",
     "text": [
      "100%|██████████| 50/50 [01:29<00:00,  1.78s/it]\n"
     ]
    },
    {
     "name": "stdout",
     "output_type": "stream",
     "text": [
      "energy 3000\n"
     ]
    },
    {
     "name": "stderr",
     "output_type": "stream",
     "text": [
      "100%|██████████| 50/50 [01:28<00:00,  1.78s/it]\n"
     ]
    },
    {
     "name": "stdout",
     "output_type": "stream",
     "text": [
      "energy 3500\n"
     ]
    },
    {
     "name": "stderr",
     "output_type": "stream",
     "text": [
      "100%|██████████| 50/50 [01:28<00:00,  1.77s/it]\n"
     ]
    },
    {
     "name": "stdout",
     "output_type": "stream",
     "text": [
      "energy 4000\n"
     ]
    },
    {
     "name": "stderr",
     "output_type": "stream",
     "text": [
      "100%|██████████| 50/50 [01:28<00:00,  1.76s/it]\n"
     ]
    },
    {
     "name": "stdout",
     "output_type": "stream",
     "text": [
      "energy 4500\n"
     ]
    },
    {
     "name": "stderr",
     "output_type": "stream",
     "text": [
      "100%|██████████| 50/50 [01:31<00:00,  1.82s/it]\n"
     ]
    },
    {
     "name": "stdout",
     "output_type": "stream",
     "text": [
      "energy 5000\n"
     ]
    },
    {
     "name": "stderr",
     "output_type": "stream",
     "text": [
      "100%|██████████| 50/50 [01:30<00:00,  1.81s/it]\n"
     ]
    }
   ],
   "source": [
    "for energy_kelvin in energies:\n",
    "    print(\"energy\", energy_kelvin)\n",
    "    j_init = 0\n",
    "    omega_init = 0\n",
    "    losses = CumulativeLosses(j_init, energy_kelvin)\n",
    "\n",
    "    for j_tot in tqdm(losses.j_totals):\n",
    "        propagation = Propagation(\"standard\", j_init, omega_init, j_tot)\n",
    "        propagation.config.time_step *= np.sqrt(energy_kelvin / propagation.params.energy_kelvin)\n",
    "        propagation.params.energy_kelvin = energy_kelvin\n",
    "        propagation = propagation.into_split()\n",
    "\n",
    "        propagation.propagate()\n",
    "        losses.extract_loss(propagation)\n",
    "    losses.save_losses(f\"losses_{energy_kelvin}_{j_init}_{omega_init}\")"
   ]
  },
  {
   "cell_type": "code",
   "execution_count": 7,
   "metadata": {},
   "outputs": [
    {
     "name": "stdout",
     "output_type": "stream",
     "text": [
      "energy 100\n"
     ]
    },
    {
     "name": "stderr",
     "output_type": "stream",
     "text": [
      "100%|██████████| 50/50 [01:32<00:00,  1.84s/it]\n"
     ]
    },
    {
     "name": "stdout",
     "output_type": "stream",
     "text": [
      "energy 500\n"
     ]
    },
    {
     "name": "stderr",
     "output_type": "stream",
     "text": [
      "100%|██████████| 50/50 [01:31<00:00,  1.83s/it]\n"
     ]
    },
    {
     "name": "stdout",
     "output_type": "stream",
     "text": [
      "energy 1000\n"
     ]
    },
    {
     "name": "stderr",
     "output_type": "stream",
     "text": [
      "100%|██████████| 50/50 [01:29<00:00,  1.80s/it]\n"
     ]
    },
    {
     "name": "stdout",
     "output_type": "stream",
     "text": [
      "energy 1500\n"
     ]
    },
    {
     "name": "stderr",
     "output_type": "stream",
     "text": [
      "100%|██████████| 50/50 [01:29<00:00,  1.80s/it]\n"
     ]
    },
    {
     "name": "stdout",
     "output_type": "stream",
     "text": [
      "energy 2000\n"
     ]
    },
    {
     "name": "stderr",
     "output_type": "stream",
     "text": [
      "100%|██████████| 50/50 [01:29<00:00,  1.79s/it]\n"
     ]
    },
    {
     "name": "stdout",
     "output_type": "stream",
     "text": [
      "energy 2500\n"
     ]
    },
    {
     "name": "stderr",
     "output_type": "stream",
     "text": [
      "100%|██████████| 50/50 [01:29<00:00,  1.79s/it]\n"
     ]
    },
    {
     "name": "stdout",
     "output_type": "stream",
     "text": [
      "energy 3000\n"
     ]
    },
    {
     "name": "stderr",
     "output_type": "stream",
     "text": [
      "100%|██████████| 50/50 [01:30<00:00,  1.80s/it]\n"
     ]
    },
    {
     "name": "stdout",
     "output_type": "stream",
     "text": [
      "energy 3500\n"
     ]
    },
    {
     "name": "stderr",
     "output_type": "stream",
     "text": [
      "100%|██████████| 50/50 [01:29<00:00,  1.79s/it]\n"
     ]
    },
    {
     "name": "stdout",
     "output_type": "stream",
     "text": [
      "energy 4000\n"
     ]
    },
    {
     "name": "stderr",
     "output_type": "stream",
     "text": [
      "100%|██████████| 50/50 [01:29<00:00,  1.79s/it]\n"
     ]
    },
    {
     "name": "stdout",
     "output_type": "stream",
     "text": [
      "energy 4500\n"
     ]
    },
    {
     "name": "stderr",
     "output_type": "stream",
     "text": [
      "100%|██████████| 50/50 [01:29<00:00,  1.79s/it]\n"
     ]
    },
    {
     "name": "stdout",
     "output_type": "stream",
     "text": [
      "energy 5000\n"
     ]
    },
    {
     "name": "stderr",
     "output_type": "stream",
     "text": [
      "100%|██████████| 50/50 [01:29<00:00,  1.79s/it]\n"
     ]
    }
   ],
   "source": [
    "for energy_kelvin in energies:\n",
    "    print(\"energy\", energy_kelvin)\n",
    "    j_init = 1\n",
    "    omega_init = 0\n",
    "    losses = CumulativeLosses(j_init, energy_kelvin)\n",
    "\n",
    "    for j_tot in tqdm(losses.j_totals):\n",
    "        propagation = Propagation(\"standard\", j_init, omega_init, j_tot)\n",
    "        propagation.config.time_step *= np.sqrt(energy_kelvin / propagation.params.energy_kelvin)\n",
    "        propagation.params.energy_kelvin = energy_kelvin\n",
    "        propagation = propagation.into_split()\n",
    "\n",
    "        propagation.propagate()\n",
    "        losses.extract_loss(propagation)\n",
    "    losses.save_losses(f\"losses_{energy_kelvin}_{j_init}_{omega_init}\")"
   ]
  },
  {
   "cell_type": "code",
   "execution_count": 8,
   "metadata": {},
   "outputs": [
    {
     "name": "stdout",
     "output_type": "stream",
     "text": [
      "energy 100\n"
     ]
    },
    {
     "name": "stderr",
     "output_type": "stream",
     "text": [
      "100%|██████████| 50/50 [01:30<00:00,  1.80s/it]\n"
     ]
    },
    {
     "name": "stdout",
     "output_type": "stream",
     "text": [
      "energy 500\n"
     ]
    },
    {
     "name": "stderr",
     "output_type": "stream",
     "text": [
      "100%|██████████| 50/50 [01:30<00:00,  1.82s/it]\n"
     ]
    },
    {
     "name": "stdout",
     "output_type": "stream",
     "text": [
      "energy 1000\n"
     ]
    },
    {
     "name": "stderr",
     "output_type": "stream",
     "text": [
      "100%|██████████| 50/50 [01:31<00:00,  1.83s/it]\n"
     ]
    },
    {
     "name": "stdout",
     "output_type": "stream",
     "text": [
      "energy 1500\n"
     ]
    },
    {
     "name": "stderr",
     "output_type": "stream",
     "text": [
      "100%|██████████| 50/50 [01:31<00:00,  1.83s/it]\n"
     ]
    },
    {
     "name": "stdout",
     "output_type": "stream",
     "text": [
      "energy 2000\n"
     ]
    },
    {
     "name": "stderr",
     "output_type": "stream",
     "text": [
      "100%|██████████| 50/50 [01:31<00:00,  1.83s/it]\n"
     ]
    },
    {
     "name": "stdout",
     "output_type": "stream",
     "text": [
      "energy 2500\n"
     ]
    },
    {
     "name": "stderr",
     "output_type": "stream",
     "text": [
      "100%|██████████| 50/50 [01:32<00:00,  1.85s/it]\n"
     ]
    },
    {
     "name": "stdout",
     "output_type": "stream",
     "text": [
      "energy 3000\n"
     ]
    },
    {
     "name": "stderr",
     "output_type": "stream",
     "text": [
      "100%|██████████| 50/50 [01:31<00:00,  1.83s/it]\n"
     ]
    },
    {
     "name": "stdout",
     "output_type": "stream",
     "text": [
      "energy 3500\n"
     ]
    },
    {
     "name": "stderr",
     "output_type": "stream",
     "text": [
      "100%|██████████| 50/50 [01:31<00:00,  1.82s/it]\n"
     ]
    },
    {
     "name": "stdout",
     "output_type": "stream",
     "text": [
      "energy 4000\n"
     ]
    },
    {
     "name": "stderr",
     "output_type": "stream",
     "text": [
      "100%|██████████| 50/50 [01:26<00:00,  1.73s/it]\n"
     ]
    },
    {
     "name": "stdout",
     "output_type": "stream",
     "text": [
      "energy 4500\n"
     ]
    },
    {
     "name": "stderr",
     "output_type": "stream",
     "text": [
      "100%|██████████| 50/50 [01:22<00:00,  1.65s/it]\n"
     ]
    },
    {
     "name": "stdout",
     "output_type": "stream",
     "text": [
      "energy 5000\n"
     ]
    },
    {
     "name": "stderr",
     "output_type": "stream",
     "text": [
      "100%|██████████| 50/50 [01:20<00:00,  1.61s/it]\n"
     ]
    }
   ],
   "source": [
    "for energy_kelvin in energies:\n",
    "    print(\"energy\", energy_kelvin)\n",
    "    j_init = 1\n",
    "    omega_init = 1\n",
    "    losses = CumulativeLosses(j_init, energy_kelvin)\n",
    "\n",
    "    for j_tot in tqdm(losses.j_totals):\n",
    "        propagation = Propagation(\"standard\", j_init, omega_init, j_tot)\n",
    "        propagation.config.time_step *= np.sqrt(energy_kelvin / propagation.params.energy_kelvin)\n",
    "        propagation.params.energy_kelvin = energy_kelvin\n",
    "        propagation = propagation.into_split()\n",
    "\n",
    "        propagation.propagate()\n",
    "        losses.extract_loss(propagation)\n",
    "    losses.save_losses(f\"losses_{energy_kelvin}_{j_init}_{omega_init}\")"
   ]
  },
  {
   "cell_type": "markdown",
   "metadata": {},
   "source": [
    "# Convergences "
   ]
  },
  {
   "cell_type": "markdown",
   "metadata": {},
   "source": [
    "## Time step"
   ]
  },
  {
   "cell_type": "code",
   "execution_count": 14,
   "metadata": {},
   "outputs": [],
   "source": [
    "time_steps = [50, 100, 200, 400, 600, 1000, 2000, 4000, 6000]"
   ]
  },
  {
   "cell_type": "code",
   "execution_count": 15,
   "metadata": {},
   "outputs": [
    {
     "name": "stdout",
     "output_type": "stream",
     "text": [
      "time_step 50\n"
     ]
    },
    {
     "name": "stderr",
     "output_type": "stream",
     "text": [
      "100%|██████████| 50/50 [10:24<00:00, 12.49s/it]\n"
     ]
    },
    {
     "name": "stdout",
     "output_type": "stream",
     "text": [
      "time_step 100\n"
     ]
    },
    {
     "name": "stderr",
     "output_type": "stream",
     "text": [
      "100%|██████████| 50/50 [05:11<00:00,  6.23s/it]\n"
     ]
    },
    {
     "name": "stdout",
     "output_type": "stream",
     "text": [
      "time_step 200\n"
     ]
    },
    {
     "name": "stderr",
     "output_type": "stream",
     "text": [
      "100%|██████████| 50/50 [02:34<00:00,  3.10s/it]\n"
     ]
    },
    {
     "name": "stdout",
     "output_type": "stream",
     "text": [
      "time_step 400\n"
     ]
    },
    {
     "name": "stderr",
     "output_type": "stream",
     "text": [
      "100%|██████████| 50/50 [01:19<00:00,  1.58s/it]\n"
     ]
    },
    {
     "name": "stdout",
     "output_type": "stream",
     "text": [
      "time_step 600\n"
     ]
    },
    {
     "name": "stderr",
     "output_type": "stream",
     "text": [
      "100%|██████████| 50/50 [00:54<00:00,  1.08s/it]\n"
     ]
    },
    {
     "name": "stdout",
     "output_type": "stream",
     "text": [
      "time_step 1000\n"
     ]
    },
    {
     "name": "stderr",
     "output_type": "stream",
     "text": [
      "100%|██████████| 50/50 [00:33<00:00,  1.50it/s]\n"
     ]
    },
    {
     "name": "stdout",
     "output_type": "stream",
     "text": [
      "time_step 2000\n"
     ]
    },
    {
     "name": "stderr",
     "output_type": "stream",
     "text": [
      "100%|██████████| 50/50 [00:27<00:00,  1.80it/s]\n"
     ]
    },
    {
     "name": "stdout",
     "output_type": "stream",
     "text": [
      "time_step 4000\n"
     ]
    },
    {
     "name": "stderr",
     "output_type": "stream",
     "text": [
      "100%|██████████| 50/50 [00:28<00:00,  1.77it/s]\n"
     ]
    },
    {
     "name": "stdout",
     "output_type": "stream",
     "text": [
      "time_step 6000\n"
     ]
    },
    {
     "name": "stderr",
     "output_type": "stream",
     "text": [
      "100%|██████████| 50/50 [00:28<00:00,  1.77it/s]\n"
     ]
    }
   ],
   "source": [
    "for time_step in time_steps:\n",
    "    print(\"time_step\", time_step)\n",
    "    j_init = 0\n",
    "    omega_init = 0\n",
    "    steps_no = max(int(default_value(\"steps_no\") * default_value(\"time_step\") / time_step), 100)\n",
    "    losses = CumulativeLosses(j_init)\n",
    "\n",
    "    for j_tot in tqdm(losses.j_totals):\n",
    "        propagation = prepare(j_init, omega_init, j_tot, time_step=time_step, steps_no=steps_no)\n",
    "        propagation.propagate()\n",
    "        losses.extract_loss(propagation)\n",
    "    losses.save_losses(f\"time_step_{time_step}_{j_init}_{omega_init}\")"
   ]
  },
  {
   "cell_type": "code",
   "execution_count": 16,
   "metadata": {},
   "outputs": [
    {
     "name": "stdout",
     "output_type": "stream",
     "text": [
      "time_step 50\n"
     ]
    },
    {
     "name": "stderr",
     "output_type": "stream",
     "text": [
      "100%|██████████| 50/50 [10:17<00:00, 12.35s/it]\n"
     ]
    },
    {
     "name": "stdout",
     "output_type": "stream",
     "text": [
      "time_step 100\n"
     ]
    },
    {
     "name": "stderr",
     "output_type": "stream",
     "text": [
      "100%|██████████| 50/50 [05:03<00:00,  6.08s/it]\n"
     ]
    },
    {
     "name": "stdout",
     "output_type": "stream",
     "text": [
      "time_step 200\n"
     ]
    },
    {
     "name": "stderr",
     "output_type": "stream",
     "text": [
      "100%|██████████| 50/50 [02:34<00:00,  3.08s/it]\n"
     ]
    },
    {
     "name": "stdout",
     "output_type": "stream",
     "text": [
      "time_step 400\n"
     ]
    },
    {
     "name": "stderr",
     "output_type": "stream",
     "text": [
      "100%|██████████| 50/50 [01:18<00:00,  1.57s/it]\n"
     ]
    },
    {
     "name": "stdout",
     "output_type": "stream",
     "text": [
      "time_step 600\n"
     ]
    },
    {
     "name": "stderr",
     "output_type": "stream",
     "text": [
      "100%|██████████| 50/50 [00:53<00:00,  1.07s/it]\n"
     ]
    },
    {
     "name": "stdout",
     "output_type": "stream",
     "text": [
      "time_step 1000\n"
     ]
    },
    {
     "name": "stderr",
     "output_type": "stream",
     "text": [
      "100%|██████████| 50/50 [00:33<00:00,  1.51it/s]\n"
     ]
    },
    {
     "name": "stdout",
     "output_type": "stream",
     "text": [
      "time_step 2000\n"
     ]
    },
    {
     "name": "stderr",
     "output_type": "stream",
     "text": [
      "100%|██████████| 50/50 [00:28<00:00,  1.76it/s]\n"
     ]
    },
    {
     "name": "stdout",
     "output_type": "stream",
     "text": [
      "time_step 4000\n"
     ]
    },
    {
     "name": "stderr",
     "output_type": "stream",
     "text": [
      "100%|██████████| 50/50 [00:27<00:00,  1.79it/s]\n"
     ]
    },
    {
     "name": "stdout",
     "output_type": "stream",
     "text": [
      "time_step 6000\n"
     ]
    },
    {
     "name": "stderr",
     "output_type": "stream",
     "text": [
      "100%|██████████| 50/50 [00:28<00:00,  1.78it/s]\n"
     ]
    }
   ],
   "source": [
    "for time_step in time_steps:\n",
    "    print(\"time_step\", time_step)\n",
    "    j_init = 1\n",
    "    omega_init = 0\n",
    "    steps_no = max(int(default_value(\"steps_no\") * default_value(\"time_step\") / time_step), 100)\n",
    "    losses = CumulativeLosses(j_init)\n",
    "\n",
    "    for j_tot in tqdm(losses.j_totals):\n",
    "        propagation = prepare(j_init, omega_init, j_tot, time_step=time_step, steps_no=steps_no)\n",
    "        propagation.propagate()\n",
    "        losses.extract_loss(propagation)\n",
    "    losses.save_losses(f\"time_step_{time_step}_{j_init}_{omega_init}\")"
   ]
  },
  {
   "cell_type": "code",
   "execution_count": 17,
   "metadata": {},
   "outputs": [
    {
     "name": "stdout",
     "output_type": "stream",
     "text": [
      "time_step 50\n"
     ]
    },
    {
     "name": "stderr",
     "output_type": "stream",
     "text": [
      "100%|██████████| 50/50 [10:11<00:00, 12.24s/it]\n"
     ]
    },
    {
     "name": "stdout",
     "output_type": "stream",
     "text": [
      "time_step 100\n"
     ]
    },
    {
     "name": "stderr",
     "output_type": "stream",
     "text": [
      "100%|██████████| 50/50 [05:10<00:00,  6.22s/it]\n"
     ]
    },
    {
     "name": "stdout",
     "output_type": "stream",
     "text": [
      "time_step 200\n"
     ]
    },
    {
     "name": "stderr",
     "output_type": "stream",
     "text": [
      "100%|██████████| 50/50 [02:36<00:00,  3.14s/it]\n"
     ]
    },
    {
     "name": "stdout",
     "output_type": "stream",
     "text": [
      "time_step 400\n"
     ]
    },
    {
     "name": "stderr",
     "output_type": "stream",
     "text": [
      "100%|██████████| 50/50 [01:20<00:00,  1.61s/it]\n"
     ]
    },
    {
     "name": "stdout",
     "output_type": "stream",
     "text": [
      "time_step 600\n"
     ]
    },
    {
     "name": "stderr",
     "output_type": "stream",
     "text": [
      "100%|██████████| 50/50 [00:54<00:00,  1.09s/it]\n"
     ]
    },
    {
     "name": "stdout",
     "output_type": "stream",
     "text": [
      "time_step 1000\n"
     ]
    },
    {
     "name": "stderr",
     "output_type": "stream",
     "text": [
      "100%|██████████| 50/50 [00:33<00:00,  1.49it/s]\n"
     ]
    },
    {
     "name": "stdout",
     "output_type": "stream",
     "text": [
      "time_step 2000\n"
     ]
    },
    {
     "name": "stderr",
     "output_type": "stream",
     "text": [
      "100%|██████████| 50/50 [00:30<00:00,  1.66it/s]\n"
     ]
    },
    {
     "name": "stdout",
     "output_type": "stream",
     "text": [
      "time_step 4000\n"
     ]
    },
    {
     "name": "stderr",
     "output_type": "stream",
     "text": [
      "100%|██████████| 50/50 [00:29<00:00,  1.72it/s]\n"
     ]
    },
    {
     "name": "stdout",
     "output_type": "stream",
     "text": [
      "time_step 6000\n"
     ]
    },
    {
     "name": "stderr",
     "output_type": "stream",
     "text": [
      "100%|██████████| 50/50 [00:28<00:00,  1.73it/s]\n"
     ]
    }
   ],
   "source": [
    "for time_step in time_steps:\n",
    "    print(\"time_step\", time_step)\n",
    "    j_init = 1\n",
    "    omega_init = 1\n",
    "    steps_no = max(int(default_value(\"steps_no\") * default_value(\"time_step\") / time_step), 100)\n",
    "    losses = CumulativeLosses(j_init)\n",
    "\n",
    "    for j_tot in tqdm(losses.j_totals):\n",
    "        propagation = prepare(j_init, omega_init, j_tot, time_step=time_step, steps_no=steps_no)\n",
    "        propagation.propagate()\n",
    "        losses.extract_loss(propagation)\n",
    "    losses.save_losses(f\"time_step_{time_step}_{j_init}_{omega_init}\")"
   ]
  },
  {
   "cell_type": "markdown",
   "metadata": {},
   "source": [
    "## radial grid"
   ]
  },
  {
   "cell_type": "code",
   "execution_count": null,
   "metadata": {},
   "outputs": [],
   "source": [
    "r_nos = [128, 256, 512, 1024, 2048, 4096]"
   ]
  },
  {
   "cell_type": "code",
   "execution_count": null,
   "metadata": {},
   "outputs": [],
   "source": [
    "for r_no in r_nos:\n",
    "    print(\"radial_no\", r_no)\n",
    "    j_init = 0\n",
    "    omega_init = 0\n",
    "    losses = CumulativeLosses(j_init)\n",
    "\n",
    "    for j_tot in tqdm(losses.j_totals):\n",
    "        propagation = prepare(j_init, omega_init, j_tot, r_no=r_no)\n",
    "        propagation.propagate()\n",
    "        losses.extract_loss(propagation)\n",
    "    losses.save_losses(f\"radial_scaling_{r_no}_{j_init}_{omega_init}\")"
   ]
  },
  {
   "cell_type": "code",
   "execution_count": null,
   "metadata": {},
   "outputs": [],
   "source": [
    "for r_no in r_nos:\n",
    "    print(\"radial_no\", r_no)\n",
    "    j_init = 1\n",
    "    omega_init = 0\n",
    "    losses = CumulativeLosses(j_init)\n",
    "\n",
    "    for j_tot in tqdm(losses.j_totals):\n",
    "        propagation = prepare(j_init, omega_init, j_tot, r_no=r_no)\n",
    "        propagation.propagate()\n",
    "        losses.extract_loss(propagation)\n",
    "    losses.save_losses(f\"radial_scaling_{r_no}_{j_init}_{omega_init}\")"
   ]
  },
  {
   "cell_type": "code",
   "execution_count": null,
   "metadata": {},
   "outputs": [],
   "source": [
    "for r_no in r_nos:\n",
    "    print(\"radial_no\", r_no)\n",
    "    j_init = 1\n",
    "    omega_init = 1\n",
    "    losses = CumulativeLosses(j_init)\n",
    "\n",
    "    for j_tot in tqdm(losses.j_totals):\n",
    "        propagation = prepare(j_init, omega_init, j_tot, r_no=r_no)\n",
    "        propagation.propagate()\n",
    "        losses.extract_loss(propagation)\n",
    "    losses.save_losses(f\"radial_scaling_{r_no}_{j_init}_{omega_init}\")"
   ]
  },
  {
   "cell_type": "markdown",
   "metadata": {},
   "source": [
    "## polar grid"
   ]
  },
  {
   "cell_type": "code",
   "execution_count": null,
   "metadata": {},
   "outputs": [],
   "source": [
    "polar_nos = [20, 40, 80, 160, 320, 640]"
   ]
  },
  {
   "cell_type": "code",
   "execution_count": null,
   "metadata": {},
   "outputs": [],
   "source": [
    "for polar_no in polar_nos:\n",
    "    print(\"polar_no\", polar_no)\n",
    "    j_init = 0\n",
    "    omega_init = 0\n",
    "    losses = CumulativeLosses(j_init)\n",
    "\n",
    "    for j_tot in tqdm(losses.j_totals):\n",
    "        propagation = prepare(j_init, omega_init, j_tot, polar_no=polar_no)\n",
    "        propagation.propagate()\n",
    "        losses.extract_loss(propagation)\n",
    "    losses.save_losses(f\"polar_scaling_{polar_no}_{j_init}_{omega_init}\")"
   ]
  },
  {
   "cell_type": "code",
   "execution_count": null,
   "metadata": {},
   "outputs": [],
   "source": [
    "for polar_no in polar_nos:\n",
    "    print(\"polar_no\", polar_no)\n",
    "    j_init = 1\n",
    "    omega_init = 0\n",
    "    losses = CumulativeLosses(j_init)\n",
    "\n",
    "    for j_tot in tqdm(losses.j_totals):\n",
    "        propagation = prepare(j_init, omega_init, j_tot, polar_no=polar_no)\n",
    "        propagation.propagate()\n",
    "        losses.extract_loss(propagation)\n",
    "    losses.save_losses(f\"polar_scaling_{polar_no}_{j_init}_{omega_init}\")"
   ]
  },
  {
   "cell_type": "code",
   "execution_count": null,
   "metadata": {},
   "outputs": [],
   "source": [
    "for polar_no in polar_nos:\n",
    "    print(\"polar_no\", polar_no)\n",
    "    j_init = 1\n",
    "    omega_init = 1\n",
    "    losses = CumulativeLosses(j_init)\n",
    "\n",
    "    for j_tot in tqdm(losses.j_totals):\n",
    "        propagation = prepare(j_init, omega_init, j_tot, polar_no=polar_no)\n",
    "        propagation.propagate()\n",
    "        losses.extract_loss(propagation)\n",
    "    losses.save_losses(f\"polar_scaling_{polar_no}_{j_init}_{omega_init}\")"
   ]
  },
  {
   "cell_type": "markdown",
   "metadata": {},
   "source": [
    "## wave width"
   ]
  },
  {
   "cell_type": "code",
   "execution_count": null,
   "metadata": {},
   "outputs": [],
   "source": [
    "widths = [0.1, 0.3, 0.6, 1, 2, 4]"
   ]
  },
  {
   "cell_type": "code",
   "execution_count": null,
   "metadata": {},
   "outputs": [],
   "source": [
    "for width in widths:\n",
    "    print(\"wave width\", width)\n",
    "    j_init = 0\n",
    "    omega_init = 0\n",
    "    losses = CumulativeLosses(j_init)\n",
    "\n",
    "    for j_tot in tqdm(losses.j_totals):\n",
    "        propagation = prepare(j_init, omega_init, j_tot, wave_r_sigma=width)\n",
    "        propagation.propagate()\n",
    "        losses.extract_loss(propagation)\n",
    "    losses.save_losses(f\"width_scaling_{width}_{j_init}_{omega_init}\")"
   ]
  },
  {
   "cell_type": "code",
   "execution_count": null,
   "metadata": {},
   "outputs": [],
   "source": [
    "for width in widths:\n",
    "    print(\"wave width\", width)\n",
    "    j_init = 1\n",
    "    omega_init = 0\n",
    "    losses = CumulativeLosses(j_init)\n",
    "\n",
    "    for j_tot in tqdm(losses.j_totals):\n",
    "        propagation = prepare(j_init, omega_init, j_tot, wave_r_sigma=width)\n",
    "        propagation.propagate()\n",
    "        losses.extract_loss(propagation)\n",
    "    losses.save_losses(f\"width_scaling_{width}_{j_init}_{omega_init}\")"
   ]
  },
  {
   "cell_type": "code",
   "execution_count": null,
   "metadata": {},
   "outputs": [],
   "source": [
    "for width in widths:\n",
    "    print(\"wave width\", width)\n",
    "    j_init = 1\n",
    "    omega_init = 1\n",
    "    losses = CumulativeLosses(j_init)\n",
    "\n",
    "    for j_tot in tqdm(losses.j_totals):\n",
    "        propagation = prepare(j_init, omega_init, j_tot, wave_r_sigma=width)\n",
    "        propagation.propagate()\n",
    "        losses.extract_loss(propagation)\n",
    "    losses.save_losses(f\"width_scaling_{width}_{j_init}_{omega_init}\")"
   ]
  }
 ],
 "metadata": {
  "kernelspec": {
   "display_name": "Python 3",
   "language": "python",
   "name": "python3"
  },
  "language_info": {
   "codemirror_mode": {
    "name": "ipython",
    "version": 3
   },
   "file_extension": ".py",
   "mimetype": "text/x-python",
   "name": "python",
   "nbconvert_exporter": "python",
   "pygments_lexer": "ipython3",
   "version": "3.12.0"
  }
 },
 "nbformat": 4,
 "nbformat_minor": 2
}
