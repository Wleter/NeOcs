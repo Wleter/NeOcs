{
 "cells": [
  {
   "cell_type": "code",
   "execution_count": 6,
   "metadata": {},
   "outputs": [],
   "source": [
    "import sys\n",
    "sys.path.append(\"../\")\n",
    "\n",
    "from utility.potential import *\n",
    "from utility.propagation import *\n",
    "from tqdm import tqdm # type: ignore\n",
    "\n",
    "if not os.path.exists(DATA_PATH):\n",
    "    os.makedirs(DATA_PATH)"
   ]
  },
  {
   "cell_type": "markdown",
   "metadata": {},
   "source": [
    "# Animations"
   ]
  },
  {
   "cell_type": "code",
   "execution_count": 7,
   "metadata": {},
   "outputs": [
    {
     "name": "stdout",
     "output_type": "stream",
     "text": [
      "j init: 0, omega init: 0, j_tot: 150\n",
      "[0.13303160751633436, 0.05918912498304696]\n"
     ]
    }
   ],
   "source": [
    "print(\"j init: 0, omega init: 0, j_tot: 150\")\n",
    "propagation = Propagation(\"standard_0_0\", 0, 0, 150)\n",
    "propagation.config.animation = AnimationConfig.All\n",
    "propagation = propagation.into_split()\n",
    "\n",
    "propagation.propagate()\n",
    "print(propagation.get_losses())\n",
    "propagation.save_savers()"
   ]
  },
  {
   "cell_type": "code",
   "execution_count": 6,
   "metadata": {},
   "outputs": [
    {
     "name": "stdout",
     "output_type": "stream",
     "text": [
      "j init: 1, omega init: 0, j_tot: 150\n",
      "[0.1829969537575593, 0.0562377597748811]\n"
     ]
    }
   ],
   "source": [
    "print(\"j init: 1, omega init: 0, j_tot: 150\")\n",
    "propagation = Propagation(\"standard_1_0\", 1, 0, 150)\n",
    "propagation.config.animation = AnimationConfig.All\n",
    "propagation = propagation.into_split()\n",
    "\n",
    "propagation.propagate()\n",
    "print(propagation.get_losses())\n",
    "propagation.save_savers()"
   ]
  },
  {
   "cell_type": "code",
   "execution_count": 7,
   "metadata": {},
   "outputs": [
    {
     "name": "stdout",
     "output_type": "stream",
     "text": [
      "j init: 1, omega init: 1, j_tot: 150\n",
      "[0.10805345243546916, 0.060667835221461686]\n"
     ]
    }
   ],
   "source": [
    "print(\"j init: 1, omega init: 1, j_tot: 150\")\n",
    "propagation = Propagation(\"standard_1_1\", 1, 1, 150)\n",
    "propagation.config.animation = AnimationConfig.All\n",
    "propagation = propagation.into_split()\n",
    "\n",
    "propagation.propagate()\n",
    "print(propagation.get_losses())\n",
    "propagation.save_savers()"
   ]
  },
  {
   "cell_type": "code",
   "execution_count": 15,
   "metadata": {},
   "outputs": [
    {
     "name": "stderr",
     "output_type": "stream",
     "text": [
      "100%|██████████| 1/1 [00:01<00:00,  1.66s/it]\n"
     ]
    }
   ],
   "source": [
    "j = 0\n",
    "\n",
    "for omega in tqdm(range(j + 1)):\n",
    "    propagation = Propagation(f\"standard_{j}_{omega}\", j, omega, 10)\n",
    "    propagation.config.animation = AnimationConfig.Polar\n",
    "    propagation.provider.transform_gamma = 0.\n",
    "    propagation = propagation.into_split()\n",
    "\n",
    "    propagation.propagate()\n",
    "    propagation.save_savers()\n"
   ]
  },
  {
   "cell_type": "code",
   "execution_count": 8,
   "metadata": {},
   "outputs": [
    {
     "name": "stdout",
     "output_type": "stream",
     "text": [
      "j init: 0, omega init: 0, j_tot: 150\n",
      "[0.1447736709386087, 0.06355082082058716]\n"
     ]
    }
   ],
   "source": [
    "print(\"j init: 0, omega init: 0, j_tot: 150\")\n",
    "propagation = Propagation(\"small_rot_scaling\", 0, 0, 150)\n",
    "propagation.config.animation = AnimationConfig.All\n",
    "propagation.params.rot_const = 9.243165268327e-9\n",
    "propagation = propagation.into_split()\n",
    "\n",
    "propagation.propagate()\n",
    "print(propagation.get_losses())\n",
    "propagation.save_savers()"
   ]
  },
  {
   "cell_type": "code",
   "execution_count": 9,
   "metadata": {},
   "outputs": [
    {
     "name": "stdout",
     "output_type": "stream",
     "text": [
      "j init: 0, omega init: 0, j_tot: 150\n",
      "[0.11065577858275077, 0.04660656797104301]\n"
     ]
    }
   ],
   "source": [
    "print(\"j init: 0, omega init: 0, j_tot: 150\")\n",
    "propagation = Propagation(\"big_rot_scaling\", 0, 0, 150)\n",
    "propagation.config.animation = AnimationConfig.All\n",
    "propagation.params.rot_const = 9.243165268327e-5\n",
    "propagation = propagation.into_split()\n",
    "\n",
    "propagation.propagate()\n",
    "print(propagation.get_losses())\n",
    "propagation.save_savers()"
   ]
  },
  {
   "cell_type": "markdown",
   "metadata": {},
   "source": [
    "# Single cross sections"
   ]
  },
  {
   "cell_type": "code",
   "execution_count": null,
   "metadata": {},
   "outputs": [
    {
     "name": "stderr",
     "output_type": "stream",
     "text": [
      "100%|██████████| 50/50 [01:18<00:00,  1.57s/it]\n"
     ]
    }
   ],
   "source": [
    "j_omega_pairs = [(0, 0), (1, 0), (1, 1)]\n",
    "\n",
    "energy_kelvin = 3700\n",
    "for j_init, omega_init in j_omega_pairs:\n",
    "    losses = CumulativeLosses(j_init, energy_kelvin)\n",
    "    \n",
    "    for j_tot in tqdm(losses.j_totals):\n",
    "        propagation = Propagation(\"standard\", j_init, omega_init, j_tot)\n",
    "        propagation.params.energy_kelvin = energy_kelvin\n",
    "        propagation = propagation.into_split()\n",
    "\n",
    "        propagation.propagate()\n",
    "        losses.extract_loss(propagation)\n",
    "        \n",
    "    losses.save_losses(f\"losses_{energy_kelvin}_{j_init}_{omega_init}\")"
   ]
  },
  {
   "cell_type": "code",
   "execution_count": 19,
   "metadata": {},
   "outputs": [
    {
     "name": "stderr",
     "output_type": "stream",
     "text": [
      "100%|██████████| 50/50 [01:17<00:00,  1.55s/it]\n",
      "100%|██████████| 50/50 [01:18<00:00,  1.58s/it]\n",
      "100%|██████████| 50/50 [01:17<00:00,  1.56s/it]\n"
     ]
    }
   ],
   "source": [
    "j_init = 2\n",
    "energy_kelvin = 3700\n",
    "\n",
    "for omega_init in range(j_init + 1):\n",
    "    losses = CumulativeLosses(j_init, energy_kelvin)\n",
    "    \n",
    "    for j_tot in tqdm(losses.j_totals):\n",
    "        propagation = Propagation(\"standard\", j_init, omega_init, j_tot)\n",
    "        propagation.params.energy_kelvin = energy_kelvin\n",
    "        propagation = propagation.into_split()\n",
    "\n",
    "        propagation.propagate()\n",
    "        losses.extract_loss(propagation)\n",
    "        \n",
    "    losses.save_losses(f\"losses_{energy_kelvin}_{j_init}_{omega_init}\")\n"
   ]
  },
  {
   "cell_type": "markdown",
   "metadata": {},
   "source": [
    "# Cross sections - energy dependence "
   ]
  },
  {
   "cell_type": "code",
   "execution_count": 7,
   "metadata": {},
   "outputs": [],
   "source": [
    "j_omega_pairs = [(0, 0), (1, 0), (1, 1)]\n",
    "energies = [500, 1000, 2000, 3000, 4000, 5000]"
   ]
  },
  {
   "cell_type": "code",
   "execution_count": null,
   "metadata": {},
   "outputs": [
    {
     "name": "stdout",
     "output_type": "stream",
     "text": [
      "energy 500\n"
     ]
    },
    {
     "name": "stderr",
     "output_type": "stream",
     "text": [
      " 12%|█▏        | 6/50 [00:09<01:06,  1.51s/it]"
     ]
    }
   ],
   "source": [
    "for j_init, omega_init in j_omega_pairs:\n",
    "    for energy_kelvin in energies:\n",
    "        print(\"energy\", energy_kelvin)\n",
    "        losses = CumulativeLosses(j_init, energy_kelvin)\n",
    "\n",
    "        for j_tot in tqdm(losses.j_totals):\n",
    "            propagation = Propagation(\"standard\", j_init, omega_init, j_tot)\n",
    "            propagation.config.time_step *= np.sqrt(propagation.params.energy_kelvin / energy_kelvin)\n",
    "            propagation.params.energy_kelvin = energy_kelvin\n",
    "            propagation = propagation.into_split()\n",
    "\n",
    "            propagation.propagate()\n",
    "            losses.extract_loss(propagation)\n",
    "        losses.save_losses(f\"losses_{energy_kelvin}_{j_init}_{omega_init}\")"
   ]
  },
  {
   "cell_type": "markdown",
   "metadata": {},
   "source": [
    "# Convergences "
   ]
  },
  {
   "cell_type": "code",
   "execution_count": null,
   "metadata": {},
   "outputs": [],
   "source": [
    "j_omega_pairs = [(0, 0), (1, 0), (1, 1)]"
   ]
  },
  {
   "cell_type": "markdown",
   "metadata": {},
   "source": [
    "## Time step"
   ]
  },
  {
   "cell_type": "code",
   "execution_count": null,
   "metadata": {},
   "outputs": [
    {
     "name": "stdout",
     "output_type": "stream",
     "text": [
      "time_step 100.0\n"
     ]
    },
    {
     "name": "stderr",
     "output_type": "stream",
     "text": [
      "100%|██████████| 50/50 [00:36<00:00,  1.36it/s]\n"
     ]
    },
    {
     "name": "stdout",
     "output_type": "stream",
     "text": [
      "time_step 200.0\n"
     ]
    },
    {
     "name": "stderr",
     "output_type": "stream",
     "text": [
      "100%|██████████| 50/50 [00:20<00:00,  2.50it/s]\n"
     ]
    },
    {
     "name": "stdout",
     "output_type": "stream",
     "text": [
      "time_step 400.0\n"
     ]
    },
    {
     "name": "stderr",
     "output_type": "stream",
     "text": [
      "100%|██████████| 50/50 [00:11<00:00,  4.30it/s]\n"
     ]
    },
    {
     "name": "stdout",
     "output_type": "stream",
     "text": [
      "time_step 100.0\n"
     ]
    },
    {
     "name": "stderr",
     "output_type": "stream",
     "text": [
      "100%|██████████| 50/50 [00:37<00:00,  1.33it/s]\n"
     ]
    },
    {
     "name": "stdout",
     "output_type": "stream",
     "text": [
      "time_step 200.0\n"
     ]
    },
    {
     "name": "stderr",
     "output_type": "stream",
     "text": [
      "100%|██████████| 50/50 [00:20<00:00,  2.46it/s]\n"
     ]
    },
    {
     "name": "stdout",
     "output_type": "stream",
     "text": [
      "time_step 400.0\n"
     ]
    },
    {
     "name": "stderr",
     "output_type": "stream",
     "text": [
      "100%|██████████| 50/50 [00:11<00:00,  4.23it/s]\n"
     ]
    },
    {
     "name": "stdout",
     "output_type": "stream",
     "text": [
      "time_step 100.0\n"
     ]
    },
    {
     "name": "stderr",
     "output_type": "stream",
     "text": [
      "100%|██████████| 50/50 [00:37<00:00,  1.34it/s]\n"
     ]
    },
    {
     "name": "stdout",
     "output_type": "stream",
     "text": [
      "time_step 200.0\n"
     ]
    },
    {
     "name": "stderr",
     "output_type": "stream",
     "text": [
      "100%|██████████| 50/50 [00:20<00:00,  2.47it/s]\n"
     ]
    },
    {
     "name": "stdout",
     "output_type": "stream",
     "text": [
      "time_step 400.0\n"
     ]
    },
    {
     "name": "stderr",
     "output_type": "stream",
     "text": [
      "100%|██████████| 50/50 [00:11<00:00,  4.24it/s]\n"
     ]
    }
   ],
   "source": [
    "time_steps = [5., 10., 20., 50., 100., 200., 400.]\n",
    "\n",
    "for j_init, omega_init in j_omega_pairs:\n",
    "    for time_step in time_steps:\n",
    "        print(\"time_step\", time_step)\n",
    "        losses = CumulativeLosses(j_init)\n",
    "        \n",
    "        for j_tot in tqdm(losses.j_totals):\n",
    "            propagation = Propagation(\"standard\", j_init, omega_init, j_tot)\n",
    "            propagation.config.steps_no = int(propagation.config.steps_no * propagation.config.time_step / time_step)\n",
    "            propagation.config.time_step = time_step\n",
    "            propagation = propagation.into_split()\n",
    "\n",
    "            propagation.propagate()\n",
    "            losses.extract_loss(propagation)\n",
    "        losses.save_losses(f\"time_step_{time_step}_{j_init}_{omega_init}\")"
   ]
  },
  {
   "cell_type": "markdown",
   "metadata": {},
   "source": [
    "## radial grid"
   ]
  },
  {
   "cell_type": "code",
   "execution_count": null,
   "metadata": {},
   "outputs": [
    {
     "name": "stdout",
     "output_type": "stream",
     "text": [
      "radial_no 128\n"
     ]
    },
    {
     "name": "stderr",
     "output_type": "stream",
     "text": [
      "100%|██████████| 50/50 [00:29<00:00,  1.70it/s]\n"
     ]
    },
    {
     "name": "stdout",
     "output_type": "stream",
     "text": [
      "radial_no 256\n"
     ]
    },
    {
     "name": "stderr",
     "output_type": "stream",
     "text": [
      "100%|██████████| 50/50 [00:46<00:00,  1.07it/s]\n"
     ]
    },
    {
     "name": "stdout",
     "output_type": "stream",
     "text": [
      "radial_no 512\n"
     ]
    },
    {
     "name": "stderr",
     "output_type": "stream",
     "text": [
      "100%|██████████| 50/50 [01:12<00:00,  1.44s/it]\n"
     ]
    },
    {
     "name": "stdout",
     "output_type": "stream",
     "text": [
      "radial_no 1024\n"
     ]
    },
    {
     "name": "stderr",
     "output_type": "stream",
     "text": [
      "100%|██████████| 50/50 [02:00<00:00,  2.40s/it]\n"
     ]
    },
    {
     "name": "stdout",
     "output_type": "stream",
     "text": [
      "radial_no 2048\n"
     ]
    },
    {
     "name": "stderr",
     "output_type": "stream",
     "text": [
      "100%|██████████| 50/50 [04:06<00:00,  4.93s/it]\n"
     ]
    },
    {
     "name": "stdout",
     "output_type": "stream",
     "text": [
      "radial_no 4096\n"
     ]
    },
    {
     "name": "stderr",
     "output_type": "stream",
     "text": [
      "100%|██████████| 50/50 [07:22<00:00,  8.84s/it]\n"
     ]
    },
    {
     "name": "stdout",
     "output_type": "stream",
     "text": [
      "radial_no 128\n"
     ]
    },
    {
     "name": "stderr",
     "output_type": "stream",
     "text": [
      "100%|██████████| 50/50 [00:28<00:00,  1.78it/s]\n"
     ]
    },
    {
     "name": "stdout",
     "output_type": "stream",
     "text": [
      "radial_no 256\n"
     ]
    },
    {
     "name": "stderr",
     "output_type": "stream",
     "text": [
      "100%|██████████| 50/50 [00:46<00:00,  1.08it/s]\n"
     ]
    },
    {
     "name": "stdout",
     "output_type": "stream",
     "text": [
      "radial_no 512\n"
     ]
    },
    {
     "name": "stderr",
     "output_type": "stream",
     "text": [
      "100%|██████████| 50/50 [01:11<00:00,  1.43s/it]\n"
     ]
    },
    {
     "name": "stdout",
     "output_type": "stream",
     "text": [
      "radial_no 1024\n"
     ]
    },
    {
     "name": "stderr",
     "output_type": "stream",
     "text": [
      "100%|██████████| 50/50 [02:01<00:00,  2.42s/it]\n"
     ]
    },
    {
     "name": "stdout",
     "output_type": "stream",
     "text": [
      "radial_no 2048\n"
     ]
    },
    {
     "name": "stderr",
     "output_type": "stream",
     "text": [
      "100%|██████████| 50/50 [04:08<00:00,  4.97s/it]\n"
     ]
    },
    {
     "name": "stdout",
     "output_type": "stream",
     "text": [
      "radial_no 4096\n"
     ]
    },
    {
     "name": "stderr",
     "output_type": "stream",
     "text": [
      "100%|██████████| 50/50 [07:27<00:00,  8.95s/it]\n"
     ]
    },
    {
     "name": "stdout",
     "output_type": "stream",
     "text": [
      "radial_no 128\n"
     ]
    },
    {
     "name": "stderr",
     "output_type": "stream",
     "text": [
      "100%|██████████| 50/50 [00:28<00:00,  1.74it/s]\n"
     ]
    },
    {
     "name": "stdout",
     "output_type": "stream",
     "text": [
      "radial_no 256\n"
     ]
    },
    {
     "name": "stderr",
     "output_type": "stream",
     "text": [
      "100%|██████████| 50/50 [00:46<00:00,  1.08it/s]\n"
     ]
    },
    {
     "name": "stdout",
     "output_type": "stream",
     "text": [
      "radial_no 512\n"
     ]
    },
    {
     "name": "stderr",
     "output_type": "stream",
     "text": [
      "100%|██████████| 50/50 [01:12<00:00,  1.44s/it]\n"
     ]
    },
    {
     "name": "stdout",
     "output_type": "stream",
     "text": [
      "radial_no 1024\n"
     ]
    },
    {
     "name": "stderr",
     "output_type": "stream",
     "text": [
      "100%|██████████| 50/50 [02:02<00:00,  2.44s/it]\n"
     ]
    },
    {
     "name": "stdout",
     "output_type": "stream",
     "text": [
      "radial_no 2048\n"
     ]
    },
    {
     "name": "stderr",
     "output_type": "stream",
     "text": [
      "100%|██████████| 50/50 [04:04<00:00,  4.90s/it]\n"
     ]
    },
    {
     "name": "stdout",
     "output_type": "stream",
     "text": [
      "radial_no 4096\n"
     ]
    },
    {
     "name": "stderr",
     "output_type": "stream",
     "text": [
      "100%|██████████| 50/50 [07:23<00:00,  8.86s/it]\n"
     ]
    }
   ],
   "source": [
    "r_sizes = [128, 256, 512, 1024, 2048, 4096]\n",
    "\n",
    "for j_init, omega_init in j_omega_pairs:\n",
    "    for r_no in r_sizes:\n",
    "        print(\"radial_no\", r_no)\n",
    "        losses = CumulativeLosses(j_init)\n",
    "\n",
    "        for j_tot in tqdm(losses.j_totals):\n",
    "            propagation = Propagation(\"standard\", j_init, omega_init, j_tot)\n",
    "            propagation.config.r_no = r_no\n",
    "            propagation = propagation.into_split()\n",
    "\n",
    "            propagation.propagate()\n",
    "            losses.extract_loss(propagation)\n",
    "        losses.save_losses(f\"radial_scaling_{r_no}_{j_init}_{omega_init}\")"
   ]
  },
  {
   "cell_type": "markdown",
   "metadata": {},
   "source": [
    "## polar grid"
   ]
  },
  {
   "cell_type": "code",
   "execution_count": null,
   "metadata": {},
   "outputs": [
    {
     "name": "stdout",
     "output_type": "stream",
     "text": [
      "polar_no 32\n"
     ]
    },
    {
     "name": "stderr",
     "output_type": "stream",
     "text": [
      "100%|██████████| 50/50 [00:22<00:00,  2.26it/s]\n"
     ]
    },
    {
     "name": "stdout",
     "output_type": "stream",
     "text": [
      "polar_no 64\n"
     ]
    },
    {
     "name": "stderr",
     "output_type": "stream",
     "text": [
      "100%|██████████| 50/50 [00:37<00:00,  1.32it/s]\n"
     ]
    },
    {
     "name": "stdout",
     "output_type": "stream",
     "text": [
      "polar_no 128\n"
     ]
    },
    {
     "name": "stderr",
     "output_type": "stream",
     "text": [
      "100%|██████████| 50/50 [01:11<00:00,  1.42s/it]\n"
     ]
    },
    {
     "name": "stdout",
     "output_type": "stream",
     "text": [
      "polar_no 256\n"
     ]
    },
    {
     "name": "stderr",
     "output_type": "stream",
     "text": [
      "100%|██████████| 50/50 [02:47<00:00,  3.35s/it]\n"
     ]
    },
    {
     "name": "stdout",
     "output_type": "stream",
     "text": [
      "polar_no 512\n"
     ]
    },
    {
     "name": "stderr",
     "output_type": "stream",
     "text": [
      "100%|██████████| 50/50 [08:19<00:00,  9.99s/it]\n"
     ]
    },
    {
     "name": "stdout",
     "output_type": "stream",
     "text": [
      "polar_no 32\n"
     ]
    },
    {
     "name": "stderr",
     "output_type": "stream",
     "text": [
      "100%|██████████| 50/50 [00:22<00:00,  2.20it/s]\n"
     ]
    },
    {
     "name": "stdout",
     "output_type": "stream",
     "text": [
      "polar_no 64\n"
     ]
    },
    {
     "name": "stderr",
     "output_type": "stream",
     "text": [
      "100%|██████████| 50/50 [00:38<00:00,  1.29it/s]\n"
     ]
    },
    {
     "name": "stdout",
     "output_type": "stream",
     "text": [
      "polar_no 128\n"
     ]
    },
    {
     "name": "stderr",
     "output_type": "stream",
     "text": [
      "100%|██████████| 50/50 [01:12<00:00,  1.46s/it]\n"
     ]
    },
    {
     "name": "stdout",
     "output_type": "stream",
     "text": [
      "polar_no 256\n"
     ]
    },
    {
     "name": "stderr",
     "output_type": "stream",
     "text": [
      "100%|██████████| 50/50 [02:53<00:00,  3.46s/it]\n"
     ]
    },
    {
     "name": "stdout",
     "output_type": "stream",
     "text": [
      "polar_no 512\n"
     ]
    },
    {
     "name": "stderr",
     "output_type": "stream",
     "text": [
      "100%|██████████| 50/50 [08:16<00:00,  9.92s/it]\n"
     ]
    },
    {
     "name": "stdout",
     "output_type": "stream",
     "text": [
      "polar_no 32\n"
     ]
    },
    {
     "name": "stderr",
     "output_type": "stream",
     "text": [
      "100%|██████████| 50/50 [00:21<00:00,  2.36it/s]\n"
     ]
    },
    {
     "name": "stdout",
     "output_type": "stream",
     "text": [
      "polar_no 64\n"
     ]
    },
    {
     "name": "stderr",
     "output_type": "stream",
     "text": [
      "100%|██████████| 50/50 [00:37<00:00,  1.32it/s]\n"
     ]
    },
    {
     "name": "stdout",
     "output_type": "stream",
     "text": [
      "polar_no 128\n"
     ]
    },
    {
     "name": "stderr",
     "output_type": "stream",
     "text": [
      "100%|██████████| 50/50 [01:11<00:00,  1.42s/it]\n"
     ]
    },
    {
     "name": "stdout",
     "output_type": "stream",
     "text": [
      "polar_no 256\n"
     ]
    },
    {
     "name": "stderr",
     "output_type": "stream",
     "text": [
      "100%|██████████| 50/50 [02:50<00:00,  3.42s/it]\n"
     ]
    },
    {
     "name": "stdout",
     "output_type": "stream",
     "text": [
      "polar_no 512\n"
     ]
    },
    {
     "name": "stderr",
     "output_type": "stream",
     "text": [
      "100%|██████████| 50/50 [08:13<00:00,  9.87s/it]\n"
     ]
    }
   ],
   "source": [
    "polar_sizes = [32, 64, 128, 256, 512]\n",
    "\n",
    "for j_init, omega_init in j_omega_pairs:\n",
    "    for polar_no in polar_sizes:\n",
    "        print(\"polar_no\", polar_no)\n",
    "        losses = CumulativeLosses(j_init)\n",
    "\n",
    "        for j_tot in tqdm(losses.j_totals):\n",
    "            propagation = Propagation(\"standard\", j_init, omega_init, j_tot)\n",
    "            propagation.config.polar_no = polar_no\n",
    "            propagation = propagation.into_split()\n",
    "\n",
    "            propagation.propagate()\n",
    "            losses.extract_loss(propagation)\n",
    "        losses.save_losses(f\"polar_scaling_{polar_no}_{j_init}_{omega_init}\")"
   ]
  },
  {
   "cell_type": "markdown",
   "metadata": {},
   "source": [
    "## wave width"
   ]
  },
  {
   "cell_type": "code",
   "execution_count": null,
   "metadata": {},
   "outputs": [
    {
     "name": "stdout",
     "output_type": "stream",
     "text": [
      "wave width 0.1\n"
     ]
    },
    {
     "name": "stderr",
     "output_type": "stream",
     "text": [
      "100%|██████████| 50/50 [01:12<00:00,  1.45s/it]\n"
     ]
    },
    {
     "name": "stdout",
     "output_type": "stream",
     "text": [
      "wave width 0.3\n"
     ]
    },
    {
     "name": "stderr",
     "output_type": "stream",
     "text": [
      "100%|██████████| 50/50 [01:10<00:00,  1.41s/it]\n"
     ]
    },
    {
     "name": "stdout",
     "output_type": "stream",
     "text": [
      "wave width 0.6\n"
     ]
    },
    {
     "name": "stderr",
     "output_type": "stream",
     "text": [
      "100%|██████████| 50/50 [01:10<00:00,  1.41s/it]\n"
     ]
    },
    {
     "name": "stdout",
     "output_type": "stream",
     "text": [
      "wave width 1\n"
     ]
    },
    {
     "name": "stderr",
     "output_type": "stream",
     "text": [
      "100%|██████████| 50/50 [01:11<00:00,  1.43s/it]\n"
     ]
    },
    {
     "name": "stdout",
     "output_type": "stream",
     "text": [
      "wave width 2\n"
     ]
    },
    {
     "name": "stderr",
     "output_type": "stream",
     "text": [
      "100%|██████████| 50/50 [01:11<00:00,  1.44s/it]\n"
     ]
    },
    {
     "name": "stdout",
     "output_type": "stream",
     "text": [
      "wave width 4\n"
     ]
    },
    {
     "name": "stderr",
     "output_type": "stream",
     "text": [
      "100%|██████████| 50/50 [01:10<00:00,  1.42s/it]\n"
     ]
    },
    {
     "name": "stdout",
     "output_type": "stream",
     "text": [
      "wave width 0.1\n"
     ]
    },
    {
     "name": "stderr",
     "output_type": "stream",
     "text": [
      "100%|██████████| 50/50 [01:10<00:00,  1.42s/it]\n"
     ]
    },
    {
     "name": "stdout",
     "output_type": "stream",
     "text": [
      "wave width 0.3\n"
     ]
    },
    {
     "name": "stderr",
     "output_type": "stream",
     "text": [
      "100%|██████████| 50/50 [01:10<00:00,  1.41s/it]\n"
     ]
    },
    {
     "name": "stdout",
     "output_type": "stream",
     "text": [
      "wave width 0.6\n"
     ]
    },
    {
     "name": "stderr",
     "output_type": "stream",
     "text": [
      "100%|██████████| 50/50 [01:10<00:00,  1.41s/it]\n"
     ]
    },
    {
     "name": "stdout",
     "output_type": "stream",
     "text": [
      "wave width 1\n"
     ]
    },
    {
     "name": "stderr",
     "output_type": "stream",
     "text": [
      "100%|██████████| 50/50 [01:10<00:00,  1.42s/it]\n"
     ]
    },
    {
     "name": "stdout",
     "output_type": "stream",
     "text": [
      "wave width 2\n"
     ]
    },
    {
     "name": "stderr",
     "output_type": "stream",
     "text": [
      "100%|██████████| 50/50 [01:10<00:00,  1.42s/it]\n"
     ]
    },
    {
     "name": "stdout",
     "output_type": "stream",
     "text": [
      "wave width 4\n"
     ]
    },
    {
     "name": "stderr",
     "output_type": "stream",
     "text": [
      "100%|██████████| 50/50 [01:10<00:00,  1.41s/it]\n"
     ]
    },
    {
     "name": "stdout",
     "output_type": "stream",
     "text": [
      "wave width 0.1\n"
     ]
    },
    {
     "name": "stderr",
     "output_type": "stream",
     "text": [
      "100%|██████████| 50/50 [01:11<00:00,  1.42s/it]\n"
     ]
    },
    {
     "name": "stdout",
     "output_type": "stream",
     "text": [
      "wave width 0.3\n"
     ]
    },
    {
     "name": "stderr",
     "output_type": "stream",
     "text": [
      "100%|██████████| 50/50 [01:10<00:00,  1.42s/it]\n"
     ]
    },
    {
     "name": "stdout",
     "output_type": "stream",
     "text": [
      "wave width 0.6\n"
     ]
    },
    {
     "name": "stderr",
     "output_type": "stream",
     "text": [
      "100%|██████████| 50/50 [01:10<00:00,  1.42s/it]\n"
     ]
    },
    {
     "name": "stdout",
     "output_type": "stream",
     "text": [
      "wave width 1\n"
     ]
    },
    {
     "name": "stderr",
     "output_type": "stream",
     "text": [
      "100%|██████████| 50/50 [01:10<00:00,  1.42s/it]\n"
     ]
    },
    {
     "name": "stdout",
     "output_type": "stream",
     "text": [
      "wave width 2\n"
     ]
    },
    {
     "name": "stderr",
     "output_type": "stream",
     "text": [
      "100%|██████████| 50/50 [01:10<00:00,  1.42s/it]\n"
     ]
    },
    {
     "name": "stdout",
     "output_type": "stream",
     "text": [
      "wave width 4\n"
     ]
    },
    {
     "name": "stderr",
     "output_type": "stream",
     "text": [
      "100%|██████████| 50/50 [01:10<00:00,  1.42s/it]\n"
     ]
    }
   ],
   "source": [
    "widths = [0.1, 0.3, 0.6, 1, 2, 4]\n",
    "\n",
    "for j_init, omega_init in j_omega_pairs:\n",
    "    for width in widths:\n",
    "        print(\"wave width\", width)\n",
    "        losses = CumulativeLosses(j_init)\n",
    "\n",
    "        for j_tot in tqdm(losses.j_totals):\n",
    "            propagation = Propagation(\"standard\", j_init, omega_init, j_tot)\n",
    "            propagation.params.wave_r_sigma = width\n",
    "            propagation = propagation.into_split()\n",
    "\n",
    "            propagation.propagate()\n",
    "            losses.extract_loss(propagation)\n",
    "        losses.save_losses(f\"width_scaling_{width}_{j_init}_{omega_init}\")"
   ]
  },
  {
   "cell_type": "markdown",
   "metadata": {},
   "source": [
    "## Coriolis time step"
   ]
  },
  {
   "cell_type": "code",
   "execution_count": null,
   "metadata": {},
   "outputs": [
    {
     "name": "stdout",
     "output_type": "stream",
     "text": [
      "time_step 1600.0\n"
     ]
    },
    {
     "name": "stderr",
     "output_type": "stream",
     "text": [
      "100%|██████████| 50/50 [01:01<00:00,  1.23s/it]\n"
     ]
    },
    {
     "name": "stdout",
     "output_type": "stream",
     "text": [
      "time_step 1600.0\n"
     ]
    },
    {
     "name": "stderr",
     "output_type": "stream",
     "text": [
      "100%|██████████| 50/50 [01:00<00:00,  1.22s/it]\n"
     ]
    },
    {
     "name": "stdout",
     "output_type": "stream",
     "text": [
      "time_step 1600.0\n"
     ]
    },
    {
     "name": "stderr",
     "output_type": "stream",
     "text": [
      "100%|██████████| 50/50 [01:00<00:00,  1.21s/it]\n"
     ]
    }
   ],
   "source": [
    "time_steps = [100., 200., 400., 800., 1600.]\n",
    "\n",
    "for j_init, omega_init in j_omega_pairs:\n",
    "    for time_step in time_steps:\n",
    "        print(\"time_step\", time_step)\n",
    "        losses = CumulativeLosses(j_init)\n",
    "        \n",
    "        for j_tot in tqdm(losses.j_totals):\n",
    "            propagation = Propagation(\"standard\", j_init, omega_init, j_tot)\n",
    "            propagation.config.coriolis_omega_max = 2\n",
    "            propagation.config.steps_no = int(propagation.config.steps_no * propagation.config.time_step / time_step)\n",
    "            propagation.config.time_step = time_step\n",
    "            propagation = propagation.into_split()\n",
    "\n",
    "            propagation.propagate()\n",
    "            losses.extract_loss(propagation)\n",
    "        losses.save_losses(f\"coriolis_time_step_{time_step}_{j_init}_{omega_init}\")"
   ]
  }
 ],
 "metadata": {
  "kernelspec": {
   "display_name": "Python 3",
   "language": "python",
   "name": "python3"
  },
  "language_info": {
   "codemirror_mode": {
    "name": "ipython",
    "version": 3
   },
   "file_extension": ".py",
   "mimetype": "text/x-python",
   "name": "python",
   "nbconvert_exporter": "python",
   "pygments_lexer": "ipython3",
   "version": "3.12.0"
  }
 },
 "nbformat": 4,
 "nbformat_minor": 2
}
